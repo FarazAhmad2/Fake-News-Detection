{
  "cells": [
    {
      "cell_type": "markdown",
      "source": [
        "#### We have used 4 different datasets in this project. We first split each dataset into train and test set. After splitting, we merge train set of each dataset and shuffle them. For ML modelling, we again split this new dataset into train and validation set. Then we test this model on individual test sets (that we created in the beginning)."
      ],
      "metadata": {
        "id": "BlXgdIFlp7Av"
      }
    },
    {
      "cell_type": "code",
      "execution_count": 1,
      "metadata": {
        "id": "rt303Tk07Iy8"
      },
      "outputs": [],
      "source": [
        "import numpy as np       \n",
        "import pandas as pd       \n",
        "import matplotlib.pyplot as plt   # for data visualisation\n",
        "import itertools\n",
        "import re   # for string operations\n",
        "\n",
        "# machine learning models\n",
        "from sklearn.linear_model import LogisticRegression\n",
        "from sklearn.ensemble import RandomForestClassifier\n",
        "# hyperparameter tuning \n",
        "from sklearn.model_selection import GridSearchCV,RandomizedSearchCV\n",
        "from sklearn.model_selection import train_test_split    # train test split\n",
        "# evaluation metrics\n",
        "from sklearn.metrics import classification_report, accuracy_score, roc_curve, auc, confusion_matrix\n",
        "# transforming text into numerical format\n",
        "from sklearn.feature_extraction.text import TfidfVectorizer\n",
        "\n",
        "import warnings\n",
        "warnings.filterwarnings('ignore')"
      ]
    },
    {
      "cell_type": "code",
      "execution_count": 2,
      "metadata": {
        "colab": {
          "base_uri": "https://localhost:8080/"
        },
        "id": "Rcl12za094GY",
        "outputId": "2b12dc02-a99e-4f2a-cebc-e126a47d9068"
      },
      "outputs": [
        {
          "output_type": "stream",
          "name": "stdout",
          "text": [
            "Looking in indexes: https://pypi.org/simple, https://us-python.pkg.dev/colab-wheels/public/simple/\n",
            "Collecting scikit-optimize\n",
            "  Downloading scikit_optimize-0.9.0-py2.py3-none-any.whl (100 kB)\n",
            "\u001b[2K     \u001b[90m━━━━━━━━━━━━━━━━━━━━━━━━━━━━━━━━━━━━━━━\u001b[0m \u001b[32m100.3/100.3 KB\u001b[0m \u001b[31m3.4 MB/s\u001b[0m eta \u001b[36m0:00:00\u001b[0m\n",
            "\u001b[?25hRequirement already satisfied: scikit-learn>=0.20.0 in /usr/local/lib/python3.8/dist-packages (from scikit-optimize) (1.0.2)\n",
            "Requirement already satisfied: joblib>=0.11 in /usr/local/lib/python3.8/dist-packages (from scikit-optimize) (1.2.0)\n",
            "Collecting pyaml>=16.9\n",
            "  Downloading pyaml-21.10.1-py2.py3-none-any.whl (24 kB)\n",
            "Requirement already satisfied: numpy>=1.13.3 in /usr/local/lib/python3.8/dist-packages (from scikit-optimize) (1.21.6)\n",
            "Requirement already satisfied: scipy>=0.19.1 in /usr/local/lib/python3.8/dist-packages (from scikit-optimize) (1.7.3)\n",
            "Requirement already satisfied: PyYAML in /usr/local/lib/python3.8/dist-packages (from pyaml>=16.9->scikit-optimize) (6.0)\n",
            "Requirement already satisfied: threadpoolctl>=2.0.0 in /usr/local/lib/python3.8/dist-packages (from scikit-learn>=0.20.0->scikit-optimize) (3.1.0)\n",
            "Installing collected packages: pyaml, scikit-optimize\n",
            "Successfully installed pyaml-21.10.1 scikit-optimize-0.9.0\n"
          ]
        }
      ],
      "source": [
        "!pip install scikit-optimize"
      ]
    },
    {
      "cell_type": "code",
      "execution_count": 3,
      "metadata": {
        "id": "SXEZaxde9_kP"
      },
      "outputs": [],
      "source": [
        "from skopt import BayesSearchCV\n",
        "from skopt.space import Real, Categorical, Integer"
      ]
    },
    {
      "cell_type": "code",
      "execution_count": 4,
      "metadata": {
        "colab": {
          "base_uri": "https://localhost:8080/"
        },
        "id": "YRZeCGxb7QCI",
        "outputId": "69a9c0ce-4a0b-43fd-b0cd-2b9e8f2c1ff7"
      },
      "outputs": [
        {
          "output_type": "stream",
          "name": "stdout",
          "text": [
            "Mounted at /content/drive\n"
          ]
        }
      ],
      "source": [
        "from google.colab import drive\n",
        "drive.mount('/content/drive')"
      ]
    },
    {
      "cell_type": "markdown",
      "metadata": {
        "id": "iKs77ZWkjazw"
      },
      "source": [
        "# <b> Splitting the datasets into train and test </b>"
      ]
    },
    {
      "cell_type": "code",
      "execution_count": 5,
      "metadata": {
        "colab": {
          "base_uri": "https://localhost:8080/",
          "height": 206
        },
        "id": "575XvzBMLDvl",
        "outputId": "6d8175b7-3edc-40f4-b572-9244e46e7a92"
      },
      "outputs": [
        {
          "output_type": "execute_result",
          "data": {
            "text/plain": [
              "   id                                              title              author  \\\n",
              "0   0  House Dem Aide: We Didn’t Even See Comey’s Let...       Darrell Lucus   \n",
              "1   1  FLYNN: Hillary Clinton, Big Woman on Campus - ...     Daniel J. Flynn   \n",
              "2   2                  Why the Truth Might Get You Fired  Consortiumnews.com   \n",
              "3   3  15 Civilians Killed In Single US Airstrike Hav...     Jessica Purkiss   \n",
              "4   4  Iranian woman jailed for fictional unpublished...      Howard Portnoy   \n",
              "\n",
              "                                                text  label  \n",
              "0  House Dem Aide: We Didn’t Even See Comey’s Let...      1  \n",
              "1  Ever get the feeling your life circles the rou...      0  \n",
              "2  Why the Truth Might Get You Fired October 29, ...      1  \n",
              "3  Videos 15 Civilians Killed In Single US Airstr...      1  \n",
              "4  Print \\nAn Iranian woman has been sentenced to...      1  "
            ],
            "text/html": [
              "\n",
              "  <div id=\"df-722f7733-c5e5-4c58-8ded-8f1d3c203d09\">\n",
              "    <div class=\"colab-df-container\">\n",
              "      <div>\n",
              "<style scoped>\n",
              "    .dataframe tbody tr th:only-of-type {\n",
              "        vertical-align: middle;\n",
              "    }\n",
              "\n",
              "    .dataframe tbody tr th {\n",
              "        vertical-align: top;\n",
              "    }\n",
              "\n",
              "    .dataframe thead th {\n",
              "        text-align: right;\n",
              "    }\n",
              "</style>\n",
              "<table border=\"1\" class=\"dataframe\">\n",
              "  <thead>\n",
              "    <tr style=\"text-align: right;\">\n",
              "      <th></th>\n",
              "      <th>id</th>\n",
              "      <th>title</th>\n",
              "      <th>author</th>\n",
              "      <th>text</th>\n",
              "      <th>label</th>\n",
              "    </tr>\n",
              "  </thead>\n",
              "  <tbody>\n",
              "    <tr>\n",
              "      <th>0</th>\n",
              "      <td>0</td>\n",
              "      <td>House Dem Aide: We Didn’t Even See Comey’s Let...</td>\n",
              "      <td>Darrell Lucus</td>\n",
              "      <td>House Dem Aide: We Didn’t Even See Comey’s Let...</td>\n",
              "      <td>1</td>\n",
              "    </tr>\n",
              "    <tr>\n",
              "      <th>1</th>\n",
              "      <td>1</td>\n",
              "      <td>FLYNN: Hillary Clinton, Big Woman on Campus - ...</td>\n",
              "      <td>Daniel J. Flynn</td>\n",
              "      <td>Ever get the feeling your life circles the rou...</td>\n",
              "      <td>0</td>\n",
              "    </tr>\n",
              "    <tr>\n",
              "      <th>2</th>\n",
              "      <td>2</td>\n",
              "      <td>Why the Truth Might Get You Fired</td>\n",
              "      <td>Consortiumnews.com</td>\n",
              "      <td>Why the Truth Might Get You Fired October 29, ...</td>\n",
              "      <td>1</td>\n",
              "    </tr>\n",
              "    <tr>\n",
              "      <th>3</th>\n",
              "      <td>3</td>\n",
              "      <td>15 Civilians Killed In Single US Airstrike Hav...</td>\n",
              "      <td>Jessica Purkiss</td>\n",
              "      <td>Videos 15 Civilians Killed In Single US Airstr...</td>\n",
              "      <td>1</td>\n",
              "    </tr>\n",
              "    <tr>\n",
              "      <th>4</th>\n",
              "      <td>4</td>\n",
              "      <td>Iranian woman jailed for fictional unpublished...</td>\n",
              "      <td>Howard Portnoy</td>\n",
              "      <td>Print \\nAn Iranian woman has been sentenced to...</td>\n",
              "      <td>1</td>\n",
              "    </tr>\n",
              "  </tbody>\n",
              "</table>\n",
              "</div>\n",
              "      <button class=\"colab-df-convert\" onclick=\"convertToInteractive('df-722f7733-c5e5-4c58-8ded-8f1d3c203d09')\"\n",
              "              title=\"Convert this dataframe to an interactive table.\"\n",
              "              style=\"display:none;\">\n",
              "        \n",
              "  <svg xmlns=\"http://www.w3.org/2000/svg\" height=\"24px\"viewBox=\"0 0 24 24\"\n",
              "       width=\"24px\">\n",
              "    <path d=\"M0 0h24v24H0V0z\" fill=\"none\"/>\n",
              "    <path d=\"M18.56 5.44l.94 2.06.94-2.06 2.06-.94-2.06-.94-.94-2.06-.94 2.06-2.06.94zm-11 1L8.5 8.5l.94-2.06 2.06-.94-2.06-.94L8.5 2.5l-.94 2.06-2.06.94zm10 10l.94 2.06.94-2.06 2.06-.94-2.06-.94-.94-2.06-.94 2.06-2.06.94z\"/><path d=\"M17.41 7.96l-1.37-1.37c-.4-.4-.92-.59-1.43-.59-.52 0-1.04.2-1.43.59L10.3 9.45l-7.72 7.72c-.78.78-.78 2.05 0 2.83L4 21.41c.39.39.9.59 1.41.59.51 0 1.02-.2 1.41-.59l7.78-7.78 2.81-2.81c.8-.78.8-2.07 0-2.86zM5.41 20L4 18.59l7.72-7.72 1.47 1.35L5.41 20z\"/>\n",
              "  </svg>\n",
              "      </button>\n",
              "      \n",
              "  <style>\n",
              "    .colab-df-container {\n",
              "      display:flex;\n",
              "      flex-wrap:wrap;\n",
              "      gap: 12px;\n",
              "    }\n",
              "\n",
              "    .colab-df-convert {\n",
              "      background-color: #E8F0FE;\n",
              "      border: none;\n",
              "      border-radius: 50%;\n",
              "      cursor: pointer;\n",
              "      display: none;\n",
              "      fill: #1967D2;\n",
              "      height: 32px;\n",
              "      padding: 0 0 0 0;\n",
              "      width: 32px;\n",
              "    }\n",
              "\n",
              "    .colab-df-convert:hover {\n",
              "      background-color: #E2EBFA;\n",
              "      box-shadow: 0px 1px 2px rgba(60, 64, 67, 0.3), 0px 1px 3px 1px rgba(60, 64, 67, 0.15);\n",
              "      fill: #174EA6;\n",
              "    }\n",
              "\n",
              "    [theme=dark] .colab-df-convert {\n",
              "      background-color: #3B4455;\n",
              "      fill: #D2E3FC;\n",
              "    }\n",
              "\n",
              "    [theme=dark] .colab-df-convert:hover {\n",
              "      background-color: #434B5C;\n",
              "      box-shadow: 0px 1px 3px 1px rgba(0, 0, 0, 0.15);\n",
              "      filter: drop-shadow(0px 1px 2px rgba(0, 0, 0, 0.3));\n",
              "      fill: #FFFFFF;\n",
              "    }\n",
              "  </style>\n",
              "\n",
              "      <script>\n",
              "        const buttonEl =\n",
              "          document.querySelector('#df-722f7733-c5e5-4c58-8ded-8f1d3c203d09 button.colab-df-convert');\n",
              "        buttonEl.style.display =\n",
              "          google.colab.kernel.accessAllowed ? 'block' : 'none';\n",
              "\n",
              "        async function convertToInteractive(key) {\n",
              "          const element = document.querySelector('#df-722f7733-c5e5-4c58-8ded-8f1d3c203d09');\n",
              "          const dataTable =\n",
              "            await google.colab.kernel.invokeFunction('convertToInteractive',\n",
              "                                                     [key], {});\n",
              "          if (!dataTable) return;\n",
              "\n",
              "          const docLinkHtml = 'Like what you see? Visit the ' +\n",
              "            '<a target=\"_blank\" href=https://colab.research.google.com/notebooks/data_table.ipynb>data table notebook</a>'\n",
              "            + ' to learn more about interactive tables.';\n",
              "          element.innerHTML = '';\n",
              "          dataTable['output_type'] = 'display_data';\n",
              "          await google.colab.output.renderOutput(dataTable, element);\n",
              "          const docLink = document.createElement('div');\n",
              "          docLink.innerHTML = docLinkHtml;\n",
              "          element.appendChild(docLink);\n",
              "        }\n",
              "      </script>\n",
              "    </div>\n",
              "  </div>\n",
              "  "
            ]
          },
          "metadata": {},
          "execution_count": 5
        }
      ],
      "source": [
        "# Dataset link:  https://www.kaggle.com/competitions/fake-news/data\n",
        "df1 = pd.read_csv('/content/drive/MyDrive/Colab Notebooks/Zummit Infolabs/Fake News Detection/train.csv')\n",
        "df1.head()"
      ]
    },
    {
      "cell_type": "code",
      "execution_count": 6,
      "metadata": {
        "id": "XDsfw2uiML43"
      },
      "outputs": [],
      "source": [
        "train1, test1 = train_test_split(df1, test_size=0.2, stratify=df1.label)"
      ]
    },
    {
      "cell_type": "code",
      "execution_count": 7,
      "metadata": {
        "colab": {
          "base_uri": "https://localhost:8080/",
          "height": 206
        },
        "id": "FSmviaZ1NtF4",
        "outputId": "1f04f972-bcb5-44f0-d4fa-b1adccc4b526"
      },
      "outputs": [
        {
          "output_type": "execute_result",
          "data": {
            "text/plain": [
              "   Unnamed: 0                                              title  \\\n",
              "0        8476                       You Can Smell Hillary’s Fear   \n",
              "1       10294  Watch The Exact Moment Paul Ryan Committed Pol...   \n",
              "2        3608        Kerry to go to Paris in gesture of sympathy   \n",
              "3       10142  Bernie supporters on Twitter erupt in anger ag...   \n",
              "4         875   The Battle of New York: Why This Primary Matters   \n",
              "\n",
              "                                                text label  \n",
              "0  Daniel Greenfield, a Shillman Journalism Fello...  FAKE  \n",
              "1  Google Pinterest Digg Linkedin Reddit Stumbleu...  FAKE  \n",
              "2  U.S. Secretary of State John F. Kerry said Mon...  REAL  \n",
              "3  — Kaydee King (@KaydeeKing) November 9, 2016 T...  FAKE  \n",
              "4  It's primary day in New York and front-runners...  REAL  "
            ],
            "text/html": [
              "\n",
              "  <div id=\"df-8a2af66e-a3ae-48cf-a2b1-822d5d2ea81d\">\n",
              "    <div class=\"colab-df-container\">\n",
              "      <div>\n",
              "<style scoped>\n",
              "    .dataframe tbody tr th:only-of-type {\n",
              "        vertical-align: middle;\n",
              "    }\n",
              "\n",
              "    .dataframe tbody tr th {\n",
              "        vertical-align: top;\n",
              "    }\n",
              "\n",
              "    .dataframe thead th {\n",
              "        text-align: right;\n",
              "    }\n",
              "</style>\n",
              "<table border=\"1\" class=\"dataframe\">\n",
              "  <thead>\n",
              "    <tr style=\"text-align: right;\">\n",
              "      <th></th>\n",
              "      <th>Unnamed: 0</th>\n",
              "      <th>title</th>\n",
              "      <th>text</th>\n",
              "      <th>label</th>\n",
              "    </tr>\n",
              "  </thead>\n",
              "  <tbody>\n",
              "    <tr>\n",
              "      <th>0</th>\n",
              "      <td>8476</td>\n",
              "      <td>You Can Smell Hillary’s Fear</td>\n",
              "      <td>Daniel Greenfield, a Shillman Journalism Fello...</td>\n",
              "      <td>FAKE</td>\n",
              "    </tr>\n",
              "    <tr>\n",
              "      <th>1</th>\n",
              "      <td>10294</td>\n",
              "      <td>Watch The Exact Moment Paul Ryan Committed Pol...</td>\n",
              "      <td>Google Pinterest Digg Linkedin Reddit Stumbleu...</td>\n",
              "      <td>FAKE</td>\n",
              "    </tr>\n",
              "    <tr>\n",
              "      <th>2</th>\n",
              "      <td>3608</td>\n",
              "      <td>Kerry to go to Paris in gesture of sympathy</td>\n",
              "      <td>U.S. Secretary of State John F. Kerry said Mon...</td>\n",
              "      <td>REAL</td>\n",
              "    </tr>\n",
              "    <tr>\n",
              "      <th>3</th>\n",
              "      <td>10142</td>\n",
              "      <td>Bernie supporters on Twitter erupt in anger ag...</td>\n",
              "      <td>— Kaydee King (@KaydeeKing) November 9, 2016 T...</td>\n",
              "      <td>FAKE</td>\n",
              "    </tr>\n",
              "    <tr>\n",
              "      <th>4</th>\n",
              "      <td>875</td>\n",
              "      <td>The Battle of New York: Why This Primary Matters</td>\n",
              "      <td>It's primary day in New York and front-runners...</td>\n",
              "      <td>REAL</td>\n",
              "    </tr>\n",
              "  </tbody>\n",
              "</table>\n",
              "</div>\n",
              "      <button class=\"colab-df-convert\" onclick=\"convertToInteractive('df-8a2af66e-a3ae-48cf-a2b1-822d5d2ea81d')\"\n",
              "              title=\"Convert this dataframe to an interactive table.\"\n",
              "              style=\"display:none;\">\n",
              "        \n",
              "  <svg xmlns=\"http://www.w3.org/2000/svg\" height=\"24px\"viewBox=\"0 0 24 24\"\n",
              "       width=\"24px\">\n",
              "    <path d=\"M0 0h24v24H0V0z\" fill=\"none\"/>\n",
              "    <path d=\"M18.56 5.44l.94 2.06.94-2.06 2.06-.94-2.06-.94-.94-2.06-.94 2.06-2.06.94zm-11 1L8.5 8.5l.94-2.06 2.06-.94-2.06-.94L8.5 2.5l-.94 2.06-2.06.94zm10 10l.94 2.06.94-2.06 2.06-.94-2.06-.94-.94-2.06-.94 2.06-2.06.94z\"/><path d=\"M17.41 7.96l-1.37-1.37c-.4-.4-.92-.59-1.43-.59-.52 0-1.04.2-1.43.59L10.3 9.45l-7.72 7.72c-.78.78-.78 2.05 0 2.83L4 21.41c.39.39.9.59 1.41.59.51 0 1.02-.2 1.41-.59l7.78-7.78 2.81-2.81c.8-.78.8-2.07 0-2.86zM5.41 20L4 18.59l7.72-7.72 1.47 1.35L5.41 20z\"/>\n",
              "  </svg>\n",
              "      </button>\n",
              "      \n",
              "  <style>\n",
              "    .colab-df-container {\n",
              "      display:flex;\n",
              "      flex-wrap:wrap;\n",
              "      gap: 12px;\n",
              "    }\n",
              "\n",
              "    .colab-df-convert {\n",
              "      background-color: #E8F0FE;\n",
              "      border: none;\n",
              "      border-radius: 50%;\n",
              "      cursor: pointer;\n",
              "      display: none;\n",
              "      fill: #1967D2;\n",
              "      height: 32px;\n",
              "      padding: 0 0 0 0;\n",
              "      width: 32px;\n",
              "    }\n",
              "\n",
              "    .colab-df-convert:hover {\n",
              "      background-color: #E2EBFA;\n",
              "      box-shadow: 0px 1px 2px rgba(60, 64, 67, 0.3), 0px 1px 3px 1px rgba(60, 64, 67, 0.15);\n",
              "      fill: #174EA6;\n",
              "    }\n",
              "\n",
              "    [theme=dark] .colab-df-convert {\n",
              "      background-color: #3B4455;\n",
              "      fill: #D2E3FC;\n",
              "    }\n",
              "\n",
              "    [theme=dark] .colab-df-convert:hover {\n",
              "      background-color: #434B5C;\n",
              "      box-shadow: 0px 1px 3px 1px rgba(0, 0, 0, 0.15);\n",
              "      filter: drop-shadow(0px 1px 2px rgba(0, 0, 0, 0.3));\n",
              "      fill: #FFFFFF;\n",
              "    }\n",
              "  </style>\n",
              "\n",
              "      <script>\n",
              "        const buttonEl =\n",
              "          document.querySelector('#df-8a2af66e-a3ae-48cf-a2b1-822d5d2ea81d button.colab-df-convert');\n",
              "        buttonEl.style.display =\n",
              "          google.colab.kernel.accessAllowed ? 'block' : 'none';\n",
              "\n",
              "        async function convertToInteractive(key) {\n",
              "          const element = document.querySelector('#df-8a2af66e-a3ae-48cf-a2b1-822d5d2ea81d');\n",
              "          const dataTable =\n",
              "            await google.colab.kernel.invokeFunction('convertToInteractive',\n",
              "                                                     [key], {});\n",
              "          if (!dataTable) return;\n",
              "\n",
              "          const docLinkHtml = 'Like what you see? Visit the ' +\n",
              "            '<a target=\"_blank\" href=https://colab.research.google.com/notebooks/data_table.ipynb>data table notebook</a>'\n",
              "            + ' to learn more about interactive tables.';\n",
              "          element.innerHTML = '';\n",
              "          dataTable['output_type'] = 'display_data';\n",
              "          await google.colab.output.renderOutput(dataTable, element);\n",
              "          const docLink = document.createElement('div');\n",
              "          docLink.innerHTML = docLinkHtml;\n",
              "          element.appendChild(docLink);\n",
              "        }\n",
              "      </script>\n",
              "    </div>\n",
              "  </div>\n",
              "  "
            ]
          },
          "metadata": {},
          "execution_count": 7
        }
      ],
      "source": [
        "# Dataset link:  https://drive.google.com/file/d/1er9NJTLUA3qnRuyhfzuN0XUsoIC4a-_q/view\n",
        "df2 = pd.read_csv('/content/drive/MyDrive/Colab Notebooks/Zummit Infolabs/Fake News Detection/news.csv')\n",
        "df2.head()"
      ]
    },
    {
      "cell_type": "code",
      "execution_count": 8,
      "metadata": {
        "id": "1xddBfxfOClr"
      },
      "outputs": [],
      "source": [
        "# encoding the target variable into numerical format\n",
        "encoder = {'label': {'FAKE':1, 'REAL':0}}\n",
        "df2 = df2.replace(encoder)"
      ]
    },
    {
      "cell_type": "code",
      "execution_count": 9,
      "metadata": {
        "id": "5D5D07H_ORf2"
      },
      "outputs": [],
      "source": [
        "train2, test2 = train_test_split(df2, test_size=0.2, stratify=df2.label)"
      ]
    },
    {
      "cell_type": "code",
      "execution_count": 10,
      "metadata": {
        "colab": {
          "base_uri": "https://localhost:8080/",
          "height": 206
        },
        "id": "F95sEM3xOusd",
        "outputId": "dc8d2a00-60da-47d1-aa59-8bfd6d7116ec"
      },
      "outputs": [
        {
          "output_type": "execute_result",
          "data": {
            "text/plain": [
              "      unit_id                                              title  \\\n",
              "0  1914947530  Syria attack symptoms consistent with nerve ag...   \n",
              "1  1914947532  Homs governor says U.S. attack caused deaths b...   \n",
              "2  1914947533    Death toll from Aleppo bomb attack at least 112   \n",
              "3  1914947534        Aleppo bomb blast kills six Syrian state TV   \n",
              "4  1914947535  29 Syria Rebels Dead in Fighting for Key Alepp...   \n",
              "\n",
              "                                                text source       date  \\\n",
              "0  Wed 05 Apr 2017 Syria attack symptoms consiste...    nna   4/5/2017   \n",
              "1  Fri 07 Apr 2017 at 0914 Homs governor says U.S...    nna   4/7/2017   \n",
              "2  Sun 16 Apr 2017 Death toll from Aleppo bomb at...    nna  4/16/2017   \n",
              "3  Wed 19 Apr 2017 Aleppo bomb blast kills six Sy...    nna  4/19/2017   \n",
              "4  Sun 10 Jul 2016 29 Syria Rebels Dead in Fighti...    nna  7/10/2016   \n",
              "\n",
              "  location  labels  \n",
              "0    idlib       0  \n",
              "1     homs       0  \n",
              "2   aleppo       0  \n",
              "3   aleppo       0  \n",
              "4   aleppo       0  "
            ],
            "text/html": [
              "\n",
              "  <div id=\"df-47422090-1247-4905-af4d-a2da95a604ab\">\n",
              "    <div class=\"colab-df-container\">\n",
              "      <div>\n",
              "<style scoped>\n",
              "    .dataframe tbody tr th:only-of-type {\n",
              "        vertical-align: middle;\n",
              "    }\n",
              "\n",
              "    .dataframe tbody tr th {\n",
              "        vertical-align: top;\n",
              "    }\n",
              "\n",
              "    .dataframe thead th {\n",
              "        text-align: right;\n",
              "    }\n",
              "</style>\n",
              "<table border=\"1\" class=\"dataframe\">\n",
              "  <thead>\n",
              "    <tr style=\"text-align: right;\">\n",
              "      <th></th>\n",
              "      <th>unit_id</th>\n",
              "      <th>title</th>\n",
              "      <th>text</th>\n",
              "      <th>source</th>\n",
              "      <th>date</th>\n",
              "      <th>location</th>\n",
              "      <th>labels</th>\n",
              "    </tr>\n",
              "  </thead>\n",
              "  <tbody>\n",
              "    <tr>\n",
              "      <th>0</th>\n",
              "      <td>1914947530</td>\n",
              "      <td>Syria attack symptoms consistent with nerve ag...</td>\n",
              "      <td>Wed 05 Apr 2017 Syria attack symptoms consiste...</td>\n",
              "      <td>nna</td>\n",
              "      <td>4/5/2017</td>\n",
              "      <td>idlib</td>\n",
              "      <td>0</td>\n",
              "    </tr>\n",
              "    <tr>\n",
              "      <th>1</th>\n",
              "      <td>1914947532</td>\n",
              "      <td>Homs governor says U.S. attack caused deaths b...</td>\n",
              "      <td>Fri 07 Apr 2017 at 0914 Homs governor says U.S...</td>\n",
              "      <td>nna</td>\n",
              "      <td>4/7/2017</td>\n",
              "      <td>homs</td>\n",
              "      <td>0</td>\n",
              "    </tr>\n",
              "    <tr>\n",
              "      <th>2</th>\n",
              "      <td>1914947533</td>\n",
              "      <td>Death toll from Aleppo bomb attack at least 112</td>\n",
              "      <td>Sun 16 Apr 2017 Death toll from Aleppo bomb at...</td>\n",
              "      <td>nna</td>\n",
              "      <td>4/16/2017</td>\n",
              "      <td>aleppo</td>\n",
              "      <td>0</td>\n",
              "    </tr>\n",
              "    <tr>\n",
              "      <th>3</th>\n",
              "      <td>1914947534</td>\n",
              "      <td>Aleppo bomb blast kills six Syrian state TV</td>\n",
              "      <td>Wed 19 Apr 2017 Aleppo bomb blast kills six Sy...</td>\n",
              "      <td>nna</td>\n",
              "      <td>4/19/2017</td>\n",
              "      <td>aleppo</td>\n",
              "      <td>0</td>\n",
              "    </tr>\n",
              "    <tr>\n",
              "      <th>4</th>\n",
              "      <td>1914947535</td>\n",
              "      <td>29 Syria Rebels Dead in Fighting for Key Alepp...</td>\n",
              "      <td>Sun 10 Jul 2016 29 Syria Rebels Dead in Fighti...</td>\n",
              "      <td>nna</td>\n",
              "      <td>7/10/2016</td>\n",
              "      <td>aleppo</td>\n",
              "      <td>0</td>\n",
              "    </tr>\n",
              "  </tbody>\n",
              "</table>\n",
              "</div>\n",
              "      <button class=\"colab-df-convert\" onclick=\"convertToInteractive('df-47422090-1247-4905-af4d-a2da95a604ab')\"\n",
              "              title=\"Convert this dataframe to an interactive table.\"\n",
              "              style=\"display:none;\">\n",
              "        \n",
              "  <svg xmlns=\"http://www.w3.org/2000/svg\" height=\"24px\"viewBox=\"0 0 24 24\"\n",
              "       width=\"24px\">\n",
              "    <path d=\"M0 0h24v24H0V0z\" fill=\"none\"/>\n",
              "    <path d=\"M18.56 5.44l.94 2.06.94-2.06 2.06-.94-2.06-.94-.94-2.06-.94 2.06-2.06.94zm-11 1L8.5 8.5l.94-2.06 2.06-.94-2.06-.94L8.5 2.5l-.94 2.06-2.06.94zm10 10l.94 2.06.94-2.06 2.06-.94-2.06-.94-.94-2.06-.94 2.06-2.06.94z\"/><path d=\"M17.41 7.96l-1.37-1.37c-.4-.4-.92-.59-1.43-.59-.52 0-1.04.2-1.43.59L10.3 9.45l-7.72 7.72c-.78.78-.78 2.05 0 2.83L4 21.41c.39.39.9.59 1.41.59.51 0 1.02-.2 1.41-.59l7.78-7.78 2.81-2.81c.8-.78.8-2.07 0-2.86zM5.41 20L4 18.59l7.72-7.72 1.47 1.35L5.41 20z\"/>\n",
              "  </svg>\n",
              "      </button>\n",
              "      \n",
              "  <style>\n",
              "    .colab-df-container {\n",
              "      display:flex;\n",
              "      flex-wrap:wrap;\n",
              "      gap: 12px;\n",
              "    }\n",
              "\n",
              "    .colab-df-convert {\n",
              "      background-color: #E8F0FE;\n",
              "      border: none;\n",
              "      border-radius: 50%;\n",
              "      cursor: pointer;\n",
              "      display: none;\n",
              "      fill: #1967D2;\n",
              "      height: 32px;\n",
              "      padding: 0 0 0 0;\n",
              "      width: 32px;\n",
              "    }\n",
              "\n",
              "    .colab-df-convert:hover {\n",
              "      background-color: #E2EBFA;\n",
              "      box-shadow: 0px 1px 2px rgba(60, 64, 67, 0.3), 0px 1px 3px 1px rgba(60, 64, 67, 0.15);\n",
              "      fill: #174EA6;\n",
              "    }\n",
              "\n",
              "    [theme=dark] .colab-df-convert {\n",
              "      background-color: #3B4455;\n",
              "      fill: #D2E3FC;\n",
              "    }\n",
              "\n",
              "    [theme=dark] .colab-df-convert:hover {\n",
              "      background-color: #434B5C;\n",
              "      box-shadow: 0px 1px 3px 1px rgba(0, 0, 0, 0.15);\n",
              "      filter: drop-shadow(0px 1px 2px rgba(0, 0, 0, 0.3));\n",
              "      fill: #FFFFFF;\n",
              "    }\n",
              "  </style>\n",
              "\n",
              "      <script>\n",
              "        const buttonEl =\n",
              "          document.querySelector('#df-47422090-1247-4905-af4d-a2da95a604ab button.colab-df-convert');\n",
              "        buttonEl.style.display =\n",
              "          google.colab.kernel.accessAllowed ? 'block' : 'none';\n",
              "\n",
              "        async function convertToInteractive(key) {\n",
              "          const element = document.querySelector('#df-47422090-1247-4905-af4d-a2da95a604ab');\n",
              "          const dataTable =\n",
              "            await google.colab.kernel.invokeFunction('convertToInteractive',\n",
              "                                                     [key], {});\n",
              "          if (!dataTable) return;\n",
              "\n",
              "          const docLinkHtml = 'Like what you see? Visit the ' +\n",
              "            '<a target=\"_blank\" href=https://colab.research.google.com/notebooks/data_table.ipynb>data table notebook</a>'\n",
              "            + ' to learn more about interactive tables.';\n",
              "          element.innerHTML = '';\n",
              "          dataTable['output_type'] = 'display_data';\n",
              "          await google.colab.output.renderOutput(dataTable, element);\n",
              "          const docLink = document.createElement('div');\n",
              "          docLink.innerHTML = docLinkHtml;\n",
              "          element.appendChild(docLink);\n",
              "        }\n",
              "      </script>\n",
              "    </div>\n",
              "  </div>\n",
              "  "
            ]
          },
          "metadata": {},
          "execution_count": 10
        }
      ],
      "source": [
        "# Dataset link:  https://www.kaggle.com/datasets/mohamadalhasan/a-fake-news-dataset-around-the-syrian-war\n",
        "df3 = pd.read_csv('/content/fake_news.csv',encoding='latin')\n",
        "df3.rename(columns={'article_title':'title', 'article_content':'text'}, inplace=True)\n",
        "df3.head() # 0 means FAKE news and 1 means TRUE news in this this dataset"
      ]
    },
    {
      "cell_type": "code",
      "execution_count": 11,
      "metadata": {
        "id": "o3ySKfAsPPNR"
      },
      "outputs": [],
      "source": [
        "# creating new target variable so that FAKE news are represented by 1 and TRUE news by 0\n",
        "df3['label'] = df3['labels'].apply(lambda x: 1 if x==0 else 0)"
      ]
    },
    {
      "cell_type": "code",
      "execution_count": 12,
      "metadata": {
        "id": "bLWq6xpHPZ4G"
      },
      "outputs": [],
      "source": [
        "train3, test3 = train_test_split(df3, test_size=0.2, stratify=df3.label)"
      ]
    },
    {
      "cell_type": "code",
      "execution_count": 13,
      "metadata": {
        "id": "FzIGf0uEPuPk"
      },
      "outputs": [],
      "source": [
        "# Dataset link:  https://www.kaggle.com/datasets/clmentbisaillon/fake-and-real-news-dataset\n",
        "fake_news = pd.read_csv('/content/drive/MyDrive/Colab Notebooks/Zummit Infolabs/Fake News Detection/Fake.csv')\n",
        "true_news = pd.read_csv('/content/drive/MyDrive/Colab Notebooks/Zummit Infolabs/Fake News Detection/True.csv')"
      ]
    },
    {
      "cell_type": "code",
      "execution_count": 14,
      "metadata": {
        "id": "NnqHo7dQP3cb"
      },
      "outputs": [],
      "source": [
        "# creating labels\n",
        "fake_news['label'] = 1\n",
        "true_news['label'] = 0\n",
        "\n",
        "# Mixing fake and true datasets\n",
        "df4 = pd.concat([true_news,fake_news])\n",
        "df4 = df4.sample(frac=1).reset_index(drop=True)"
      ]
    },
    {
      "cell_type": "code",
      "execution_count": 15,
      "metadata": {
        "colab": {
          "base_uri": "https://localhost:8080/",
          "height": 206
        },
        "id": "dSJbjZhTQAsK",
        "outputId": "a168199e-8208-406e-9ed0-5b9e12db360e"
      },
      "outputs": [
        {
          "output_type": "execute_result",
          "data": {
            "text/plain": [
              "                                               title  \\\n",
              "0  Mueller's Russia probe cost his office $3.2 mi...   \n",
              "1  OBAMA’S LAWLESS AMERICA: CA Police Tell Violen...   \n",
              "2   WATCH: ‘House’ Actor Hugh Laurie BURNS Trump ...   \n",
              "3  Lebanon president: Saudi also holding Hariri's...   \n",
              "4  Climate Change Pact Reached: Carbon Tax and Re...   \n",
              "\n",
              "                                                text       subject  \\\n",
              "0  WASHINGTON (Reuters) - U.S. Special Counsel Ro...  politicsNews   \n",
              "1  Barack Obama s legacy will be a divided, lawle...      politics   \n",
              "2  Meryl Streep and Viola Davis weren t the only ...          News   \n",
              "3  BEIRUT (Reuters) - Lebanese President Michel A...     worldnews   \n",
              "4  John Kerry and Al Gore are jubilant that we ve...      politics   \n",
              "\n",
              "                 date  label  \n",
              "0   December 5, 2017       0  \n",
              "1         Jun 3, 2016      1  \n",
              "2     January 9, 2017      1  \n",
              "3  November 15, 2017       0  \n",
              "4        Dec 12, 2015      1  "
            ],
            "text/html": [
              "\n",
              "  <div id=\"df-dbf9e6f2-8e28-4d76-8b8b-d6b4f578e4d7\">\n",
              "    <div class=\"colab-df-container\">\n",
              "      <div>\n",
              "<style scoped>\n",
              "    .dataframe tbody tr th:only-of-type {\n",
              "        vertical-align: middle;\n",
              "    }\n",
              "\n",
              "    .dataframe tbody tr th {\n",
              "        vertical-align: top;\n",
              "    }\n",
              "\n",
              "    .dataframe thead th {\n",
              "        text-align: right;\n",
              "    }\n",
              "</style>\n",
              "<table border=\"1\" class=\"dataframe\">\n",
              "  <thead>\n",
              "    <tr style=\"text-align: right;\">\n",
              "      <th></th>\n",
              "      <th>title</th>\n",
              "      <th>text</th>\n",
              "      <th>subject</th>\n",
              "      <th>date</th>\n",
              "      <th>label</th>\n",
              "    </tr>\n",
              "  </thead>\n",
              "  <tbody>\n",
              "    <tr>\n",
              "      <th>0</th>\n",
              "      <td>Mueller's Russia probe cost his office $3.2 mi...</td>\n",
              "      <td>WASHINGTON (Reuters) - U.S. Special Counsel Ro...</td>\n",
              "      <td>politicsNews</td>\n",
              "      <td>December 5, 2017</td>\n",
              "      <td>0</td>\n",
              "    </tr>\n",
              "    <tr>\n",
              "      <th>1</th>\n",
              "      <td>OBAMA’S LAWLESS AMERICA: CA Police Tell Violen...</td>\n",
              "      <td>Barack Obama s legacy will be a divided, lawle...</td>\n",
              "      <td>politics</td>\n",
              "      <td>Jun 3, 2016</td>\n",
              "      <td>1</td>\n",
              "    </tr>\n",
              "    <tr>\n",
              "      <th>2</th>\n",
              "      <td>WATCH: ‘House’ Actor Hugh Laurie BURNS Trump ...</td>\n",
              "      <td>Meryl Streep and Viola Davis weren t the only ...</td>\n",
              "      <td>News</td>\n",
              "      <td>January 9, 2017</td>\n",
              "      <td>1</td>\n",
              "    </tr>\n",
              "    <tr>\n",
              "      <th>3</th>\n",
              "      <td>Lebanon president: Saudi also holding Hariri's...</td>\n",
              "      <td>BEIRUT (Reuters) - Lebanese President Michel A...</td>\n",
              "      <td>worldnews</td>\n",
              "      <td>November 15, 2017</td>\n",
              "      <td>0</td>\n",
              "    </tr>\n",
              "    <tr>\n",
              "      <th>4</th>\n",
              "      <td>Climate Change Pact Reached: Carbon Tax and Re...</td>\n",
              "      <td>John Kerry and Al Gore are jubilant that we ve...</td>\n",
              "      <td>politics</td>\n",
              "      <td>Dec 12, 2015</td>\n",
              "      <td>1</td>\n",
              "    </tr>\n",
              "  </tbody>\n",
              "</table>\n",
              "</div>\n",
              "      <button class=\"colab-df-convert\" onclick=\"convertToInteractive('df-dbf9e6f2-8e28-4d76-8b8b-d6b4f578e4d7')\"\n",
              "              title=\"Convert this dataframe to an interactive table.\"\n",
              "              style=\"display:none;\">\n",
              "        \n",
              "  <svg xmlns=\"http://www.w3.org/2000/svg\" height=\"24px\"viewBox=\"0 0 24 24\"\n",
              "       width=\"24px\">\n",
              "    <path d=\"M0 0h24v24H0V0z\" fill=\"none\"/>\n",
              "    <path d=\"M18.56 5.44l.94 2.06.94-2.06 2.06-.94-2.06-.94-.94-2.06-.94 2.06-2.06.94zm-11 1L8.5 8.5l.94-2.06 2.06-.94-2.06-.94L8.5 2.5l-.94 2.06-2.06.94zm10 10l.94 2.06.94-2.06 2.06-.94-2.06-.94-.94-2.06-.94 2.06-2.06.94z\"/><path d=\"M17.41 7.96l-1.37-1.37c-.4-.4-.92-.59-1.43-.59-.52 0-1.04.2-1.43.59L10.3 9.45l-7.72 7.72c-.78.78-.78 2.05 0 2.83L4 21.41c.39.39.9.59 1.41.59.51 0 1.02-.2 1.41-.59l7.78-7.78 2.81-2.81c.8-.78.8-2.07 0-2.86zM5.41 20L4 18.59l7.72-7.72 1.47 1.35L5.41 20z\"/>\n",
              "  </svg>\n",
              "      </button>\n",
              "      \n",
              "  <style>\n",
              "    .colab-df-container {\n",
              "      display:flex;\n",
              "      flex-wrap:wrap;\n",
              "      gap: 12px;\n",
              "    }\n",
              "\n",
              "    .colab-df-convert {\n",
              "      background-color: #E8F0FE;\n",
              "      border: none;\n",
              "      border-radius: 50%;\n",
              "      cursor: pointer;\n",
              "      display: none;\n",
              "      fill: #1967D2;\n",
              "      height: 32px;\n",
              "      padding: 0 0 0 0;\n",
              "      width: 32px;\n",
              "    }\n",
              "\n",
              "    .colab-df-convert:hover {\n",
              "      background-color: #E2EBFA;\n",
              "      box-shadow: 0px 1px 2px rgba(60, 64, 67, 0.3), 0px 1px 3px 1px rgba(60, 64, 67, 0.15);\n",
              "      fill: #174EA6;\n",
              "    }\n",
              "\n",
              "    [theme=dark] .colab-df-convert {\n",
              "      background-color: #3B4455;\n",
              "      fill: #D2E3FC;\n",
              "    }\n",
              "\n",
              "    [theme=dark] .colab-df-convert:hover {\n",
              "      background-color: #434B5C;\n",
              "      box-shadow: 0px 1px 3px 1px rgba(0, 0, 0, 0.15);\n",
              "      filter: drop-shadow(0px 1px 2px rgba(0, 0, 0, 0.3));\n",
              "      fill: #FFFFFF;\n",
              "    }\n",
              "  </style>\n",
              "\n",
              "      <script>\n",
              "        const buttonEl =\n",
              "          document.querySelector('#df-dbf9e6f2-8e28-4d76-8b8b-d6b4f578e4d7 button.colab-df-convert');\n",
              "        buttonEl.style.display =\n",
              "          google.colab.kernel.accessAllowed ? 'block' : 'none';\n",
              "\n",
              "        async function convertToInteractive(key) {\n",
              "          const element = document.querySelector('#df-dbf9e6f2-8e28-4d76-8b8b-d6b4f578e4d7');\n",
              "          const dataTable =\n",
              "            await google.colab.kernel.invokeFunction('convertToInteractive',\n",
              "                                                     [key], {});\n",
              "          if (!dataTable) return;\n",
              "\n",
              "          const docLinkHtml = 'Like what you see? Visit the ' +\n",
              "            '<a target=\"_blank\" href=https://colab.research.google.com/notebooks/data_table.ipynb>data table notebook</a>'\n",
              "            + ' to learn more about interactive tables.';\n",
              "          element.innerHTML = '';\n",
              "          dataTable['output_type'] = 'display_data';\n",
              "          await google.colab.output.renderOutput(dataTable, element);\n",
              "          const docLink = document.createElement('div');\n",
              "          docLink.innerHTML = docLinkHtml;\n",
              "          element.appendChild(docLink);\n",
              "        }\n",
              "      </script>\n",
              "    </div>\n",
              "  </div>\n",
              "  "
            ]
          },
          "metadata": {},
          "execution_count": 15
        }
      ],
      "source": [
        "df4.head()"
      ]
    },
    {
      "cell_type": "code",
      "execution_count": 16,
      "metadata": {
        "id": "kDuXNIfGQLuO"
      },
      "outputs": [],
      "source": [
        "train4, test4 = train_test_split(df4, test_size=0.2, stratify=df4.label)"
      ]
    },
    {
      "cell_type": "markdown",
      "metadata": {
        "id": "oZR2oEpRju4y"
      },
      "source": [
        "# <b> Merging all the train datasets </b> "
      ]
    },
    {
      "cell_type": "code",
      "execution_count": 17,
      "metadata": {
        "id": "04x5L4bXQui0"
      },
      "outputs": [],
      "source": [
        "train = pd.concat([train1.loc[:,['title','text','label']],\n",
        "                  train2.loc[:,['title','text','label']],\n",
        "                  train3.loc[:,['title','text','label']],\n",
        "                  train4.loc[:,['title','text','label']]])"
      ]
    },
    {
      "cell_type": "code",
      "execution_count": 18,
      "metadata": {
        "colab": {
          "base_uri": "https://localhost:8080/"
        },
        "id": "wStaWzLGTFC-",
        "outputId": "406b533a-7776-4cdf-ca2e-e14612348040"
      },
      "outputs": [
        {
          "output_type": "execute_result",
          "data": {
            "text/plain": [
              "title    443\n",
              "text      25\n",
              "label      0\n",
              "dtype: int64"
            ]
          },
          "metadata": {},
          "execution_count": 18
        }
      ],
      "source": [
        "# checking null values\n",
        "train.isna().sum()"
      ]
    },
    {
      "cell_type": "code",
      "execution_count": 19,
      "metadata": {
        "id": "Jisk8_GCU_Z7"
      },
      "outputs": [],
      "source": [
        "# removing null values\n",
        "train.dropna(inplace=True)"
      ]
    },
    {
      "cell_type": "code",
      "execution_count": 20,
      "metadata": {
        "colab": {
          "base_uri": "https://localhost:8080/"
        },
        "id": "HZEdbI-SBa0c",
        "outputId": "3842843f-e0db-4653-ef74-9efbf9e4da43"
      },
      "outputs": [
        {
          "output_type": "execute_result",
          "data": {
            "text/plain": [
              "5441"
            ]
          },
          "metadata": {},
          "execution_count": 20
        }
      ],
      "source": [
        "# Checking for duplicate values\n",
        "len(train[train.duplicated()])"
      ]
    },
    {
      "cell_type": "code",
      "execution_count": 21,
      "metadata": {
        "id": "mPgXUM4MVQsD"
      },
      "outputs": [],
      "source": [
        "# removing duplicated values\n",
        "train.drop_duplicates(inplace=True)"
      ]
    },
    {
      "cell_type": "code",
      "execution_count": 22,
      "metadata": {
        "id": "oIRG-rigVyTZ"
      },
      "outputs": [],
      "source": [
        "train = train.sample(frac=1).reset_index(drop=True)"
      ]
    },
    {
      "cell_type": "code",
      "execution_count": 23,
      "metadata": {
        "colab": {
          "base_uri": "https://localhost:8080/",
          "height": 357
        },
        "id": "wOSLrDg8gSWV",
        "outputId": "5d06a474-a0e9-4607-9393-d824e121e488"
      },
      "outputs": [
        {
          "output_type": "display_data",
          "data": {
            "text/plain": [
              "<Figure size 648x432 with 1 Axes>"
            ],
            "image/png": "[encoded data removed]"
          },
          "metadata": {}
        }
      ],
      "source": [
        "# Checking if our data is well balanced\n",
        "plt.figure(figsize=(9,6))\n",
        "plt.pie(train['label'].value_counts(),explode=[0.1,0.1],colors=['red','cyan'],startangle=90,shadow=True,labels=['True','Fake'],autopct='%1.1f%%',textprops={'fontsize': 14});"
      ]
    },
    {
      "cell_type": "code",
      "execution_count": 24,
      "metadata": {
        "colab": {
          "base_uri": "https://localhost:8080/"
        },
        "id": "HihHPiIv8MRH",
        "outputId": "d1f9e4db-7fda-44df-cb39-d997d4a5c7b2"
      },
      "outputs": [
        {
          "output_type": "stream",
          "name": "stderr",
          "text": [
            "[nltk_data] Downloading package stopwords to /root/nltk_data...\n",
            "[nltk_data]   Unzipping corpora/stopwords.zip.\n"
          ]
        }
      ],
      "source": [
        "# removing the commoner inflexional endings from words in English\n",
        "import nltk\n",
        "nltk.download('stopwords')\n",
        "from nltk.stem.porter import PorterStemmer\n",
        "stemmer = PorterStemmer()\n",
        "from nltk.corpus import stopwords"
      ]
    },
    {
      "cell_type": "code",
      "execution_count": 25,
      "metadata": {
        "id": "JVyNtThXV9wk"
      },
      "outputs": [],
      "source": [
        "stop_words = stopwords.words('english')\n",
        "text_cleaning_re = '[^a-zA-Z]'"
      ]
    },
    {
      "cell_type": "code",
      "execution_count": 26,
      "metadata": {
        "id": "oiDwXLEJV2A6"
      },
      "outputs": [],
      "source": [
        "# function for text processing\n",
        "def preprocess(text, stem=False):\n",
        "  text = re.sub(text_cleaning_re, ' ', str(text).lower()).strip()     # use re package to removing everything that is not in letter\n",
        "  tokens = []\n",
        "  for token in text.split():\n",
        "    if token not in stop_words:\n",
        "      if stem:\n",
        "        tokens.append(stemmer.stem(token))\n",
        "      else:\n",
        "        tokens.append(token)\n",
        "  return \" \".join(tokens)"
      ]
    },
    {
      "cell_type": "code",
      "execution_count": 27,
      "metadata": {
        "colab": {
          "base_uri": "https://localhost:8080/"
        },
        "id": "0M3I4cR1UG4L",
        "outputId": "8a5d04c8-8587-43a4-dd1a-fb5d2890913b"
      },
      "outputs": [
        {
          "output_type": "execute_result",
          "data": {
            "text/plain": [
              "0    kuala lumpur malaysia two women charged murder...\n",
              "1    hillary gives pay play whole new meaning lady ...\n",
              "2    washington reuters president donald trump make...\n",
              "3    amazing take fox news contributor stacey dash ...\n",
              "4    war streets paris armed migrants fight running...\n",
              "Name: text, dtype: object"
            ]
          },
          "metadata": {},
          "execution_count": 27
        }
      ],
      "source": [
        "# text processing\n",
        "train['text'] = train['text'].apply(lambda x: preprocess(x))\n",
        "train['text'].head()"
      ]
    },
    {
      "cell_type": "code",
      "execution_count": 28,
      "metadata": {
        "id": "GtRErLv_LXKs"
      },
      "outputs": [],
      "source": [
        "X = train.text.values           # independent variable\n",
        "y = train.label.values          # dependent variable"
      ]
    },
    {
      "cell_type": "code",
      "execution_count": 29,
      "metadata": {
        "id": "GYf8hrRm9JqA"
      },
      "outputs": [],
      "source": [
        "# splitting the dataset into train and validation sets\n",
        "from sklearn.model_selection import train_test_split\n",
        "X_train, X_val, y_train, y_val = train_test_split(X, y, test_size = 0.2, stratify = y)"
      ]
    },
    {
      "cell_type": "code",
      "execution_count": 30,
      "metadata": {
        "id": "1NdCYVnHCNVb"
      },
      "outputs": [],
      "source": [
        "# transform our textual X to numerical so that our ML model can understand it and can work with it\n",
        "from sklearn.feature_extraction.text import TfidfVectorizer\n",
        "\n",
        "tfidf_v = TfidfVectorizer(max_features=5000,ngram_range=(1,3),max_df=0.7)\n",
        "\n",
        "tfidf_train = tfidf_v.fit_transform(X_train).toarray()\n",
        "tfidf_val = tfidf_v.transform(X_val).toarray()"
      ]
    },
    {
      "cell_type": "code",
      "execution_count": 31,
      "metadata": {
        "id": "90h2kLRf78g5"
      },
      "outputs": [],
      "source": [
        "def plot_confusion_matrix(cm, classes,\n",
        "                          normalize=False,\n",
        "                          title='Confusion matrix',\n",
        "                          cmap=plt.cm.Blues):\n",
        "    \"\"\"\n",
        "    See full source and example: \n",
        "    http://scikit-learn.org/stable/auto_examples/model_selection/plot_confusion_matrix.html\n",
        "    \n",
        "    This function prints and plots the confusion matrix.\n",
        "    Normalization can be applied by setting `normalize=True`.\n",
        "    \"\"\"\n",
        "    plt.imshow(cm, interpolation='nearest', cmap=cmap)\n",
        "    plt.title(title)\n",
        "    plt.colorbar()\n",
        "    tick_marks = np.arange(len(classes))\n",
        "    plt.xticks(tick_marks, classes, rotation=45)\n",
        "    plt.yticks(tick_marks, classes)\n",
        "\n",
        "    if normalize:\n",
        "        cm = cm.astype('float') / cm.sum(axis=1)[:, np.newaxis]\n",
        "        print(\"Normalized confusion matrix\")\n",
        "    else:\n",
        "        print('Confusion matrix, without normalization')\n",
        "\n",
        "    thresh = cm.max() / 2.\n",
        "    for i, j in itertools.product(range(cm.shape[0]), range(cm.shape[1])):\n",
        "        plt.text(j, i, cm[i, j],\n",
        "                 horizontalalignment=\"center\",\n",
        "                 color=\"white\" if cm[i, j] > thresh else \"black\")\n",
        "\n",
        "    plt.tight_layout()\n",
        "    plt.ylabel('True label')\n",
        "    plt.xlabel('Predicted label')"
      ]
    },
    {
      "cell_type": "markdown",
      "metadata": {
        "id": "hesIqiJ40Zu4"
      },
      "source": [
        "# <b> RandomForest Classifier </b>"
      ]
    },
    {
      "cell_type": "markdown",
      "metadata": {
        "id": "B1G55U5gwYMU"
      },
      "source": [
        "### <b> Hyperparameter tuning </b>"
      ]
    },
    {
      "cell_type": "code",
      "execution_count": 32,
      "metadata": {
        "id": "loZ1Wjr_k9dz"
      },
      "outputs": [],
      "source": [
        "# rf_clf = RandomForestClassifier()\n",
        "\n",
        "# # Hyperparameter Grid\n",
        "# rf_grid = {'n_estimators' : [100,150],\n",
        "#         'max_depth' : [4,6,8],\n",
        "#         'min_samples_split' : [50,80],\n",
        "#         'min_samples_leaf' : [46,60]}\n",
        "\n",
        "# # RandomSearch to find the best parameters\n",
        "# rf_random = RandomizedSearchCV(rf_clf, param_distributions= rf_grid, scoring = 'accuracy', cv=5)\n",
        "# rf_random.fit(tfidf_train,y_train)\n",
        "\n",
        "# rf_random.best_params_"
      ]
    },
    {
      "cell_type": "code",
      "execution_count": 33,
      "metadata": {
        "id": "_CWZzbDD2OOG"
      },
      "outputs": [],
      "source": [
        "rf_clf = RandomForestClassifier(n_estimators=100, max_depth=6, min_samples_split=50, min_samples_leaf=46)\n",
        "rf_clf.fit(tfidf_train,y_train)\n",
        "tr_preds = rf_clf.predict(tfidf_train)  # predicting train\n",
        "preds = rf_clf.predict(tfidf_val)       # predicting validation"
      ]
    },
    {
      "cell_type": "code",
      "execution_count": 34,
      "metadata": {
        "id": "5xQXHTm70r9a",
        "colab": {
          "base_uri": "https://localhost:8080/"
        },
        "outputId": "ded3da9e-22a2-4664-ff4d-29e68ed3bbed"
      },
      "outputs": [
        {
          "output_type": "stream",
          "name": "stdout",
          "text": [
            "Train accuracy: 0.8766711229946524\n",
            "Validation accuracy: 0.8709893048128342\n"
          ]
        }
      ],
      "source": [
        "print('Train accuracy:',accuracy_score(y_train, tr_preds))\n",
        "print('Validation accuracy:',accuracy_score(y_val, preds))"
      ]
    },
    {
      "cell_type": "code",
      "execution_count": 35,
      "metadata": {
        "id": "jGiqWxneHU5R",
        "colab": {
          "base_uri": "https://localhost:8080/"
        },
        "outputId": "8ee17bbb-70af-4af9-bf7c-05d022084da4"
      },
      "outputs": [
        {
          "output_type": "stream",
          "name": "stdout",
          "text": [
            "              precision    recall  f1-score   support\n",
            "\n",
            "           0       0.85      0.94      0.89     22528\n",
            "           1       0.92      0.81      0.86     19360\n",
            "\n",
            "    accuracy                           0.88     41888\n",
            "   macro avg       0.88      0.87      0.87     41888\n",
            "weighted avg       0.88      0.88      0.88     41888\n",
            "\n"
          ]
        }
      ],
      "source": [
        "# train classification report for RandomForest\n",
        "print(classification_report(y_train,tr_preds))"
      ]
    },
    {
      "cell_type": "code",
      "execution_count": 36,
      "metadata": {
        "id": "IYMJF8bMLSr0",
        "colab": {
          "base_uri": "https://localhost:8080/"
        },
        "outputId": "7fd61ae4-b01b-4692-87d1-7ac92e0efdad"
      },
      "outputs": [
        {
          "output_type": "stream",
          "name": "stdout",
          "text": [
            "              precision    recall  f1-score   support\n",
            "\n",
            "           0       0.85      0.93      0.89      5632\n",
            "           1       0.91      0.80      0.85      4840\n",
            "\n",
            "    accuracy                           0.87     10472\n",
            "   macro avg       0.88      0.87      0.87     10472\n",
            "weighted avg       0.87      0.87      0.87     10472\n",
            "\n"
          ]
        }
      ],
      "source": [
        "# validation classification report for RandomForest\n",
        "print(classification_report(y_val,preds))"
      ]
    },
    {
      "cell_type": "code",
      "execution_count": 37,
      "metadata": {
        "id": "9ELcMWdzvxtD",
        "colab": {
          "base_uri": "https://localhost:8080/",
          "height": 295
        },
        "outputId": "cd564e97-b2be-4afa-c62d-89bcc157cf23"
      },
      "outputs": [
        {
          "output_type": "display_data",
          "data": {
            "text/plain": [
              "<Figure size 432x288 with 1 Axes>"
            ],
            "image/png": "[encoded data removed]"
          },
          "metadata": {
            "needs_background": "light"
          }
        }
      ],
      "source": [
        "# train and validation ROC-AUC curve for RandomForest\n",
        "\n",
        "train_fpr, train_tpr, tr_thresholds = roc_curve(y_train, tr_preds)\n",
        "test_fpr, test_tpr, te_thresholds = roc_curve(y_val, preds)\n",
        "\n",
        "plt.grid()\n",
        "\n",
        "plt.plot(train_fpr, train_tpr, label=\" AUC Train =\"+str(auc(train_fpr, train_tpr).round(4)))\n",
        "plt.plot(test_fpr, test_tpr, label=\" AUC Val =\"+str(auc(test_fpr, test_tpr).round(4)))\n",
        "plt.plot([0,1],[0,1],'g--')\n",
        "plt.legend()\n",
        "plt.xlabel(\"False Positive Rate\")\n",
        "plt.ylabel(\"True Positive Rate\")\n",
        "plt.title(\"AUC(ROC curve)\")\n",
        "plt.grid(color='black', linestyle='-', linewidth=0.5)\n",
        "plt.show()"
      ]
    },
    {
      "cell_type": "code",
      "execution_count": 38,
      "metadata": {
        "id": "SyVaz1HrAXzT",
        "colab": {
          "base_uri": "https://localhost:8080/",
          "height": 328
        },
        "outputId": "46e5d637-cd5e-4034-ec87-ef8ef256b677"
      },
      "outputs": [
        {
          "output_type": "stream",
          "name": "stdout",
          "text": [
            "Confusion matrix, without normalization\n"
          ]
        },
        {
          "output_type": "display_data",
          "data": {
            "text/plain": [
              "<Figure size 432x288 with 2 Axes>"
            ],
            "image/png": "[encoded data removed]"
          },
          "metadata": {
            "needs_background": "light"
          }
        }
      ],
      "source": [
        "# train confusion matrix for RandomForest\n",
        "cm_train = confusion_matrix(y_train,tr_preds)\n",
        "plot_confusion_matrix(cm_train,classes=['True','Fake'])"
      ]
    },
    {
      "cell_type": "code",
      "execution_count": 39,
      "metadata": {
        "id": "0v8ZftJBAk4Z",
        "colab": {
          "base_uri": "https://localhost:8080/",
          "height": 328
        },
        "outputId": "2d6de066-84ab-4f7a-f250-a8960fd60c41"
      },
      "outputs": [
        {
          "output_type": "stream",
          "name": "stdout",
          "text": [
            "Confusion matrix, without normalization\n"
          ]
        },
        {
          "output_type": "display_data",
          "data": {
            "text/plain": [
              "<Figure size 432x288 with 2 Axes>"
            ],
            "image/png": "[encoded data removed]"
          },
          "metadata": {
            "needs_background": "light"
          }
        }
      ],
      "source": [
        "# validation confusion matrix for RandomForest\n",
        "cm_test = confusion_matrix(y_val,preds)\n",
        "plot_confusion_matrix(cm_test,classes=['True','Fake'])"
      ]
    },
    {
      "cell_type": "markdown",
      "metadata": {
        "id": "14KlYSki4hsf"
      },
      "source": [
        "# <b> Logistic Regression </b>"
      ]
    },
    {
      "cell_type": "markdown",
      "metadata": {
        "id": "Pgd7TjkowpQM"
      },
      "source": [
        "### <b> Hyperparameter tuning </b>"
      ]
    },
    {
      "cell_type": "code",
      "source": [
        "# lr = LogisticRegression(fit_intercept=True, max_iter=10000)\n",
        "\n",
        "# # Hyperparameter Grid\n",
        "# lr_grid = {'C':[0.1,0.5,0.8,1,2,3,5,8,10,20,50,100]}\n",
        "\n",
        "# # RandomSearch to find the best parameters\n",
        "# lr_random = RandomizedSearchCV(lr, param_distributions= lr_grid, scoring = 'roc_auc', cv=5)\n",
        "# lr_random.fit(tfidf_train,y_train)\n",
        "\n",
        "# lr_random.best_params_"
      ],
      "metadata": {
        "id": "y8CIWJXWczwi"
      },
      "execution_count": 40,
      "outputs": []
    },
    {
      "cell_type": "code",
      "execution_count": 41,
      "metadata": {
        "id": "pgCsPvN-wInj"
      },
      "outputs": [],
      "source": [
        "# lr = LogisticRegression(fit_intercept=True, max_iter=10000)\n",
        "\n",
        "# # Hyperparameter tuning using BayesSearch\n",
        "# lr_bayes = BayesSearchCV(estimator=lr,\n",
        "#                        search_spaces = {'C' : Real(1e-5, 1e+2, prior='log-uniform') },\n",
        "#                        cv = 5, scoring='roc_auc', n_iter=32)\n",
        "# lr_bayes.fit(tfidf_train,y_train)"
      ]
    },
    {
      "cell_type": "code",
      "execution_count": 42,
      "metadata": {
        "id": "unlkOn2XzNvq"
      },
      "outputs": [],
      "source": [
        "lr = LogisticRegression(C=2, max_iter=10000)\n",
        "# lr = lr_bayes.best_estimator_\n",
        "lr.fit(tfidf_train,y_train)\n",
        "tr_preds = lr.predict(tfidf_train)\n",
        "preds = lr.predict(tfidf_val)"
      ]
    },
    {
      "cell_type": "code",
      "execution_count": 43,
      "metadata": {
        "colab": {
          "base_uri": "https://localhost:8080/"
        },
        "id": "stdzDiNu41fw",
        "outputId": "6a6e4178-2924-4ecb-9abb-3941f2bb9fe3"
      },
      "outputs": [
        {
          "output_type": "stream",
          "name": "stdout",
          "text": [
            "Train accuracy: 0.958627769289534\n",
            "Validation accuracy: 0.9420359052711994\n"
          ]
        }
      ],
      "source": [
        "print('Train accuracy:',accuracy_score(y_train, tr_preds))\n",
        "print('Validation accuracy:',accuracy_score(y_val, preds))"
      ]
    },
    {
      "cell_type": "code",
      "execution_count": 44,
      "metadata": {
        "colab": {
          "base_uri": "https://localhost:8080/"
        },
        "id": "vq4jE3bKdon4",
        "outputId": "2dddff3c-a9fc-4913-80b6-96be5473fd9b"
      },
      "outputs": [
        {
          "output_type": "stream",
          "name": "stdout",
          "text": [
            "              precision    recall  f1-score   support\n",
            "\n",
            "           0       0.96      0.96      0.96     22528\n",
            "           1       0.96      0.95      0.96     19360\n",
            "\n",
            "    accuracy                           0.96     41888\n",
            "   macro avg       0.96      0.96      0.96     41888\n",
            "weighted avg       0.96      0.96      0.96     41888\n",
            "\n"
          ]
        }
      ],
      "source": [
        "print(classification_report(y_train, tr_preds))       # train"
      ]
    },
    {
      "cell_type": "code",
      "execution_count": 45,
      "metadata": {
        "colab": {
          "base_uri": "https://localhost:8080/"
        },
        "id": "10ym6xQad072",
        "outputId": "55a156fd-d648-4fde-d2c1-1d8551802208"
      },
      "outputs": [
        {
          "output_type": "stream",
          "name": "stdout",
          "text": [
            "              precision    recall  f1-score   support\n",
            "\n",
            "           0       0.94      0.95      0.95      5632\n",
            "           1       0.94      0.94      0.94      4840\n",
            "\n",
            "    accuracy                           0.94     10472\n",
            "   macro avg       0.94      0.94      0.94     10472\n",
            "weighted avg       0.94      0.94      0.94     10472\n",
            "\n"
          ]
        }
      ],
      "source": [
        "print(classification_report(y_val, preds))     # validation"
      ]
    },
    {
      "cell_type": "code",
      "execution_count": 46,
      "metadata": {
        "colab": {
          "base_uri": "https://localhost:8080/",
          "height": 295
        },
        "id": "ewnHXjkbIjE0",
        "outputId": "f6e95d5e-63d5-4316-ba59-8d7355d1e3d1"
      },
      "outputs": [
        {
          "output_type": "display_data",
          "data": {
            "text/plain": [
              "<Figure size 432x288 with 1 Axes>"
            ],
            "image/png": "[encoded data removed]"
          },
          "metadata": {
            "needs_background": "light"
          }
        }
      ],
      "source": [
        "# train and validation ROC-AUC curve for Logistic Regression\n",
        "train_fpr, train_tpr, tr_thresholds = roc_curve(y_train, tr_preds)\n",
        "test_fpr, test_tpr, te_thresholds = roc_curve(y_val, preds)\n",
        "\n",
        "plt.grid()\n",
        "\n",
        "plt.plot(train_fpr, train_tpr, label=\" AUC Train =\"+str(auc(train_fpr, train_tpr).round(4)))\n",
        "plt.plot(test_fpr, test_tpr, label=\" AUC Val =\"+str(auc(test_fpr, test_tpr).round(4)))\n",
        "plt.plot([0,1],[0,1],'g--')\n",
        "plt.legend()\n",
        "plt.xlabel(\"False Positive Rate\")\n",
        "plt.ylabel(\"True Positive Rate\")\n",
        "plt.title(\"AUC(ROC curve)\")\n",
        "plt.grid(color='black', linestyle='-', linewidth=0.5)\n",
        "plt.show()"
      ]
    },
    {
      "cell_type": "code",
      "execution_count": 47,
      "metadata": {
        "colab": {
          "base_uri": "https://localhost:8080/",
          "height": 328
        },
        "id": "6NJGlz1BJByj",
        "outputId": "ae01361f-ca3b-4234-e058-3c8245779e88"
      },
      "outputs": [
        {
          "output_type": "stream",
          "name": "stdout",
          "text": [
            "Confusion matrix, without normalization\n"
          ]
        },
        {
          "output_type": "display_data",
          "data": {
            "text/plain": [
              "<Figure size 432x288 with 2 Axes>"
            ],
            "image/png": "[encoded data removed]"
          },
          "metadata": {
            "needs_background": "light"
          }
        }
      ],
      "source": [
        "# train confusion matrix for Logistic Regession\n",
        "cm_train = confusion_matrix(y_train,tr_preds)\n",
        "plot_confusion_matrix(cm_train,classes=['True','Fake'])"
      ]
    },
    {
      "cell_type": "code",
      "execution_count": 48,
      "metadata": {
        "colab": {
          "base_uri": "https://localhost:8080/",
          "height": 328
        },
        "id": "AhUQTiQ0CkER",
        "outputId": "e9b5be85-b982-4fea-9dc2-7ee32c5f03a5"
      },
      "outputs": [
        {
          "output_type": "stream",
          "name": "stdout",
          "text": [
            "Confusion matrix, without normalization\n"
          ]
        },
        {
          "output_type": "display_data",
          "data": {
            "text/plain": [
              "<Figure size 432x288 with 2 Axes>"
            ],
            "image/png": "[encoded data removed]"
          },
          "metadata": {
            "needs_background": "light"
          }
        }
      ],
      "source": [
        "# validation confusion matrix for Logistic Regession\n",
        "cm_test = confusion_matrix(y_val,preds)\n",
        "plot_confusion_matrix(cm_test,classes=['True','Fake'])"
      ]
    },
    {
      "cell_type": "markdown",
      "metadata": {
        "id": "a_Vlnha9Talg"
      },
      "source": [
        "# <b> Testing on different datasets </b>"
      ]
    },
    {
      "cell_type": "markdown",
      "metadata": {
        "id": "IzY4OM6zkniV"
      },
      "source": [
        "## <b> test1 </b>"
      ]
    },
    {
      "cell_type": "code",
      "execution_count": 49,
      "metadata": {
        "id": "mhattXI96FoE"
      },
      "outputs": [],
      "source": [
        "test1 = test1.dropna().reset_index(drop=True)\n",
        "X1 = test1.title.values\n",
        "X1_tfidf = tfidf_v.transform(X1).toarray()\n",
        "test1['label_rf'] = rf_clf.predict(X1_tfidf)"
      ]
    },
    {
      "cell_type": "code",
      "execution_count": 50,
      "metadata": {
        "colab": {
          "base_uri": "https://localhost:8080/"
        },
        "id": "gzoYhJzU7qJP",
        "outputId": "4c66bde0-a925-4e0c-a46c-ea58c38b75d4"
      },
      "outputs": [
        {
          "output_type": "execute_result",
          "data": {
            "text/plain": [
              "0.43946064942212437"
            ]
          },
          "metadata": {},
          "execution_count": 50
        }
      ],
      "source": [
        "accuracy_score(test1.label,test1.label_rf)    # RandomForest model"
      ]
    },
    {
      "cell_type": "code",
      "execution_count": 51,
      "metadata": {
        "colab": {
          "base_uri": "https://localhost:8080/"
        },
        "id": "SjJuABvhIQ0R",
        "outputId": "a42e5655-ea3e-421d-c2c6-f5368c7c98d5"
      },
      "outputs": [
        {
          "output_type": "stream",
          "name": "stdout",
          "text": [
            "              precision    recall  f1-score   support\n",
            "\n",
            "           0       0.72      0.03      0.05      2071\n",
            "           1       0.43      0.99      0.60      1563\n",
            "\n",
            "    accuracy                           0.44      3634\n",
            "   macro avg       0.58      0.51      0.33      3634\n",
            "weighted avg       0.60      0.44      0.29      3634\n",
            "\n"
          ]
        }
      ],
      "source": [
        "print(classification_report(test1.label,test1.label_rf))    # RandomForest model"
      ]
    },
    {
      "cell_type": "code",
      "execution_count": 52,
      "metadata": {
        "colab": {
          "base_uri": "https://localhost:8080/",
          "height": 328
        },
        "id": "BsLB23GRVKns",
        "outputId": "3ead6918-0d51-4879-adac-2f84d75720ab"
      },
      "outputs": [
        {
          "output_type": "stream",
          "name": "stdout",
          "text": [
            "Confusion matrix, without normalization\n"
          ]
        },
        {
          "output_type": "display_data",
          "data": {
            "text/plain": [
              "<Figure size 432x288 with 2 Axes>"
            ],
            "image/png": "[encoded data removed]"
          },
          "metadata": {
            "needs_background": "light"
          }
        }
      ],
      "source": [
        "cm1_rf = confusion_matrix(test1.label,test1.label_rf)       # RandomForest model\n",
        "plot_confusion_matrix(cm1_rf,classes=['True','Fake'])"
      ]
    },
    {
      "cell_type": "code",
      "execution_count": 53,
      "metadata": {
        "id": "NOT0Lef58Z_t"
      },
      "outputs": [],
      "source": [
        "test1['label_lr'] = lr.predict(X1_tfidf)"
      ]
    },
    {
      "cell_type": "code",
      "execution_count": 54,
      "metadata": {
        "colab": {
          "base_uri": "https://localhost:8080/"
        },
        "id": "Q1UPDyou8mnY",
        "outputId": "0e9caac2-42e7-49d5-c90b-88a9cf688687"
      },
      "outputs": [
        {
          "output_type": "execute_result",
          "data": {
            "text/plain": [
              "0.6172261970280682"
            ]
          },
          "metadata": {},
          "execution_count": 54
        }
      ],
      "source": [
        "accuracy_score(test1.label,test1.label_lr)      # Logistic Regression model"
      ]
    },
    {
      "cell_type": "code",
      "execution_count": 55,
      "metadata": {
        "colab": {
          "base_uri": "https://localhost:8080/"
        },
        "id": "-qAwpRFNIA4u",
        "outputId": "78ae2a98-a188-426f-dfe0-0310bf4737d5"
      },
      "outputs": [
        {
          "output_type": "stream",
          "name": "stdout",
          "text": [
            "              precision    recall  f1-score   support\n",
            "\n",
            "           0       0.96      0.34      0.51      2071\n",
            "           1       0.53      0.98      0.69      1563\n",
            "\n",
            "    accuracy                           0.62      3634\n",
            "   macro avg       0.74      0.66      0.60      3634\n",
            "weighted avg       0.77      0.62      0.58      3634\n",
            "\n"
          ]
        }
      ],
      "source": [
        "print(classification_report(test1.label,test1.label_lr))    # Logistic Regression model"
      ]
    },
    {
      "cell_type": "code",
      "execution_count": 56,
      "metadata": {
        "colab": {
          "base_uri": "https://localhost:8080/",
          "height": 328
        },
        "id": "NrbUziCX9CjQ",
        "outputId": "cbcee13a-7087-4433-c1d8-514f7bd7f789"
      },
      "outputs": [
        {
          "output_type": "stream",
          "name": "stdout",
          "text": [
            "Confusion matrix, without normalization\n"
          ]
        },
        {
          "output_type": "display_data",
          "data": {
            "text/plain": [
              "<Figure size 432x288 with 2 Axes>"
            ],
            "image/png": "[encoded data removed]"
          },
          "metadata": {
            "needs_background": "light"
          }
        }
      ],
      "source": [
        "cm1_lr = confusion_matrix(test1.label,test1.label_lr)     # Logistic Regression model\n",
        "plot_confusion_matrix(cm1_lr,classes=['True','Fake'])"
      ]
    },
    {
      "cell_type": "markdown",
      "metadata": {
        "id": "r7hci7Tdkt8p"
      },
      "source": [
        "## <b> test2 </b>"
      ]
    },
    {
      "cell_type": "code",
      "execution_count": 57,
      "metadata": {
        "colab": {
          "base_uri": "https://localhost:8080/",
          "height": 206
        },
        "id": "BZDR8WcDGfZz",
        "outputId": "8b1d4a67-e1e0-4faa-8e17-be9f3d2b360d"
      },
      "outputs": [
        {
          "output_type": "execute_result",
          "data": {
            "text/plain": [
              "   Unnamed: 0                                              title  \\\n",
              "0        1253  Inside Bernie Sanders’s quest to win over Neva...   \n",
              "1        2647  Former Marine guilty of murder in 'American Sn...   \n",
              "2        3451  Is the Supreme Court poised for a shift to the...   \n",
              "3       10489                 YouTube bans 'Clinton's black son'   \n",
              "4        5909  Hillary To Be Indicted After Election: Trump R...   \n",
              "\n",
              "                                                text  label  label_rf  \n",
              "0  EAST LAS VEGAS — \"Nevada is especially importa...      0         0  \n",
              "1  A former Marine was found guilty late Tuesday ...      0         0  \n",
              "2  Washington (CNN) The nine Supreme Court justic...      0         0  \n",
              "3  Print Side-by-side of Bill Clinton and Danney ...      1         0  \n",
              "4  Hillary To Be Indicted After Election: Trump R...      1         1  "
            ],
            "text/html": [
              "\n",
              "  <div id=\"df-a04e49a8-bc25-4b83-af5c-89e764f8edf4\">\n",
              "    <div class=\"colab-df-container\">\n",
              "      <div>\n",
              "<style scoped>\n",
              "    .dataframe tbody tr th:only-of-type {\n",
              "        vertical-align: middle;\n",
              "    }\n",
              "\n",
              "    .dataframe tbody tr th {\n",
              "        vertical-align: top;\n",
              "    }\n",
              "\n",
              "    .dataframe thead th {\n",
              "        text-align: right;\n",
              "    }\n",
              "</style>\n",
              "<table border=\"1\" class=\"dataframe\">\n",
              "  <thead>\n",
              "    <tr style=\"text-align: right;\">\n",
              "      <th></th>\n",
              "      <th>Unnamed: 0</th>\n",
              "      <th>title</th>\n",
              "      <th>text</th>\n",
              "      <th>label</th>\n",
              "      <th>label_rf</th>\n",
              "    </tr>\n",
              "  </thead>\n",
              "  <tbody>\n",
              "    <tr>\n",
              "      <th>0</th>\n",
              "      <td>1253</td>\n",
              "      <td>Inside Bernie Sanders’s quest to win over Neva...</td>\n",
              "      <td>EAST LAS VEGAS — \"Nevada is especially importa...</td>\n",
              "      <td>0</td>\n",
              "      <td>0</td>\n",
              "    </tr>\n",
              "    <tr>\n",
              "      <th>1</th>\n",
              "      <td>2647</td>\n",
              "      <td>Former Marine guilty of murder in 'American Sn...</td>\n",
              "      <td>A former Marine was found guilty late Tuesday ...</td>\n",
              "      <td>0</td>\n",
              "      <td>0</td>\n",
              "    </tr>\n",
              "    <tr>\n",
              "      <th>2</th>\n",
              "      <td>3451</td>\n",
              "      <td>Is the Supreme Court poised for a shift to the...</td>\n",
              "      <td>Washington (CNN) The nine Supreme Court justic...</td>\n",
              "      <td>0</td>\n",
              "      <td>0</td>\n",
              "    </tr>\n",
              "    <tr>\n",
              "      <th>3</th>\n",
              "      <td>10489</td>\n",
              "      <td>YouTube bans 'Clinton's black son'</td>\n",
              "      <td>Print Side-by-side of Bill Clinton and Danney ...</td>\n",
              "      <td>1</td>\n",
              "      <td>0</td>\n",
              "    </tr>\n",
              "    <tr>\n",
              "      <th>4</th>\n",
              "      <td>5909</td>\n",
              "      <td>Hillary To Be Indicted After Election: Trump R...</td>\n",
              "      <td>Hillary To Be Indicted After Election: Trump R...</td>\n",
              "      <td>1</td>\n",
              "      <td>1</td>\n",
              "    </tr>\n",
              "  </tbody>\n",
              "</table>\n",
              "</div>\n",
              "      <button class=\"colab-df-convert\" onclick=\"convertToInteractive('df-a04e49a8-bc25-4b83-af5c-89e764f8edf4')\"\n",
              "              title=\"Convert this dataframe to an interactive table.\"\n",
              "              style=\"display:none;\">\n",
              "        \n",
              "  <svg xmlns=\"http://www.w3.org/2000/svg\" height=\"24px\"viewBox=\"0 0 24 24\"\n",
              "       width=\"24px\">\n",
              "    <path d=\"M0 0h24v24H0V0z\" fill=\"none\"/>\n",
              "    <path d=\"M18.56 5.44l.94 2.06.94-2.06 2.06-.94-2.06-.94-.94-2.06-.94 2.06-2.06.94zm-11 1L8.5 8.5l.94-2.06 2.06-.94-2.06-.94L8.5 2.5l-.94 2.06-2.06.94zm10 10l.94 2.06.94-2.06 2.06-.94-2.06-.94-.94-2.06-.94 2.06-2.06.94z\"/><path d=\"M17.41 7.96l-1.37-1.37c-.4-.4-.92-.59-1.43-.59-.52 0-1.04.2-1.43.59L10.3 9.45l-7.72 7.72c-.78.78-.78 2.05 0 2.83L4 21.41c.39.39.9.59 1.41.59.51 0 1.02-.2 1.41-.59l7.78-7.78 2.81-2.81c.8-.78.8-2.07 0-2.86zM5.41 20L4 18.59l7.72-7.72 1.47 1.35L5.41 20z\"/>\n",
              "  </svg>\n",
              "      </button>\n",
              "      \n",
              "  <style>\n",
              "    .colab-df-container {\n",
              "      display:flex;\n",
              "      flex-wrap:wrap;\n",
              "      gap: 12px;\n",
              "    }\n",
              "\n",
              "    .colab-df-convert {\n",
              "      background-color: #E8F0FE;\n",
              "      border: none;\n",
              "      border-radius: 50%;\n",
              "      cursor: pointer;\n",
              "      display: none;\n",
              "      fill: #1967D2;\n",
              "      height: 32px;\n",
              "      padding: 0 0 0 0;\n",
              "      width: 32px;\n",
              "    }\n",
              "\n",
              "    .colab-df-convert:hover {\n",
              "      background-color: #E2EBFA;\n",
              "      box-shadow: 0px 1px 2px rgba(60, 64, 67, 0.3), 0px 1px 3px 1px rgba(60, 64, 67, 0.15);\n",
              "      fill: #174EA6;\n",
              "    }\n",
              "\n",
              "    [theme=dark] .colab-df-convert {\n",
              "      background-color: #3B4455;\n",
              "      fill: #D2E3FC;\n",
              "    }\n",
              "\n",
              "    [theme=dark] .colab-df-convert:hover {\n",
              "      background-color: #434B5C;\n",
              "      box-shadow: 0px 1px 3px 1px rgba(0, 0, 0, 0.15);\n",
              "      filter: drop-shadow(0px 1px 2px rgba(0, 0, 0, 0.3));\n",
              "      fill: #FFFFFF;\n",
              "    }\n",
              "  </style>\n",
              "\n",
              "      <script>\n",
              "        const buttonEl =\n",
              "          document.querySelector('#df-a04e49a8-bc25-4b83-af5c-89e764f8edf4 button.colab-df-convert');\n",
              "        buttonEl.style.display =\n",
              "          google.colab.kernel.accessAllowed ? 'block' : 'none';\n",
              "\n",
              "        async function convertToInteractive(key) {\n",
              "          const element = document.querySelector('#df-a04e49a8-bc25-4b83-af5c-89e764f8edf4');\n",
              "          const dataTable =\n",
              "            await google.colab.kernel.invokeFunction('convertToInteractive',\n",
              "                                                     [key], {});\n",
              "          if (!dataTable) return;\n",
              "\n",
              "          const docLinkHtml = 'Like what you see? Visit the ' +\n",
              "            '<a target=\"_blank\" href=https://colab.research.google.com/notebooks/data_table.ipynb>data table notebook</a>'\n",
              "            + ' to learn more about interactive tables.';\n",
              "          element.innerHTML = '';\n",
              "          dataTable['output_type'] = 'display_data';\n",
              "          await google.colab.output.renderOutput(dataTable, element);\n",
              "          const docLink = document.createElement('div');\n",
              "          docLink.innerHTML = docLinkHtml;\n",
              "          element.appendChild(docLink);\n",
              "        }\n",
              "      </script>\n",
              "    </div>\n",
              "  </div>\n",
              "  "
            ]
          },
          "metadata": {},
          "execution_count": 57
        }
      ],
      "source": [
        "test2 = test2.dropna().reset_index(drop=True)\n",
        "X2 = test2.text.values\n",
        "X2_tfidf = tfidf_v.transform(X2).toarray()\n",
        "test2['label_rf'] = rf_clf.predict(X2_tfidf)\n",
        "test2.head()"
      ]
    },
    {
      "cell_type": "code",
      "execution_count": 58,
      "metadata": {
        "colab": {
          "base_uri": "https://localhost:8080/"
        },
        "id": "oRx1nu6TG6N0",
        "outputId": "78ac1579-3dc4-450c-cd2b-33ea6aac7ca5"
      },
      "outputs": [
        {
          "output_type": "execute_result",
          "data": {
            "text/plain": [
              "0.7434885556432518"
            ]
          },
          "metadata": {},
          "execution_count": 58
        }
      ],
      "source": [
        "accuracy_score(test2.label,test2.label_rf)      # RandomForest model"
      ]
    },
    {
      "cell_type": "code",
      "execution_count": 59,
      "metadata": {
        "colab": {
          "base_uri": "https://localhost:8080/"
        },
        "id": "xmfGFffJUdmH",
        "outputId": "5632f84d-09ac-4740-e392-3da11e8adf8d"
      },
      "outputs": [
        {
          "output_type": "stream",
          "name": "stdout",
          "text": [
            "              precision    recall  f1-score   support\n",
            "\n",
            "           0       0.73      0.76      0.75       634\n",
            "           1       0.75      0.72      0.74       633\n",
            "\n",
            "    accuracy                           0.74      1267\n",
            "   macro avg       0.74      0.74      0.74      1267\n",
            "weighted avg       0.74      0.74      0.74      1267\n",
            "\n"
          ]
        }
      ],
      "source": [
        "print(classification_report(test2.label,test2.label_rf))      # RandomForest model"
      ]
    },
    {
      "cell_type": "code",
      "execution_count": 60,
      "metadata": {
        "colab": {
          "base_uri": "https://localhost:8080/",
          "height": 328
        },
        "id": "Zv-cgCKBkRiN",
        "outputId": "884ccb4a-89ab-45b3-8cd9-58b0d419e54e"
      },
      "outputs": [
        {
          "output_type": "stream",
          "name": "stdout",
          "text": [
            "Confusion matrix, without normalization\n"
          ]
        },
        {
          "output_type": "display_data",
          "data": {
            "text/plain": [
              "<Figure size 432x288 with 2 Axes>"
            ],
            "image/png": "[encoded data removed]"
          },
          "metadata": {
            "needs_background": "light"
          }
        }
      ],
      "source": [
        "cm2_rf = confusion_matrix(test2.label,test2.label_rf)       # RandomForest model\n",
        "plot_confusion_matrix(cm2_rf,classes=['True','Fake'])"
      ]
    },
    {
      "cell_type": "code",
      "execution_count": 61,
      "metadata": {
        "id": "uNUnfnkSHX48"
      },
      "outputs": [],
      "source": [
        "test2['label_lr'] = lr.predict(X2_tfidf)"
      ]
    },
    {
      "cell_type": "code",
      "execution_count": 62,
      "metadata": {
        "colab": {
          "base_uri": "https://localhost:8080/"
        },
        "id": "meWibnNFHr0K",
        "outputId": "d2e382d5-e48a-45eb-c5b9-ef89d31e9df0"
      },
      "outputs": [
        {
          "output_type": "execute_result",
          "data": {
            "text/plain": [
              "0.856353591160221"
            ]
          },
          "metadata": {},
          "execution_count": 62
        }
      ],
      "source": [
        "accuracy_score(test2.label,test2.label_lr)      # Logistic Regression model"
      ]
    },
    {
      "cell_type": "code",
      "execution_count": 63,
      "metadata": {
        "colab": {
          "base_uri": "https://localhost:8080/"
        },
        "id": "4qTi4Bm-Icgp",
        "outputId": "1757141b-abe1-49e6-a6a5-78e39c25c5dd"
      },
      "outputs": [
        {
          "output_type": "stream",
          "name": "stdout",
          "text": [
            "              precision    recall  f1-score   support\n",
            "\n",
            "           0       0.93      0.77      0.84       634\n",
            "           1       0.80      0.94      0.87       633\n",
            "\n",
            "    accuracy                           0.86      1267\n",
            "   macro avg       0.87      0.86      0.86      1267\n",
            "weighted avg       0.87      0.86      0.86      1267\n",
            "\n"
          ]
        }
      ],
      "source": [
        "print(classification_report(test2.label,test2.label_lr))      # Logistic Regression model"
      ]
    },
    {
      "cell_type": "code",
      "execution_count": 64,
      "metadata": {
        "colab": {
          "base_uri": "https://localhost:8080/",
          "height": 328
        },
        "id": "eTzWUx9okeQh",
        "outputId": "f288ded8-c9a5-4726-c479-a47f20e28211"
      },
      "outputs": [
        {
          "output_type": "stream",
          "name": "stdout",
          "text": [
            "Confusion matrix, without normalization\n"
          ]
        },
        {
          "output_type": "display_data",
          "data": {
            "text/plain": [
              "<Figure size 432x288 with 2 Axes>"
            ],
            "image/png": "[encoded data removed]"
          },
          "metadata": {
            "needs_background": "light"
          }
        }
      ],
      "source": [
        "cm2_lr = confusion_matrix(test2.label,test2.label_lr)     # Logistic Regression model\n",
        "plot_confusion_matrix(cm2_lr,classes=['True','Fake'])"
      ]
    },
    {
      "cell_type": "markdown",
      "metadata": {
        "id": "3uH45H8fk0uG"
      },
      "source": [
        "## <b> test3 </b>"
      ]
    },
    {
      "cell_type": "code",
      "execution_count": 65,
      "metadata": {
        "colab": {
          "base_uri": "https://localhost:8080/",
          "height": 337
        },
        "id": "U4TCu_9ugHW7",
        "outputId": "3760dbcb-98aa-4ff6-9748-ea9dccc58113"
      },
      "outputs": [
        {
          "output_type": "execute_result",
          "data": {
            "text/plain": [
              "      unit_id                                              title  \\\n",
              "0  1923102934  Syria Regime kills 25 civilians in Hama airstr...   \n",
              "1  1962495719  50 ISIS Terrorists Killed in Syrian Army Anti-...   \n",
              "2  1923848284  Group IS group land mines killed wounded dozen...   \n",
              "3  1924058204  Airstrikes on clinic kill 5 medics in Syrias A...   \n",
              "4  1918150033  Toxic Gas Dropped on Syrian Town After Russian...   \n",
              "\n",
              "                                                text         source  \\\n",
              "0  Date of publication 1 September 2016 At least ...        alaraby   \n",
              "1  Thu Dec 29 2016 50 ISIS Terrorists Killed in S...         alalam   \n",
              "2  Group IS group land mines killed wounded dozen...          ahram   \n",
              "3  Published September 21 2016 Five medics were k...     dailysabah   \n",
              "4  Posted on August 3 2016 by Jordan Dakamseh Tox...  asharqalawsat   \n",
              "\n",
              "         date location  labels  label  label_rf  \n",
              "0    9/1/2016     hama       0      1         0  \n",
              "1  12/29/2016     homs       1      0         0  \n",
              "2   10/6/2016   aleppo       0      1         0  \n",
              "3    9/7/2016   aleppo       1      0         0  \n",
              "4    8/3/2016    idlib       0      1         0  "
            ],
            "text/html": [
              "\n",
              "  <div id=\"df-3d992b80-c93d-44f4-8ad7-802ecb2fb742\">\n",
              "    <div class=\"colab-df-container\">\n",
              "      <div>\n",
              "<style scoped>\n",
              "    .dataframe tbody tr th:only-of-type {\n",
              "        vertical-align: middle;\n",
              "    }\n",
              "\n",
              "    .dataframe tbody tr th {\n",
              "        vertical-align: top;\n",
              "    }\n",
              "\n",
              "    .dataframe thead th {\n",
              "        text-align: right;\n",
              "    }\n",
              "</style>\n",
              "<table border=\"1\" class=\"dataframe\">\n",
              "  <thead>\n",
              "    <tr style=\"text-align: right;\">\n",
              "      <th></th>\n",
              "      <th>unit_id</th>\n",
              "      <th>title</th>\n",
              "      <th>text</th>\n",
              "      <th>source</th>\n",
              "      <th>date</th>\n",
              "      <th>location</th>\n",
              "      <th>labels</th>\n",
              "      <th>label</th>\n",
              "      <th>label_rf</th>\n",
              "    </tr>\n",
              "  </thead>\n",
              "  <tbody>\n",
              "    <tr>\n",
              "      <th>0</th>\n",
              "      <td>1923102934</td>\n",
              "      <td>Syria Regime kills 25 civilians in Hama airstr...</td>\n",
              "      <td>Date of publication 1 September 2016 At least ...</td>\n",
              "      <td>alaraby</td>\n",
              "      <td>9/1/2016</td>\n",
              "      <td>hama</td>\n",
              "      <td>0</td>\n",
              "      <td>1</td>\n",
              "      <td>0</td>\n",
              "    </tr>\n",
              "    <tr>\n",
              "      <th>1</th>\n",
              "      <td>1962495719</td>\n",
              "      <td>50 ISIS Terrorists Killed in Syrian Army Anti-...</td>\n",
              "      <td>Thu Dec 29 2016 50 ISIS Terrorists Killed in S...</td>\n",
              "      <td>alalam</td>\n",
              "      <td>12/29/2016</td>\n",
              "      <td>homs</td>\n",
              "      <td>1</td>\n",
              "      <td>0</td>\n",
              "      <td>0</td>\n",
              "    </tr>\n",
              "    <tr>\n",
              "      <th>2</th>\n",
              "      <td>1923848284</td>\n",
              "      <td>Group IS group land mines killed wounded dozen...</td>\n",
              "      <td>Group IS group land mines killed wounded dozen...</td>\n",
              "      <td>ahram</td>\n",
              "      <td>10/6/2016</td>\n",
              "      <td>aleppo</td>\n",
              "      <td>0</td>\n",
              "      <td>1</td>\n",
              "      <td>0</td>\n",
              "    </tr>\n",
              "    <tr>\n",
              "      <th>3</th>\n",
              "      <td>1924058204</td>\n",
              "      <td>Airstrikes on clinic kill 5 medics in Syrias A...</td>\n",
              "      <td>Published September 21 2016 Five medics were k...</td>\n",
              "      <td>dailysabah</td>\n",
              "      <td>9/7/2016</td>\n",
              "      <td>aleppo</td>\n",
              "      <td>1</td>\n",
              "      <td>0</td>\n",
              "      <td>0</td>\n",
              "    </tr>\n",
              "    <tr>\n",
              "      <th>4</th>\n",
              "      <td>1918150033</td>\n",
              "      <td>Toxic Gas Dropped on Syrian Town After Russian...</td>\n",
              "      <td>Posted on August 3 2016 by Jordan Dakamseh Tox...</td>\n",
              "      <td>asharqalawsat</td>\n",
              "      <td>8/3/2016</td>\n",
              "      <td>idlib</td>\n",
              "      <td>0</td>\n",
              "      <td>1</td>\n",
              "      <td>0</td>\n",
              "    </tr>\n",
              "  </tbody>\n",
              "</table>\n",
              "</div>\n",
              "      <button class=\"colab-df-convert\" onclick=\"convertToInteractive('df-3d992b80-c93d-44f4-8ad7-802ecb2fb742')\"\n",
              "              title=\"Convert this dataframe to an interactive table.\"\n",
              "              style=\"display:none;\">\n",
              "        \n",
              "  <svg xmlns=\"http://www.w3.org/2000/svg\" height=\"24px\"viewBox=\"0 0 24 24\"\n",
              "       width=\"24px\">\n",
              "    <path d=\"M0 0h24v24H0V0z\" fill=\"none\"/>\n",
              "    <path d=\"M18.56 5.44l.94 2.06.94-2.06 2.06-.94-2.06-.94-.94-2.06-.94 2.06-2.06.94zm-11 1L8.5 8.5l.94-2.06 2.06-.94-2.06-.94L8.5 2.5l-.94 2.06-2.06.94zm10 10l.94 2.06.94-2.06 2.06-.94-2.06-.94-.94-2.06-.94 2.06-2.06.94z\"/><path d=\"M17.41 7.96l-1.37-1.37c-.4-.4-.92-.59-1.43-.59-.52 0-1.04.2-1.43.59L10.3 9.45l-7.72 7.72c-.78.78-.78 2.05 0 2.83L4 21.41c.39.39.9.59 1.41.59.51 0 1.02-.2 1.41-.59l7.78-7.78 2.81-2.81c.8-.78.8-2.07 0-2.86zM5.41 20L4 18.59l7.72-7.72 1.47 1.35L5.41 20z\"/>\n",
              "  </svg>\n",
              "      </button>\n",
              "      \n",
              "  <style>\n",
              "    .colab-df-container {\n",
              "      display:flex;\n",
              "      flex-wrap:wrap;\n",
              "      gap: 12px;\n",
              "    }\n",
              "\n",
              "    .colab-df-convert {\n",
              "      background-color: #E8F0FE;\n",
              "      border: none;\n",
              "      border-radius: 50%;\n",
              "      cursor: pointer;\n",
              "      display: none;\n",
              "      fill: #1967D2;\n",
              "      height: 32px;\n",
              "      padding: 0 0 0 0;\n",
              "      width: 32px;\n",
              "    }\n",
              "\n",
              "    .colab-df-convert:hover {\n",
              "      background-color: #E2EBFA;\n",
              "      box-shadow: 0px 1px 2px rgba(60, 64, 67, 0.3), 0px 1px 3px 1px rgba(60, 64, 67, 0.15);\n",
              "      fill: #174EA6;\n",
              "    }\n",
              "\n",
              "    [theme=dark] .colab-df-convert {\n",
              "      background-color: #3B4455;\n",
              "      fill: #D2E3FC;\n",
              "    }\n",
              "\n",
              "    [theme=dark] .colab-df-convert:hover {\n",
              "      background-color: #434B5C;\n",
              "      box-shadow: 0px 1px 3px 1px rgba(0, 0, 0, 0.15);\n",
              "      filter: drop-shadow(0px 1px 2px rgba(0, 0, 0, 0.3));\n",
              "      fill: #FFFFFF;\n",
              "    }\n",
              "  </style>\n",
              "\n",
              "      <script>\n",
              "        const buttonEl =\n",
              "          document.querySelector('#df-3d992b80-c93d-44f4-8ad7-802ecb2fb742 button.colab-df-convert');\n",
              "        buttonEl.style.display =\n",
              "          google.colab.kernel.accessAllowed ? 'block' : 'none';\n",
              "\n",
              "        async function convertToInteractive(key) {\n",
              "          const element = document.querySelector('#df-3d992b80-c93d-44f4-8ad7-802ecb2fb742');\n",
              "          const dataTable =\n",
              "            await google.colab.kernel.invokeFunction('convertToInteractive',\n",
              "                                                     [key], {});\n",
              "          if (!dataTable) return;\n",
              "\n",
              "          const docLinkHtml = 'Like what you see? Visit the ' +\n",
              "            '<a target=\"_blank\" href=https://colab.research.google.com/notebooks/data_table.ipynb>data table notebook</a>'\n",
              "            + ' to learn more about interactive tables.';\n",
              "          element.innerHTML = '';\n",
              "          dataTable['output_type'] = 'display_data';\n",
              "          await google.colab.output.renderOutput(dataTable, element);\n",
              "          const docLink = document.createElement('div');\n",
              "          docLink.innerHTML = docLinkHtml;\n",
              "          element.appendChild(docLink);\n",
              "        }\n",
              "      </script>\n",
              "    </div>\n",
              "  </div>\n",
              "  "
            ]
          },
          "metadata": {},
          "execution_count": 65
        }
      ],
      "source": [
        "test3 = test3.dropna().reset_index(drop=True)\n",
        "X3 = test3.text.values\n",
        "X3_tfidf = tfidf_v.transform(X3).toarray()\n",
        "test3['label_rf'] = rf_clf.predict(X3_tfidf)\n",
        "test3.head()"
      ]
    },
    {
      "cell_type": "code",
      "execution_count": 66,
      "metadata": {
        "colab": {
          "base_uri": "https://localhost:8080/"
        },
        "id": "XPdngZHBmHGe",
        "outputId": "5464829c-201e-4a5d-e55f-90c87b6131fa"
      },
      "outputs": [
        {
          "output_type": "execute_result",
          "data": {
            "text/plain": [
              "0.5279503105590062"
            ]
          },
          "metadata": {},
          "execution_count": 66
        }
      ],
      "source": [
        "accuracy_score(test3.label,test3.label_rf)      # RandomForest model"
      ]
    },
    {
      "cell_type": "code",
      "execution_count": 67,
      "metadata": {
        "colab": {
          "base_uri": "https://localhost:8080/"
        },
        "id": "L1jCPQzenbwh",
        "outputId": "d81e4523-52c3-41a5-b18b-b322bf8c6406"
      },
      "outputs": [
        {
          "output_type": "stream",
          "name": "stdout",
          "text": [
            "              precision    recall  f1-score   support\n",
            "\n",
            "           0       0.53      0.86      0.66        85\n",
            "           1       0.50      0.16      0.24        76\n",
            "\n",
            "    accuracy                           0.53       161\n",
            "   macro avg       0.52      0.51      0.45       161\n",
            "weighted avg       0.52      0.53      0.46       161\n",
            "\n"
          ]
        }
      ],
      "source": [
        "print(classification_report(test3.label,test3.label_rf))      # RandomForest model"
      ]
    },
    {
      "cell_type": "code",
      "execution_count": 68,
      "metadata": {
        "colab": {
          "base_uri": "https://localhost:8080/",
          "height": 328
        },
        "id": "oL1bfuiinjmt",
        "outputId": "e0eec01b-03b7-46e0-e9fc-234b34e756d2"
      },
      "outputs": [
        {
          "output_type": "stream",
          "name": "stdout",
          "text": [
            "Confusion matrix, without normalization\n"
          ]
        },
        {
          "output_type": "display_data",
          "data": {
            "text/plain": [
              "<Figure size 432x288 with 2 Axes>"
            ],
            "image/png": "[encoded data removed]"
          },
          "metadata": {
            "needs_background": "light"
          }
        }
      ],
      "source": [
        "cm3_rf = confusion_matrix(test3.label,test3.label_rf)       # RandomForest model\n",
        "plot_confusion_matrix(cm3_rf,classes=['True','Fake'])"
      ]
    },
    {
      "cell_type": "code",
      "execution_count": 69,
      "metadata": {
        "id": "k8dOc03Emoma"
      },
      "outputs": [],
      "source": [
        "test3['label_lr'] = lr.predict(X3_tfidf)"
      ]
    },
    {
      "cell_type": "code",
      "execution_count": 70,
      "metadata": {
        "id": "8JWcTOgLm9F4",
        "colab": {
          "base_uri": "https://localhost:8080/"
        },
        "outputId": "bc1fcb3b-b925-48a4-d193-40b87d9486eb"
      },
      "outputs": [
        {
          "output_type": "execute_result",
          "data": {
            "text/plain": [
              "0.5031055900621118"
            ]
          },
          "metadata": {},
          "execution_count": 70
        }
      ],
      "source": [
        "accuracy_score(test3.label,test3.label_lr)      # Logistic Regression model"
      ]
    },
    {
      "cell_type": "code",
      "execution_count": 71,
      "metadata": {
        "id": "AP6qR5OwnAO6",
        "colab": {
          "base_uri": "https://localhost:8080/"
        },
        "outputId": "0094c4d3-ce2c-48a7-ba8c-6607a1fa168f"
      },
      "outputs": [
        {
          "output_type": "stream",
          "name": "stdout",
          "text": [
            "              precision    recall  f1-score   support\n",
            "\n",
            "           0       0.53      0.55      0.54        85\n",
            "           1       0.47      0.45      0.46        76\n",
            "\n",
            "    accuracy                           0.50       161\n",
            "   macro avg       0.50      0.50      0.50       161\n",
            "weighted avg       0.50      0.50      0.50       161\n",
            "\n"
          ]
        }
      ],
      "source": [
        "print(classification_report(test3.label,test3.label_lr))      # Logistic Regression model"
      ]
    },
    {
      "cell_type": "code",
      "execution_count": 72,
      "metadata": {
        "id": "GTwlRsSLnYo7",
        "colab": {
          "base_uri": "https://localhost:8080/",
          "height": 328
        },
        "outputId": "7bc88128-b9ea-46f5-bd70-d609944f2b03"
      },
      "outputs": [
        {
          "output_type": "stream",
          "name": "stdout",
          "text": [
            "Confusion matrix, without normalization\n"
          ]
        },
        {
          "output_type": "display_data",
          "data": {
            "text/plain": [
              "<Figure size 432x288 with 2 Axes>"
            ],
            "image/png": "[encoded data removed]"
          },
          "metadata": {
            "needs_background": "light"
          }
        }
      ],
      "source": [
        "cm3_lr = confusion_matrix(test3.label,test3.label_lr)       # Logistic Regression model\n",
        "plot_confusion_matrix(cm3_lr,classes=['True','Fake'])"
      ]
    },
    {
      "cell_type": "markdown",
      "metadata": {
        "id": "-SuS_PC5k4hw"
      },
      "source": [
        "## <b> test4 </b>"
      ]
    },
    {
      "cell_type": "code",
      "execution_count": 73,
      "metadata": {
        "id": "YXiXKXm_gnfI",
        "colab": {
          "base_uri": "https://localhost:8080/",
          "height": 206
        },
        "outputId": "d50f424d-f0b4-4b11-ee9e-282b2eb3beda"
      },
      "outputs": [
        {
          "output_type": "execute_result",
          "data": {
            "text/plain": [
              "                                               title  \\\n",
              "0   NH Car Dealer Gives Away Free AR-15s With Car...   \n",
              "1  “LIBERAL BULLY” Middle School Teacher Tells St...   \n",
              "2  Ousted Catalan leader says will not return to ...   \n",
              "3  Witness says injured in stampede at London sta...   \n",
              "4  White House unveils measures to help inmates f...   \n",
              "\n",
              "                                                text       subject  \\\n",
              "0  Mike Hagan has a used car dealership and repai...          News   \n",
              "1  Outspoken conservative CJ Pearson hasn t heard...     left-news   \n",
              "2  MADRID (Reuters) - Dismissed Catalan leader Ca...     worldnews   \n",
              "3  LONDON (Reuters) - A woman at London s Parsons...     worldnews   \n",
              "4  WASHINGTON (Reuters) - The Obama administratio...  politicsNews   \n",
              "\n",
              "                  date  label  label_rf  \n",
              "0        June 18, 2016      1         1  \n",
              "1         Oct 18, 2015      1         1  \n",
              "2    November 1, 2017       0         0  \n",
              "3  September 15, 2017       0         0  \n",
              "4       June 24, 2016       0         0  "
            ],
            "text/html": [
              "\n",
              "  <div id=\"df-663fc731-387f-43db-af52-79b9ab02c376\">\n",
              "    <div class=\"colab-df-container\">\n",
              "      <div>\n",
              "<style scoped>\n",
              "    .dataframe tbody tr th:only-of-type {\n",
              "        vertical-align: middle;\n",
              "    }\n",
              "\n",
              "    .dataframe tbody tr th {\n",
              "        vertical-align: top;\n",
              "    }\n",
              "\n",
              "    .dataframe thead th {\n",
              "        text-align: right;\n",
              "    }\n",
              "</style>\n",
              "<table border=\"1\" class=\"dataframe\">\n",
              "  <thead>\n",
              "    <tr style=\"text-align: right;\">\n",
              "      <th></th>\n",
              "      <th>title</th>\n",
              "      <th>text</th>\n",
              "      <th>subject</th>\n",
              "      <th>date</th>\n",
              "      <th>label</th>\n",
              "      <th>label_rf</th>\n",
              "    </tr>\n",
              "  </thead>\n",
              "  <tbody>\n",
              "    <tr>\n",
              "      <th>0</th>\n",
              "      <td>NH Car Dealer Gives Away Free AR-15s With Car...</td>\n",
              "      <td>Mike Hagan has a used car dealership and repai...</td>\n",
              "      <td>News</td>\n",
              "      <td>June 18, 2016</td>\n",
              "      <td>1</td>\n",
              "      <td>1</td>\n",
              "    </tr>\n",
              "    <tr>\n",
              "      <th>1</th>\n",
              "      <td>“LIBERAL BULLY” Middle School Teacher Tells St...</td>\n",
              "      <td>Outspoken conservative CJ Pearson hasn t heard...</td>\n",
              "      <td>left-news</td>\n",
              "      <td>Oct 18, 2015</td>\n",
              "      <td>1</td>\n",
              "      <td>1</td>\n",
              "    </tr>\n",
              "    <tr>\n",
              "      <th>2</th>\n",
              "      <td>Ousted Catalan leader says will not return to ...</td>\n",
              "      <td>MADRID (Reuters) - Dismissed Catalan leader Ca...</td>\n",
              "      <td>worldnews</td>\n",
              "      <td>November 1, 2017</td>\n",
              "      <td>0</td>\n",
              "      <td>0</td>\n",
              "    </tr>\n",
              "    <tr>\n",
              "      <th>3</th>\n",
              "      <td>Witness says injured in stampede at London sta...</td>\n",
              "      <td>LONDON (Reuters) - A woman at London s Parsons...</td>\n",
              "      <td>worldnews</td>\n",
              "      <td>September 15, 2017</td>\n",
              "      <td>0</td>\n",
              "      <td>0</td>\n",
              "    </tr>\n",
              "    <tr>\n",
              "      <th>4</th>\n",
              "      <td>White House unveils measures to help inmates f...</td>\n",
              "      <td>WASHINGTON (Reuters) - The Obama administratio...</td>\n",
              "      <td>politicsNews</td>\n",
              "      <td>June 24, 2016</td>\n",
              "      <td>0</td>\n",
              "      <td>0</td>\n",
              "    </tr>\n",
              "  </tbody>\n",
              "</table>\n",
              "</div>\n",
              "      <button class=\"colab-df-convert\" onclick=\"convertToInteractive('df-663fc731-387f-43db-af52-79b9ab02c376')\"\n",
              "              title=\"Convert this dataframe to an interactive table.\"\n",
              "              style=\"display:none;\">\n",
              "        \n",
              "  <svg xmlns=\"http://www.w3.org/2000/svg\" height=\"24px\"viewBox=\"0 0 24 24\"\n",
              "       width=\"24px\">\n",
              "    <path d=\"M0 0h24v24H0V0z\" fill=\"none\"/>\n",
              "    <path d=\"M18.56 5.44l.94 2.06.94-2.06 2.06-.94-2.06-.94-.94-2.06-.94 2.06-2.06.94zm-11 1L8.5 8.5l.94-2.06 2.06-.94-2.06-.94L8.5 2.5l-.94 2.06-2.06.94zm10 10l.94 2.06.94-2.06 2.06-.94-2.06-.94-.94-2.06-.94 2.06-2.06.94z\"/><path d=\"M17.41 7.96l-1.37-1.37c-.4-.4-.92-.59-1.43-.59-.52 0-1.04.2-1.43.59L10.3 9.45l-7.72 7.72c-.78.78-.78 2.05 0 2.83L4 21.41c.39.39.9.59 1.41.59.51 0 1.02-.2 1.41-.59l7.78-7.78 2.81-2.81c.8-.78.8-2.07 0-2.86zM5.41 20L4 18.59l7.72-7.72 1.47 1.35L5.41 20z\"/>\n",
              "  </svg>\n",
              "      </button>\n",
              "      \n",
              "  <style>\n",
              "    .colab-df-container {\n",
              "      display:flex;\n",
              "      flex-wrap:wrap;\n",
              "      gap: 12px;\n",
              "    }\n",
              "\n",
              "    .colab-df-convert {\n",
              "      background-color: #E8F0FE;\n",
              "      border: none;\n",
              "      border-radius: 50%;\n",
              "      cursor: pointer;\n",
              "      display: none;\n",
              "      fill: #1967D2;\n",
              "      height: 32px;\n",
              "      padding: 0 0 0 0;\n",
              "      width: 32px;\n",
              "    }\n",
              "\n",
              "    .colab-df-convert:hover {\n",
              "      background-color: #E2EBFA;\n",
              "      box-shadow: 0px 1px 2px rgba(60, 64, 67, 0.3), 0px 1px 3px 1px rgba(60, 64, 67, 0.15);\n",
              "      fill: #174EA6;\n",
              "    }\n",
              "\n",
              "    [theme=dark] .colab-df-convert {\n",
              "      background-color: #3B4455;\n",
              "      fill: #D2E3FC;\n",
              "    }\n",
              "\n",
              "    [theme=dark] .colab-df-convert:hover {\n",
              "      background-color: #434B5C;\n",
              "      box-shadow: 0px 1px 3px 1px rgba(0, 0, 0, 0.15);\n",
              "      filter: drop-shadow(0px 1px 2px rgba(0, 0, 0, 0.3));\n",
              "      fill: #FFFFFF;\n",
              "    }\n",
              "  </style>\n",
              "\n",
              "      <script>\n",
              "        const buttonEl =\n",
              "          document.querySelector('#df-663fc731-387f-43db-af52-79b9ab02c376 button.colab-df-convert');\n",
              "        buttonEl.style.display =\n",
              "          google.colab.kernel.accessAllowed ? 'block' : 'none';\n",
              "\n",
              "        async function convertToInteractive(key) {\n",
              "          const element = document.querySelector('#df-663fc731-387f-43db-af52-79b9ab02c376');\n",
              "          const dataTable =\n",
              "            await google.colab.kernel.invokeFunction('convertToInteractive',\n",
              "                                                     [key], {});\n",
              "          if (!dataTable) return;\n",
              "\n",
              "          const docLinkHtml = 'Like what you see? Visit the ' +\n",
              "            '<a target=\"_blank\" href=https://colab.research.google.com/notebooks/data_table.ipynb>data table notebook</a>'\n",
              "            + ' to learn more about interactive tables.';\n",
              "          element.innerHTML = '';\n",
              "          dataTable['output_type'] = 'display_data';\n",
              "          await google.colab.output.renderOutput(dataTable, element);\n",
              "          const docLink = document.createElement('div');\n",
              "          docLink.innerHTML = docLinkHtml;\n",
              "          element.appendChild(docLink);\n",
              "        }\n",
              "      </script>\n",
              "    </div>\n",
              "  </div>\n",
              "  "
            ]
          },
          "metadata": {},
          "execution_count": 73
        }
      ],
      "source": [
        "test4 = test4.dropna().reset_index(drop=True)\n",
        "X4 = test4.text.values\n",
        "X4_tfidf = tfidf_v.transform(X4).toarray()\n",
        "test4['label_rf'] = rf_clf.predict(X4_tfidf)\n",
        "test4.head()"
      ]
    },
    {
      "cell_type": "code",
      "execution_count": 74,
      "metadata": {
        "id": "6zM1hxBNhPYB",
        "colab": {
          "base_uri": "https://localhost:8080/"
        },
        "outputId": "392b6a24-ee93-47de-f38f-44d2cbc630ac"
      },
      "outputs": [
        {
          "output_type": "execute_result",
          "data": {
            "text/plain": [
              "0.9155902004454343"
            ]
          },
          "metadata": {},
          "execution_count": 74
        }
      ],
      "source": [
        "accuracy_score(test4.label,test4.label_rf)      # RandomForest model"
      ]
    },
    {
      "cell_type": "code",
      "execution_count": 75,
      "metadata": {
        "id": "fDENSe82hbIi",
        "colab": {
          "base_uri": "https://localhost:8080/"
        },
        "outputId": "20a8b6b9-2064-40d4-a75a-d7574f218d6b"
      },
      "outputs": [
        {
          "output_type": "stream",
          "name": "stdout",
          "text": [
            "              precision    recall  f1-score   support\n",
            "\n",
            "           0       0.85      1.00      0.92      4284\n",
            "           1       1.00      0.84      0.91      4696\n",
            "\n",
            "    accuracy                           0.92      8980\n",
            "   macro avg       0.92      0.92      0.92      8980\n",
            "weighted avg       0.93      0.92      0.92      8980\n",
            "\n"
          ]
        }
      ],
      "source": [
        "print(classification_report(test4.label,test4.label_rf))      # RandomForest model"
      ]
    },
    {
      "cell_type": "code",
      "execution_count": 76,
      "metadata": {
        "id": "YsNsLGXphiS2",
        "colab": {
          "base_uri": "https://localhost:8080/",
          "height": 328
        },
        "outputId": "73c0763a-6d44-4a74-9064-951aebbea616"
      },
      "outputs": [
        {
          "output_type": "stream",
          "name": "stdout",
          "text": [
            "Confusion matrix, without normalization\n"
          ]
        },
        {
          "output_type": "display_data",
          "data": {
            "text/plain": [
              "<Figure size 432x288 with 2 Axes>"
            ],
            "image/png": "[encoded data removed]"
          },
          "metadata": {
            "needs_background": "light"
          }
        }
      ],
      "source": [
        "cm4_rf = confusion_matrix(test4.label,test4.label_rf)       # RandomForest model\n",
        "plot_confusion_matrix(cm4_rf,classes=['True','Fake'])"
      ]
    },
    {
      "cell_type": "code",
      "execution_count": 77,
      "metadata": {
        "id": "J9N4jdeGiu9B"
      },
      "outputs": [],
      "source": [
        "test4['label_lr'] = lr.predict(X4_tfidf)"
      ]
    },
    {
      "cell_type": "code",
      "execution_count": 78,
      "metadata": {
        "id": "Fz-2uoopi3WM",
        "colab": {
          "base_uri": "https://localhost:8080/"
        },
        "outputId": "ea8b5345-9da4-4145-8fe7-fcf36f8c3eae"
      },
      "outputs": [
        {
          "output_type": "execute_result",
          "data": {
            "text/plain": [
              "0.9678173719376392"
            ]
          },
          "metadata": {},
          "execution_count": 78
        }
      ],
      "source": [
        "accuracy_score(test4.label,test4.label_lr)      # Logistic Regression model"
      ]
    },
    {
      "cell_type": "code",
      "execution_count": 79,
      "metadata": {
        "id": "7zkTT4Ahi9KT",
        "colab": {
          "base_uri": "https://localhost:8080/"
        },
        "outputId": "f120bf4f-a526-4acb-ede4-a755c7b49f86"
      },
      "outputs": [
        {
          "output_type": "stream",
          "name": "stdout",
          "text": [
            "              precision    recall  f1-score   support\n",
            "\n",
            "           0       0.94      0.99      0.97      4284\n",
            "           1       0.99      0.94      0.97      4696\n",
            "\n",
            "    accuracy                           0.97      8980\n",
            "   macro avg       0.97      0.97      0.97      8980\n",
            "weighted avg       0.97      0.97      0.97      8980\n",
            "\n"
          ]
        }
      ],
      "source": [
        "print(classification_report(test4.label,test4.label_lr))      # Logistic Regression model"
      ]
    },
    {
      "cell_type": "code",
      "execution_count": 80,
      "metadata": {
        "id": "FsRXx9h1jDCj",
        "colab": {
          "base_uri": "https://localhost:8080/",
          "height": 328
        },
        "outputId": "d3e39c24-f3c0-4f41-ec5d-8da31ad46485"
      },
      "outputs": [
        {
          "output_type": "stream",
          "name": "stdout",
          "text": [
            "Confusion matrix, without normalization\n"
          ]
        },
        {
          "output_type": "display_data",
          "data": {
            "text/plain": [
              "<Figure size 432x288 with 2 Axes>"
            ],
            "image/png": "[encoded data removed]"
          },
          "metadata": {
            "needs_background": "light"
          }
        }
      ],
      "source": [
        "cm4_lr = confusion_matrix(test4.label,test4.label_lr)       # Logistic Regression model\n",
        "plot_confusion_matrix(cm4_lr,classes=['True','Fake'])"
      ]
    }
  ],
  "metadata": {
    "colab": {
      "provenance": [],
      "authorship_tag": "ABX9TyPI7ovRyyIaOlaSjmOTlvoN"
    },
    "kernelspec": {
      "display_name": "Python 3",
      "name": "python3"
    },
    "language_info": {
      "name": "python"
    }
  },
  "nbformat": 4,
  "nbformat_minor": 0
}