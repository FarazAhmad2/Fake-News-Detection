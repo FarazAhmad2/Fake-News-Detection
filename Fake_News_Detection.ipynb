{
  "cells": [
    {
      "cell_type": "markdown",
      "metadata": {
        "id": "view-in-github",
        "colab_type": "text"
      },
      "source": [
        "<a href=\"https://colab.research.google.com/github/FarazAhmad2/Fake-News-Detection/blob/main/Fake_News_Detection.ipynb\" target=\"_parent\"><img src=\"https://colab.research.google.com/assets/colab-badge.svg\" alt=\"Open In Colab\"/></a>"
      ]
    },
    {
      "cell_type": "markdown",
      "source": [
        "#### We have used 4 different datasets in this project. We first split each dataset into train and test set. After splitting, we merge train set of each dataset and shuffle them. For ML modelling, we again split this new dataset into train and validation set. Then we test this model on individual test sets (that we created in the beginning)."
      ],
      "metadata": {
        "id": "BlXgdIFlp7Av"
      }
    },
    {
      "cell_type": "code",
      "execution_count": 1,
      "metadata": {
        "id": "rt303Tk07Iy8"
      },
      "outputs": [],
      "source": [
        "import numpy as np       \n",
        "import pandas as pd       \n",
        "import matplotlib.pyplot as plt   # for data visualisation\n",
        "import itertools\n",
        "import re   # for string operations\n",
        "\n",
        "# machine learning models\n",
        "from sklearn.linear_model import LogisticRegression\n",
        "from sklearn.ensemble import RandomForestClassifier\n",
        "# hyperparameter tuning \n",
        "from sklearn.model_selection import GridSearchCV,RandomizedSearchCV\n",
        "from sklearn.model_selection import train_test_split    # train test split\n",
        "# evaluation metrics\n",
        "from sklearn.metrics import classification_report, accuracy_score, roc_curve, auc, confusion_matrix\n",
        "# transforming text into numerical format\n",
        "from sklearn.feature_extraction.text import TfidfVectorizer\n",
        "\n",
        "import warnings\n",
        "warnings.filterwarnings('ignore')"
      ]
    },
    {
      "cell_type": "code",
      "execution_count": 2,
      "metadata": {
        "colab": {
          "base_uri": "https://localhost:8080/"
        },
        "id": "YRZeCGxb7QCI",
        "outputId": "d9e8e0ac-cc8b-4559-c3df-fe34c84a77fe"
      },
      "outputs": [
        {
          "output_type": "stream",
          "name": "stdout",
          "text": [
            "Mounted at /content/drive\n"
          ]
        }
      ],
      "source": [
        "from google.colab import drive\n",
        "drive.mount('/content/drive')"
      ]
    },
    {
      "cell_type": "markdown",
      "metadata": {
        "id": "iKs77ZWkjazw"
      },
      "source": [
        "# <b> Splitting the datasets into train and test </b>"
      ]
    },
    {
      "cell_type": "code",
      "execution_count": 3,
      "metadata": {
        "colab": {
          "base_uri": "https://localhost:8080/",
          "height": 206
        },
        "id": "575XvzBMLDvl",
        "outputId": "57d5f3ee-d640-49db-ad6c-9e5b56700a4f"
      },
      "outputs": [
        {
          "output_type": "execute_result",
          "data": {
            "text/plain": [
              "   id                                              title              author  \\\n",
              "0   0  House Dem Aide: We Didn’t Even See Comey’s Let...       Darrell Lucus   \n",
              "1   1  FLYNN: Hillary Clinton, Big Woman on Campus - ...     Daniel J. Flynn   \n",
              "2   2                  Why the Truth Might Get You Fired  Consortiumnews.com   \n",
              "3   3  15 Civilians Killed In Single US Airstrike Hav...     Jessica Purkiss   \n",
              "4   4  Iranian woman jailed for fictional unpublished...      Howard Portnoy   \n",
              "\n",
              "                                                text  label  \n",
              "0  House Dem Aide: We Didn’t Even See Comey’s Let...      1  \n",
              "1  Ever get the feeling your life circles the rou...      0  \n",
              "2  Why the Truth Might Get You Fired October 29, ...      1  \n",
              "3  Videos 15 Civilians Killed In Single US Airstr...      1  \n",
              "4  Print \\nAn Iranian woman has been sentenced to...      1  "
            ],
            "text/html": [
              "\n",
              "  <div id=\"df-5889b6b6-fdd4-4473-a93f-1e00d44d9513\">\n",
              "    <div class=\"colab-df-container\">\n",
              "      <div>\n",
              "<style scoped>\n",
              "    .dataframe tbody tr th:only-of-type {\n",
              "        vertical-align: middle;\n",
              "    }\n",
              "\n",
              "    .dataframe tbody tr th {\n",
              "        vertical-align: top;\n",
              "    }\n",
              "\n",
              "    .dataframe thead th {\n",
              "        text-align: right;\n",
              "    }\n",
              "</style>\n",
              "<table border=\"1\" class=\"dataframe\">\n",
              "  <thead>\n",
              "    <tr style=\"text-align: right;\">\n",
              "      <th></th>\n",
              "      <th>id</th>\n",
              "      <th>title</th>\n",
              "      <th>author</th>\n",
              "      <th>text</th>\n",
              "      <th>label</th>\n",
              "    </tr>\n",
              "  </thead>\n",
              "  <tbody>\n",
              "    <tr>\n",
              "      <th>0</th>\n",
              "      <td>0</td>\n",
              "      <td>House Dem Aide: We Didn’t Even See Comey’s Let...</td>\n",
              "      <td>Darrell Lucus</td>\n",
              "      <td>House Dem Aide: We Didn’t Even See Comey’s Let...</td>\n",
              "      <td>1</td>\n",
              "    </tr>\n",
              "    <tr>\n",
              "      <th>1</th>\n",
              "      <td>1</td>\n",
              "      <td>FLYNN: Hillary Clinton, Big Woman on Campus - ...</td>\n",
              "      <td>Daniel J. Flynn</td>\n",
              "      <td>Ever get the feeling your life circles the rou...</td>\n",
              "      <td>0</td>\n",
              "    </tr>\n",
              "    <tr>\n",
              "      <th>2</th>\n",
              "      <td>2</td>\n",
              "      <td>Why the Truth Might Get You Fired</td>\n",
              "      <td>Consortiumnews.com</td>\n",
              "      <td>Why the Truth Might Get You Fired October 29, ...</td>\n",
              "      <td>1</td>\n",
              "    </tr>\n",
              "    <tr>\n",
              "      <th>3</th>\n",
              "      <td>3</td>\n",
              "      <td>15 Civilians Killed In Single US Airstrike Hav...</td>\n",
              "      <td>Jessica Purkiss</td>\n",
              "      <td>Videos 15 Civilians Killed In Single US Airstr...</td>\n",
              "      <td>1</td>\n",
              "    </tr>\n",
              "    <tr>\n",
              "      <th>4</th>\n",
              "      <td>4</td>\n",
              "      <td>Iranian woman jailed for fictional unpublished...</td>\n",
              "      <td>Howard Portnoy</td>\n",
              "      <td>Print \\nAn Iranian woman has been sentenced to...</td>\n",
              "      <td>1</td>\n",
              "    </tr>\n",
              "  </tbody>\n",
              "</table>\n",
              "</div>\n",
              "      <button class=\"colab-df-convert\" onclick=\"convertToInteractive('df-5889b6b6-fdd4-4473-a93f-1e00d44d9513')\"\n",
              "              title=\"Convert this dataframe to an interactive table.\"\n",
              "              style=\"display:none;\">\n",
              "        \n",
              "  <svg xmlns=\"http://www.w3.org/2000/svg\" height=\"24px\"viewBox=\"0 0 24 24\"\n",
              "       width=\"24px\">\n",
              "    <path d=\"M0 0h24v24H0V0z\" fill=\"none\"/>\n",
              "    <path d=\"M18.56 5.44l.94 2.06.94-2.06 2.06-.94-2.06-.94-.94-2.06-.94 2.06-2.06.94zm-11 1L8.5 8.5l.94-2.06 2.06-.94-2.06-.94L8.5 2.5l-.94 2.06-2.06.94zm10 10l.94 2.06.94-2.06 2.06-.94-2.06-.94-.94-2.06-.94 2.06-2.06.94z\"/><path d=\"M17.41 7.96l-1.37-1.37c-.4-.4-.92-.59-1.43-.59-.52 0-1.04.2-1.43.59L10.3 9.45l-7.72 7.72c-.78.78-.78 2.05 0 2.83L4 21.41c.39.39.9.59 1.41.59.51 0 1.02-.2 1.41-.59l7.78-7.78 2.81-2.81c.8-.78.8-2.07 0-2.86zM5.41 20L4 18.59l7.72-7.72 1.47 1.35L5.41 20z\"/>\n",
              "  </svg>\n",
              "      </button>\n",
              "      \n",
              "  <style>\n",
              "    .colab-df-container {\n",
              "      display:flex;\n",
              "      flex-wrap:wrap;\n",
              "      gap: 12px;\n",
              "    }\n",
              "\n",
              "    .colab-df-convert {\n",
              "      background-color: #E8F0FE;\n",
              "      border: none;\n",
              "      border-radius: 50%;\n",
              "      cursor: pointer;\n",
              "      display: none;\n",
              "      fill: #1967D2;\n",
              "      height: 32px;\n",
              "      padding: 0 0 0 0;\n",
              "      width: 32px;\n",
              "    }\n",
              "\n",
              "    .colab-df-convert:hover {\n",
              "      background-color: #E2EBFA;\n",
              "      box-shadow: 0px 1px 2px rgba(60, 64, 67, 0.3), 0px 1px 3px 1px rgba(60, 64, 67, 0.15);\n",
              "      fill: #174EA6;\n",
              "    }\n",
              "\n",
              "    [theme=dark] .colab-df-convert {\n",
              "      background-color: #3B4455;\n",
              "      fill: #D2E3FC;\n",
              "    }\n",
              "\n",
              "    [theme=dark] .colab-df-convert:hover {\n",
              "      background-color: #434B5C;\n",
              "      box-shadow: 0px 1px 3px 1px rgba(0, 0, 0, 0.15);\n",
              "      filter: drop-shadow(0px 1px 2px rgba(0, 0, 0, 0.3));\n",
              "      fill: #FFFFFF;\n",
              "    }\n",
              "  </style>\n",
              "\n",
              "      <script>\n",
              "        const buttonEl =\n",
              "          document.querySelector('#df-5889b6b6-fdd4-4473-a93f-1e00d44d9513 button.colab-df-convert');\n",
              "        buttonEl.style.display =\n",
              "          google.colab.kernel.accessAllowed ? 'block' : 'none';\n",
              "\n",
              "        async function convertToInteractive(key) {\n",
              "          const element = document.querySelector('#df-5889b6b6-fdd4-4473-a93f-1e00d44d9513');\n",
              "          const dataTable =\n",
              "            await google.colab.kernel.invokeFunction('convertToInteractive',\n",
              "                                                     [key], {});\n",
              "          if (!dataTable) return;\n",
              "\n",
              "          const docLinkHtml = 'Like what you see? Visit the ' +\n",
              "            '<a target=\"_blank\" href=https://colab.research.google.com/notebooks/data_table.ipynb>data table notebook</a>'\n",
              "            + ' to learn more about interactive tables.';\n",
              "          element.innerHTML = '';\n",
              "          dataTable['output_type'] = 'display_data';\n",
              "          await google.colab.output.renderOutput(dataTable, element);\n",
              "          const docLink = document.createElement('div');\n",
              "          docLink.innerHTML = docLinkHtml;\n",
              "          element.appendChild(docLink);\n",
              "        }\n",
              "      </script>\n",
              "    </div>\n",
              "  </div>\n",
              "  "
            ]
          },
          "metadata": {},
          "execution_count": 3
        }
      ],
      "source": [
        "# Dataset link:  https://www.kaggle.com/competitions/fake-news/data\n",
        "df1 = pd.read_csv('/content/drive/MyDrive/Colab Notebooks/Zummit Infolabs/Fake News Detection/train.csv')\n",
        "df1.head()"
      ]
    },
    {
      "cell_type": "code",
      "execution_count": 4,
      "metadata": {
        "id": "XDsfw2uiML43"
      },
      "outputs": [],
      "source": [
        "train1, test1 = train_test_split(df1, test_size=0.2, stratify=df1.label)"
      ]
    },
    {
      "cell_type": "code",
      "execution_count": 5,
      "metadata": {
        "colab": {
          "base_uri": "https://localhost:8080/",
          "height": 206
        },
        "id": "FSmviaZ1NtF4",
        "outputId": "b8fd6061-b47f-42d3-db2a-af14bffb8032"
      },
      "outputs": [
        {
          "output_type": "execute_result",
          "data": {
            "text/plain": [
              "   Unnamed: 0                                              title  \\\n",
              "0        8476                       You Can Smell Hillary’s Fear   \n",
              "1       10294  Watch The Exact Moment Paul Ryan Committed Pol...   \n",
              "2        3608        Kerry to go to Paris in gesture of sympathy   \n",
              "3       10142  Bernie supporters on Twitter erupt in anger ag...   \n",
              "4         875   The Battle of New York: Why This Primary Matters   \n",
              "\n",
              "                                                text label  \n",
              "0  Daniel Greenfield, a Shillman Journalism Fello...  FAKE  \n",
              "1  Google Pinterest Digg Linkedin Reddit Stumbleu...  FAKE  \n",
              "2  U.S. Secretary of State John F. Kerry said Mon...  REAL  \n",
              "3  — Kaydee King (@KaydeeKing) November 9, 2016 T...  FAKE  \n",
              "4  It's primary day in New York and front-runners...  REAL  "
            ],
            "text/html": [
              "\n",
              "  <div id=\"df-f5dd9a9e-b983-4a90-951d-ae0ead896e3a\">\n",
              "    <div class=\"colab-df-container\">\n",
              "      <div>\n",
              "<style scoped>\n",
              "    .dataframe tbody tr th:only-of-type {\n",
              "        vertical-align: middle;\n",
              "    }\n",
              "\n",
              "    .dataframe tbody tr th {\n",
              "        vertical-align: top;\n",
              "    }\n",
              "\n",
              "    .dataframe thead th {\n",
              "        text-align: right;\n",
              "    }\n",
              "</style>\n",
              "<table border=\"1\" class=\"dataframe\">\n",
              "  <thead>\n",
              "    <tr style=\"text-align: right;\">\n",
              "      <th></th>\n",
              "      <th>Unnamed: 0</th>\n",
              "      <th>title</th>\n",
              "      <th>text</th>\n",
              "      <th>label</th>\n",
              "    </tr>\n",
              "  </thead>\n",
              "  <tbody>\n",
              "    <tr>\n",
              "      <th>0</th>\n",
              "      <td>8476</td>\n",
              "      <td>You Can Smell Hillary’s Fear</td>\n",
              "      <td>Daniel Greenfield, a Shillman Journalism Fello...</td>\n",
              "      <td>FAKE</td>\n",
              "    </tr>\n",
              "    <tr>\n",
              "      <th>1</th>\n",
              "      <td>10294</td>\n",
              "      <td>Watch The Exact Moment Paul Ryan Committed Pol...</td>\n",
              "      <td>Google Pinterest Digg Linkedin Reddit Stumbleu...</td>\n",
              "      <td>FAKE</td>\n",
              "    </tr>\n",
              "    <tr>\n",
              "      <th>2</th>\n",
              "      <td>3608</td>\n",
              "      <td>Kerry to go to Paris in gesture of sympathy</td>\n",
              "      <td>U.S. Secretary of State John F. Kerry said Mon...</td>\n",
              "      <td>REAL</td>\n",
              "    </tr>\n",
              "    <tr>\n",
              "      <th>3</th>\n",
              "      <td>10142</td>\n",
              "      <td>Bernie supporters on Twitter erupt in anger ag...</td>\n",
              "      <td>— Kaydee King (@KaydeeKing) November 9, 2016 T...</td>\n",
              "      <td>FAKE</td>\n",
              "    </tr>\n",
              "    <tr>\n",
              "      <th>4</th>\n",
              "      <td>875</td>\n",
              "      <td>The Battle of New York: Why This Primary Matters</td>\n",
              "      <td>It's primary day in New York and front-runners...</td>\n",
              "      <td>REAL</td>\n",
              "    </tr>\n",
              "  </tbody>\n",
              "</table>\n",
              "</div>\n",
              "      <button class=\"colab-df-convert\" onclick=\"convertToInteractive('df-f5dd9a9e-b983-4a90-951d-ae0ead896e3a')\"\n",
              "              title=\"Convert this dataframe to an interactive table.\"\n",
              "              style=\"display:none;\">\n",
              "        \n",
              "  <svg xmlns=\"http://www.w3.org/2000/svg\" height=\"24px\"viewBox=\"0 0 24 24\"\n",
              "       width=\"24px\">\n",
              "    <path d=\"M0 0h24v24H0V0z\" fill=\"none\"/>\n",
              "    <path d=\"M18.56 5.44l.94 2.06.94-2.06 2.06-.94-2.06-.94-.94-2.06-.94 2.06-2.06.94zm-11 1L8.5 8.5l.94-2.06 2.06-.94-2.06-.94L8.5 2.5l-.94 2.06-2.06.94zm10 10l.94 2.06.94-2.06 2.06-.94-2.06-.94-.94-2.06-.94 2.06-2.06.94z\"/><path d=\"M17.41 7.96l-1.37-1.37c-.4-.4-.92-.59-1.43-.59-.52 0-1.04.2-1.43.59L10.3 9.45l-7.72 7.72c-.78.78-.78 2.05 0 2.83L4 21.41c.39.39.9.59 1.41.59.51 0 1.02-.2 1.41-.59l7.78-7.78 2.81-2.81c.8-.78.8-2.07 0-2.86zM5.41 20L4 18.59l7.72-7.72 1.47 1.35L5.41 20z\"/>\n",
              "  </svg>\n",
              "      </button>\n",
              "      \n",
              "  <style>\n",
              "    .colab-df-container {\n",
              "      display:flex;\n",
              "      flex-wrap:wrap;\n",
              "      gap: 12px;\n",
              "    }\n",
              "\n",
              "    .colab-df-convert {\n",
              "      background-color: #E8F0FE;\n",
              "      border: none;\n",
              "      border-radius: 50%;\n",
              "      cursor: pointer;\n",
              "      display: none;\n",
              "      fill: #1967D2;\n",
              "      height: 32px;\n",
              "      padding: 0 0 0 0;\n",
              "      width: 32px;\n",
              "    }\n",
              "\n",
              "    .colab-df-convert:hover {\n",
              "      background-color: #E2EBFA;\n",
              "      box-shadow: 0px 1px 2px rgba(60, 64, 67, 0.3), 0px 1px 3px 1px rgba(60, 64, 67, 0.15);\n",
              "      fill: #174EA6;\n",
              "    }\n",
              "\n",
              "    [theme=dark] .colab-df-convert {\n",
              "      background-color: #3B4455;\n",
              "      fill: #D2E3FC;\n",
              "    }\n",
              "\n",
              "    [theme=dark] .colab-df-convert:hover {\n",
              "      background-color: #434B5C;\n",
              "      box-shadow: 0px 1px 3px 1px rgba(0, 0, 0, 0.15);\n",
              "      filter: drop-shadow(0px 1px 2px rgba(0, 0, 0, 0.3));\n",
              "      fill: #FFFFFF;\n",
              "    }\n",
              "  </style>\n",
              "\n",
              "      <script>\n",
              "        const buttonEl =\n",
              "          document.querySelector('#df-f5dd9a9e-b983-4a90-951d-ae0ead896e3a button.colab-df-convert');\n",
              "        buttonEl.style.display =\n",
              "          google.colab.kernel.accessAllowed ? 'block' : 'none';\n",
              "\n",
              "        async function convertToInteractive(key) {\n",
              "          const element = document.querySelector('#df-f5dd9a9e-b983-4a90-951d-ae0ead896e3a');\n",
              "          const dataTable =\n",
              "            await google.colab.kernel.invokeFunction('convertToInteractive',\n",
              "                                                     [key], {});\n",
              "          if (!dataTable) return;\n",
              "\n",
              "          const docLinkHtml = 'Like what you see? Visit the ' +\n",
              "            '<a target=\"_blank\" href=https://colab.research.google.com/notebooks/data_table.ipynb>data table notebook</a>'\n",
              "            + ' to learn more about interactive tables.';\n",
              "          element.innerHTML = '';\n",
              "          dataTable['output_type'] = 'display_data';\n",
              "          await google.colab.output.renderOutput(dataTable, element);\n",
              "          const docLink = document.createElement('div');\n",
              "          docLink.innerHTML = docLinkHtml;\n",
              "          element.appendChild(docLink);\n",
              "        }\n",
              "      </script>\n",
              "    </div>\n",
              "  </div>\n",
              "  "
            ]
          },
          "metadata": {},
          "execution_count": 5
        }
      ],
      "source": [
        "# Dataset link:  https://drive.google.com/file/d/1er9NJTLUA3qnRuyhfzuN0XUsoIC4a-_q/view\n",
        "df2 = pd.read_csv('/content/drive/MyDrive/Colab Notebooks/Zummit Infolabs/Fake News Detection/news.csv')\n",
        "df2.head()"
      ]
    },
    {
      "cell_type": "code",
      "execution_count": 6,
      "metadata": {
        "id": "1xddBfxfOClr"
      },
      "outputs": [],
      "source": [
        "# encoding the target variable into numerical format\n",
        "encoder = {'label': {'FAKE':1, 'REAL':0}}\n",
        "df2 = df2.replace(encoder)"
      ]
    },
    {
      "cell_type": "code",
      "execution_count": 7,
      "metadata": {
        "id": "5D5D07H_ORf2"
      },
      "outputs": [],
      "source": [
        "train2, test2 = train_test_split(df2, test_size=0.2, stratify=df2.label)"
      ]
    },
    {
      "cell_type": "code",
      "execution_count": 8,
      "metadata": {
        "colab": {
          "base_uri": "https://localhost:8080/",
          "height": 206
        },
        "id": "F95sEM3xOusd",
        "outputId": "d120ded8-b206-4da7-e9f0-5a3cc3e6e84d"
      },
      "outputs": [
        {
          "output_type": "execute_result",
          "data": {
            "text/plain": [
              "      unit_id                                              title  \\\n",
              "0  1914947530  Syria attack symptoms consistent with nerve ag...   \n",
              "1  1914947532  Homs governor says U.S. attack caused deaths b...   \n",
              "2  1914947533    Death toll from Aleppo bomb attack at least 112   \n",
              "3  1914947534        Aleppo bomb blast kills six Syrian state TV   \n",
              "4  1914947535  29 Syria Rebels Dead in Fighting for Key Alepp...   \n",
              "\n",
              "                                                text source       date  \\\n",
              "0  Wed 05 Apr 2017 Syria attack symptoms consiste...    nna   4/5/2017   \n",
              "1  Fri 07 Apr 2017 at 0914 Homs governor says U.S...    nna   4/7/2017   \n",
              "2  Sun 16 Apr 2017 Death toll from Aleppo bomb at...    nna  4/16/2017   \n",
              "3  Wed 19 Apr 2017 Aleppo bomb blast kills six Sy...    nna  4/19/2017   \n",
              "4  Sun 10 Jul 2016 29 Syria Rebels Dead in Fighti...    nna  7/10/2016   \n",
              "\n",
              "  location  labels  \n",
              "0    idlib       0  \n",
              "1     homs       0  \n",
              "2   aleppo       0  \n",
              "3   aleppo       0  \n",
              "4   aleppo       0  "
            ],
            "text/html": [
              "\n",
              "  <div id=\"df-e929d8a0-0140-4759-a986-5cb8f630931a\">\n",
              "    <div class=\"colab-df-container\">\n",
              "      <div>\n",
              "<style scoped>\n",
              "    .dataframe tbody tr th:only-of-type {\n",
              "        vertical-align: middle;\n",
              "    }\n",
              "\n",
              "    .dataframe tbody tr th {\n",
              "        vertical-align: top;\n",
              "    }\n",
              "\n",
              "    .dataframe thead th {\n",
              "        text-align: right;\n",
              "    }\n",
              "</style>\n",
              "<table border=\"1\" class=\"dataframe\">\n",
              "  <thead>\n",
              "    <tr style=\"text-align: right;\">\n",
              "      <th></th>\n",
              "      <th>unit_id</th>\n",
              "      <th>title</th>\n",
              "      <th>text</th>\n",
              "      <th>source</th>\n",
              "      <th>date</th>\n",
              "      <th>location</th>\n",
              "      <th>labels</th>\n",
              "    </tr>\n",
              "  </thead>\n",
              "  <tbody>\n",
              "    <tr>\n",
              "      <th>0</th>\n",
              "      <td>1914947530</td>\n",
              "      <td>Syria attack symptoms consistent with nerve ag...</td>\n",
              "      <td>Wed 05 Apr 2017 Syria attack symptoms consiste...</td>\n",
              "      <td>nna</td>\n",
              "      <td>4/5/2017</td>\n",
              "      <td>idlib</td>\n",
              "      <td>0</td>\n",
              "    </tr>\n",
              "    <tr>\n",
              "      <th>1</th>\n",
              "      <td>1914947532</td>\n",
              "      <td>Homs governor says U.S. attack caused deaths b...</td>\n",
              "      <td>Fri 07 Apr 2017 at 0914 Homs governor says U.S...</td>\n",
              "      <td>nna</td>\n",
              "      <td>4/7/2017</td>\n",
              "      <td>homs</td>\n",
              "      <td>0</td>\n",
              "    </tr>\n",
              "    <tr>\n",
              "      <th>2</th>\n",
              "      <td>1914947533</td>\n",
              "      <td>Death toll from Aleppo bomb attack at least 112</td>\n",
              "      <td>Sun 16 Apr 2017 Death toll from Aleppo bomb at...</td>\n",
              "      <td>nna</td>\n",
              "      <td>4/16/2017</td>\n",
              "      <td>aleppo</td>\n",
              "      <td>0</td>\n",
              "    </tr>\n",
              "    <tr>\n",
              "      <th>3</th>\n",
              "      <td>1914947534</td>\n",
              "      <td>Aleppo bomb blast kills six Syrian state TV</td>\n",
              "      <td>Wed 19 Apr 2017 Aleppo bomb blast kills six Sy...</td>\n",
              "      <td>nna</td>\n",
              "      <td>4/19/2017</td>\n",
              "      <td>aleppo</td>\n",
              "      <td>0</td>\n",
              "    </tr>\n",
              "    <tr>\n",
              "      <th>4</th>\n",
              "      <td>1914947535</td>\n",
              "      <td>29 Syria Rebels Dead in Fighting for Key Alepp...</td>\n",
              "      <td>Sun 10 Jul 2016 29 Syria Rebels Dead in Fighti...</td>\n",
              "      <td>nna</td>\n",
              "      <td>7/10/2016</td>\n",
              "      <td>aleppo</td>\n",
              "      <td>0</td>\n",
              "    </tr>\n",
              "  </tbody>\n",
              "</table>\n",
              "</div>\n",
              "      <button class=\"colab-df-convert\" onclick=\"convertToInteractive('df-e929d8a0-0140-4759-a986-5cb8f630931a')\"\n",
              "              title=\"Convert this dataframe to an interactive table.\"\n",
              "              style=\"display:none;\">\n",
              "        \n",
              "  <svg xmlns=\"http://www.w3.org/2000/svg\" height=\"24px\"viewBox=\"0 0 24 24\"\n",
              "       width=\"24px\">\n",
              "    <path d=\"M0 0h24v24H0V0z\" fill=\"none\"/>\n",
              "    <path d=\"M18.56 5.44l.94 2.06.94-2.06 2.06-.94-2.06-.94-.94-2.06-.94 2.06-2.06.94zm-11 1L8.5 8.5l.94-2.06 2.06-.94-2.06-.94L8.5 2.5l-.94 2.06-2.06.94zm10 10l.94 2.06.94-2.06 2.06-.94-2.06-.94-.94-2.06-.94 2.06-2.06.94z\"/><path d=\"M17.41 7.96l-1.37-1.37c-.4-.4-.92-.59-1.43-.59-.52 0-1.04.2-1.43.59L10.3 9.45l-7.72 7.72c-.78.78-.78 2.05 0 2.83L4 21.41c.39.39.9.59 1.41.59.51 0 1.02-.2 1.41-.59l7.78-7.78 2.81-2.81c.8-.78.8-2.07 0-2.86zM5.41 20L4 18.59l7.72-7.72 1.47 1.35L5.41 20z\"/>\n",
              "  </svg>\n",
              "      </button>\n",
              "      \n",
              "  <style>\n",
              "    .colab-df-container {\n",
              "      display:flex;\n",
              "      flex-wrap:wrap;\n",
              "      gap: 12px;\n",
              "    }\n",
              "\n",
              "    .colab-df-convert {\n",
              "      background-color: #E8F0FE;\n",
              "      border: none;\n",
              "      border-radius: 50%;\n",
              "      cursor: pointer;\n",
              "      display: none;\n",
              "      fill: #1967D2;\n",
              "      height: 32px;\n",
              "      padding: 0 0 0 0;\n",
              "      width: 32px;\n",
              "    }\n",
              "\n",
              "    .colab-df-convert:hover {\n",
              "      background-color: #E2EBFA;\n",
              "      box-shadow: 0px 1px 2px rgba(60, 64, 67, 0.3), 0px 1px 3px 1px rgba(60, 64, 67, 0.15);\n",
              "      fill: #174EA6;\n",
              "    }\n",
              "\n",
              "    [theme=dark] .colab-df-convert {\n",
              "      background-color: #3B4455;\n",
              "      fill: #D2E3FC;\n",
              "    }\n",
              "\n",
              "    [theme=dark] .colab-df-convert:hover {\n",
              "      background-color: #434B5C;\n",
              "      box-shadow: 0px 1px 3px 1px rgba(0, 0, 0, 0.15);\n",
              "      filter: drop-shadow(0px 1px 2px rgba(0, 0, 0, 0.3));\n",
              "      fill: #FFFFFF;\n",
              "    }\n",
              "  </style>\n",
              "\n",
              "      <script>\n",
              "        const buttonEl =\n",
              "          document.querySelector('#df-e929d8a0-0140-4759-a986-5cb8f630931a button.colab-df-convert');\n",
              "        buttonEl.style.display =\n",
              "          google.colab.kernel.accessAllowed ? 'block' : 'none';\n",
              "\n",
              "        async function convertToInteractive(key) {\n",
              "          const element = document.querySelector('#df-e929d8a0-0140-4759-a986-5cb8f630931a');\n",
              "          const dataTable =\n",
              "            await google.colab.kernel.invokeFunction('convertToInteractive',\n",
              "                                                     [key], {});\n",
              "          if (!dataTable) return;\n",
              "\n",
              "          const docLinkHtml = 'Like what you see? Visit the ' +\n",
              "            '<a target=\"_blank\" href=https://colab.research.google.com/notebooks/data_table.ipynb>data table notebook</a>'\n",
              "            + ' to learn more about interactive tables.';\n",
              "          element.innerHTML = '';\n",
              "          dataTable['output_type'] = 'display_data';\n",
              "          await google.colab.output.renderOutput(dataTable, element);\n",
              "          const docLink = document.createElement('div');\n",
              "          docLink.innerHTML = docLinkHtml;\n",
              "          element.appendChild(docLink);\n",
              "        }\n",
              "      </script>\n",
              "    </div>\n",
              "  </div>\n",
              "  "
            ]
          },
          "metadata": {},
          "execution_count": 8
        }
      ],
      "source": [
        "# Dataset link:  https://www.kaggle.com/datasets/mohamadalhasan/a-fake-news-dataset-around-the-syrian-war\n",
        "df3 = pd.read_csv('/content/fake_news.csv',encoding='latin')\n",
        "df3.rename(columns={'article_title':'title', 'article_content':'text'}, inplace=True)\n",
        "df3.head() # 0 means FAKE news and 1 means TRUE news in this this dataset"
      ]
    },
    {
      "cell_type": "code",
      "execution_count": 9,
      "metadata": {
        "id": "o3ySKfAsPPNR"
      },
      "outputs": [],
      "source": [
        "# creating new target variable so that FAKE news are represented by 1 and TRUE news by 0\n",
        "df3['label'] = df3['labels'].apply(lambda x: 1 if x==0 else 0)"
      ]
    },
    {
      "cell_type": "code",
      "execution_count": 10,
      "metadata": {
        "id": "bLWq6xpHPZ4G"
      },
      "outputs": [],
      "source": [
        "train3, test3 = train_test_split(df3, test_size=0.2, stratify=df3.label)"
      ]
    },
    {
      "cell_type": "code",
      "execution_count": 11,
      "metadata": {
        "id": "FzIGf0uEPuPk"
      },
      "outputs": [],
      "source": [
        "# Dataset link:  https://www.kaggle.com/datasets/clmentbisaillon/fake-and-real-news-dataset\n",
        "fake_news = pd.read_csv('/content/drive/MyDrive/Colab Notebooks/Zummit Infolabs/Fake News Detection/Fake.csv')\n",
        "true_news = pd.read_csv('/content/drive/MyDrive/Colab Notebooks/Zummit Infolabs/Fake News Detection/True.csv')"
      ]
    },
    {
      "cell_type": "code",
      "execution_count": 12,
      "metadata": {
        "id": "NnqHo7dQP3cb"
      },
      "outputs": [],
      "source": [
        "# creating labels\n",
        "fake_news['label'] = 1\n",
        "true_news['label'] = 0\n",
        "\n",
        "# Mixing fake and true datasets\n",
        "df4 = pd.concat([true_news,fake_news])\n",
        "df4 = df4.sample(frac=1).reset_index(drop=True)"
      ]
    },
    {
      "cell_type": "code",
      "execution_count": 13,
      "metadata": {
        "colab": {
          "base_uri": "https://localhost:8080/",
          "height": 206
        },
        "id": "dSJbjZhTQAsK",
        "outputId": "3a195f55-c05b-4d67-97ca-c9ae729243be"
      },
      "outputs": [
        {
          "output_type": "execute_result",
          "data": {
            "text/plain": [
              "                                               title  \\\n",
              "0  Pope criticizes politicians for stoking racism...   \n",
              "1   Obama Teasing Stephen Curry For ‘Clowning’ Ju...   \n",
              "2  GOTCHA! A Stammering John Podesta Stunned by a...   \n",
              "3   Sally Yates: I Refused To Lie And Say Muslim ...   \n",
              "4     Venezuela's injured activists struggle to heal   \n",
              "\n",
              "                                                text    subject  \\\n",
              "0  VATICAN CITY (Reuters) - Pope Francis on Frida...  worldnews   \n",
              "1  One of the awesome things you get to do when y...       News   \n",
              "2  John Podesta is Hillary Clinton s former campa...   politics   \n",
              "3  Former Acting Attorney General Sally Yates was...       News   \n",
              "4  CARACAS (Reuters) - Jesus Ibarra, a 19-year-ol...  worldnews   \n",
              "\n",
              "                 date  label  \n",
              "0  November 24, 2017       0  \n",
              "1    February 4, 2016      1  \n",
              "2           18-Feb-18      1  \n",
              "3       June 28, 2017      1  \n",
              "4    August 24, 2017       0  "
            ],
            "text/html": [
              "\n",
              "  <div id=\"df-e33a4206-deb7-4758-97d7-6f96970dcb47\">\n",
              "    <div class=\"colab-df-container\">\n",
              "      <div>\n",
              "<style scoped>\n",
              "    .dataframe tbody tr th:only-of-type {\n",
              "        vertical-align: middle;\n",
              "    }\n",
              "\n",
              "    .dataframe tbody tr th {\n",
              "        vertical-align: top;\n",
              "    }\n",
              "\n",
              "    .dataframe thead th {\n",
              "        text-align: right;\n",
              "    }\n",
              "</style>\n",
              "<table border=\"1\" class=\"dataframe\">\n",
              "  <thead>\n",
              "    <tr style=\"text-align: right;\">\n",
              "      <th></th>\n",
              "      <th>title</th>\n",
              "      <th>text</th>\n",
              "      <th>subject</th>\n",
              "      <th>date</th>\n",
              "      <th>label</th>\n",
              "    </tr>\n",
              "  </thead>\n",
              "  <tbody>\n",
              "    <tr>\n",
              "      <th>0</th>\n",
              "      <td>Pope criticizes politicians for stoking racism...</td>\n",
              "      <td>VATICAN CITY (Reuters) - Pope Francis on Frida...</td>\n",
              "      <td>worldnews</td>\n",
              "      <td>November 24, 2017</td>\n",
              "      <td>0</td>\n",
              "    </tr>\n",
              "    <tr>\n",
              "      <th>1</th>\n",
              "      <td>Obama Teasing Stephen Curry For ‘Clowning’ Ju...</td>\n",
              "      <td>One of the awesome things you get to do when y...</td>\n",
              "      <td>News</td>\n",
              "      <td>February 4, 2016</td>\n",
              "      <td>1</td>\n",
              "    </tr>\n",
              "    <tr>\n",
              "      <th>2</th>\n",
              "      <td>GOTCHA! A Stammering John Podesta Stunned by a...</td>\n",
              "      <td>John Podesta is Hillary Clinton s former campa...</td>\n",
              "      <td>politics</td>\n",
              "      <td>18-Feb-18</td>\n",
              "      <td>1</td>\n",
              "    </tr>\n",
              "    <tr>\n",
              "      <th>3</th>\n",
              "      <td>Sally Yates: I Refused To Lie And Say Muslim ...</td>\n",
              "      <td>Former Acting Attorney General Sally Yates was...</td>\n",
              "      <td>News</td>\n",
              "      <td>June 28, 2017</td>\n",
              "      <td>1</td>\n",
              "    </tr>\n",
              "    <tr>\n",
              "      <th>4</th>\n",
              "      <td>Venezuela's injured activists struggle to heal</td>\n",
              "      <td>CARACAS (Reuters) - Jesus Ibarra, a 19-year-ol...</td>\n",
              "      <td>worldnews</td>\n",
              "      <td>August 24, 2017</td>\n",
              "      <td>0</td>\n",
              "    </tr>\n",
              "  </tbody>\n",
              "</table>\n",
              "</div>\n",
              "      <button class=\"colab-df-convert\" onclick=\"convertToInteractive('df-e33a4206-deb7-4758-97d7-6f96970dcb47')\"\n",
              "              title=\"Convert this dataframe to an interactive table.\"\n",
              "              style=\"display:none;\">\n",
              "        \n",
              "  <svg xmlns=\"http://www.w3.org/2000/svg\" height=\"24px\"viewBox=\"0 0 24 24\"\n",
              "       width=\"24px\">\n",
              "    <path d=\"M0 0h24v24H0V0z\" fill=\"none\"/>\n",
              "    <path d=\"M18.56 5.44l.94 2.06.94-2.06 2.06-.94-2.06-.94-.94-2.06-.94 2.06-2.06.94zm-11 1L8.5 8.5l.94-2.06 2.06-.94-2.06-.94L8.5 2.5l-.94 2.06-2.06.94zm10 10l.94 2.06.94-2.06 2.06-.94-2.06-.94-.94-2.06-.94 2.06-2.06.94z\"/><path d=\"M17.41 7.96l-1.37-1.37c-.4-.4-.92-.59-1.43-.59-.52 0-1.04.2-1.43.59L10.3 9.45l-7.72 7.72c-.78.78-.78 2.05 0 2.83L4 21.41c.39.39.9.59 1.41.59.51 0 1.02-.2 1.41-.59l7.78-7.78 2.81-2.81c.8-.78.8-2.07 0-2.86zM5.41 20L4 18.59l7.72-7.72 1.47 1.35L5.41 20z\"/>\n",
              "  </svg>\n",
              "      </button>\n",
              "      \n",
              "  <style>\n",
              "    .colab-df-container {\n",
              "      display:flex;\n",
              "      flex-wrap:wrap;\n",
              "      gap: 12px;\n",
              "    }\n",
              "\n",
              "    .colab-df-convert {\n",
              "      background-color: #E8F0FE;\n",
              "      border: none;\n",
              "      border-radius: 50%;\n",
              "      cursor: pointer;\n",
              "      display: none;\n",
              "      fill: #1967D2;\n",
              "      height: 32px;\n",
              "      padding: 0 0 0 0;\n",
              "      width: 32px;\n",
              "    }\n",
              "\n",
              "    .colab-df-convert:hover {\n",
              "      background-color: #E2EBFA;\n",
              "      box-shadow: 0px 1px 2px rgba(60, 64, 67, 0.3), 0px 1px 3px 1px rgba(60, 64, 67, 0.15);\n",
              "      fill: #174EA6;\n",
              "    }\n",
              "\n",
              "    [theme=dark] .colab-df-convert {\n",
              "      background-color: #3B4455;\n",
              "      fill: #D2E3FC;\n",
              "    }\n",
              "\n",
              "    [theme=dark] .colab-df-convert:hover {\n",
              "      background-color: #434B5C;\n",
              "      box-shadow: 0px 1px 3px 1px rgba(0, 0, 0, 0.15);\n",
              "      filter: drop-shadow(0px 1px 2px rgba(0, 0, 0, 0.3));\n",
              "      fill: #FFFFFF;\n",
              "    }\n",
              "  </style>\n",
              "\n",
              "      <script>\n",
              "        const buttonEl =\n",
              "          document.querySelector('#df-e33a4206-deb7-4758-97d7-6f96970dcb47 button.colab-df-convert');\n",
              "        buttonEl.style.display =\n",
              "          google.colab.kernel.accessAllowed ? 'block' : 'none';\n",
              "\n",
              "        async function convertToInteractive(key) {\n",
              "          const element = document.querySelector('#df-e33a4206-deb7-4758-97d7-6f96970dcb47');\n",
              "          const dataTable =\n",
              "            await google.colab.kernel.invokeFunction('convertToInteractive',\n",
              "                                                     [key], {});\n",
              "          if (!dataTable) return;\n",
              "\n",
              "          const docLinkHtml = 'Like what you see? Visit the ' +\n",
              "            '<a target=\"_blank\" href=https://colab.research.google.com/notebooks/data_table.ipynb>data table notebook</a>'\n",
              "            + ' to learn more about interactive tables.';\n",
              "          element.innerHTML = '';\n",
              "          dataTable['output_type'] = 'display_data';\n",
              "          await google.colab.output.renderOutput(dataTable, element);\n",
              "          const docLink = document.createElement('div');\n",
              "          docLink.innerHTML = docLinkHtml;\n",
              "          element.appendChild(docLink);\n",
              "        }\n",
              "      </script>\n",
              "    </div>\n",
              "  </div>\n",
              "  "
            ]
          },
          "metadata": {},
          "execution_count": 13
        }
      ],
      "source": [
        "df4.head()"
      ]
    },
    {
      "cell_type": "code",
      "execution_count": 14,
      "metadata": {
        "id": "kDuXNIfGQLuO"
      },
      "outputs": [],
      "source": [
        "train4, test4 = train_test_split(df4, test_size=0.2, stratify=df4.label)"
      ]
    },
    {
      "cell_type": "markdown",
      "metadata": {
        "id": "oZR2oEpRju4y"
      },
      "source": [
        "# <b> Merging all the train datasets </b> "
      ]
    },
    {
      "cell_type": "code",
      "execution_count": 15,
      "metadata": {
        "id": "04x5L4bXQui0"
      },
      "outputs": [],
      "source": [
        "train = pd.concat([train1.loc[:,['title','text','label']],\n",
        "                  train2.loc[:,['title','text','label']],\n",
        "                  train3.loc[:,['title','text','label']],\n",
        "                  train4.loc[:,['title','text','label']]])"
      ]
    },
    {
      "cell_type": "code",
      "execution_count": 16,
      "metadata": {
        "colab": {
          "base_uri": "https://localhost:8080/"
        },
        "id": "wStaWzLGTFC-",
        "outputId": "e18ca977-c96f-4fde-d5d2-7eb2162320f1"
      },
      "outputs": [
        {
          "output_type": "execute_result",
          "data": {
            "text/plain": [
              "title    438\n",
              "text      31\n",
              "label      0\n",
              "dtype: int64"
            ]
          },
          "metadata": {},
          "execution_count": 16
        }
      ],
      "source": [
        "# checking null values\n",
        "train.isna().sum()"
      ]
    },
    {
      "cell_type": "code",
      "execution_count": 17,
      "metadata": {
        "id": "Jisk8_GCU_Z7"
      },
      "outputs": [],
      "source": [
        "# removing null values\n",
        "train.dropna(inplace=True)"
      ]
    },
    {
      "cell_type": "code",
      "execution_count": 18,
      "metadata": {
        "colab": {
          "base_uri": "https://localhost:8080/"
        },
        "id": "HZEdbI-SBa0c",
        "outputId": "40041178-40f2-4d84-9093-83c4a718d93f"
      },
      "outputs": [
        {
          "output_type": "execute_result",
          "data": {
            "text/plain": [
              "5535"
            ]
          },
          "metadata": {},
          "execution_count": 18
        }
      ],
      "source": [
        "# Checking for duplicate values\n",
        "len(train[train.duplicated()])"
      ]
    },
    {
      "cell_type": "code",
      "execution_count": 19,
      "metadata": {
        "id": "mPgXUM4MVQsD"
      },
      "outputs": [],
      "source": [
        "# removing duplicated values\n",
        "train.drop_duplicates(inplace=True)"
      ]
    },
    {
      "cell_type": "code",
      "execution_count": 20,
      "metadata": {
        "id": "oIRG-rigVyTZ"
      },
      "outputs": [],
      "source": [
        "train = train.sample(frac=1).reset_index(drop=True)"
      ]
    },
    {
      "cell_type": "code",
      "execution_count": 21,
      "metadata": {
        "colab": {
          "base_uri": "https://localhost:8080/",
          "height": 357
        },
        "id": "wOSLrDg8gSWV",
        "outputId": "3adb9a4f-c889-4e87-c706-d705c859597c"
      },
      "outputs": [
        {
          "output_type": "display_data",
          "data": {
            "text/plain": [
              "<Figure size 648x432 with 1 Axes>"
            ],
            "image/png": "[encoded data removed]"
          },
          "metadata": {}
        }
      ],
      "source": [
        "# Checking if our data is well balanced\n",
        "plt.figure(figsize=(9,6))\n",
        "plt.pie(train['label'].value_counts(),explode=[0.1,0.1],colors=['red','cyan'],startangle=90,shadow=True,labels=['True','Fake'],autopct='%1.1f%%',textprops={'fontsize': 14});"
      ]
    },
    {
      "cell_type": "code",
      "execution_count": 22,
      "metadata": {
        "colab": {
          "base_uri": "https://localhost:8080/"
        },
        "id": "HihHPiIv8MRH",
        "outputId": "71a4cc80-67cb-4e3b-ed99-8873ba56e6f1"
      },
      "outputs": [
        {
          "output_type": "stream",
          "name": "stderr",
          "text": [
            "[nltk_data] Downloading package stopwords to /root/nltk_data...\n",
            "[nltk_data]   Unzipping corpora/stopwords.zip.\n"
          ]
        }
      ],
      "source": [
        "# removing the commoner inflexional endings from words in English\n",
        "import nltk\n",
        "nltk.download('stopwords')\n",
        "from nltk.stem.porter import PorterStemmer\n",
        "stemmer = PorterStemmer()\n",
        "from nltk.corpus import stopwords"
      ]
    },
    {
      "cell_type": "code",
      "execution_count": 23,
      "metadata": {
        "id": "JVyNtThXV9wk"
      },
      "outputs": [],
      "source": [
        "stop_words = stopwords.words('english')\n",
        "text_cleaning_re = '[^a-zA-Z]'"
      ]
    },
    {
      "cell_type": "code",
      "execution_count": 24,
      "metadata": {
        "id": "oiDwXLEJV2A6"
      },
      "outputs": [],
      "source": [
        "# function for text processing\n",
        "def preprocess(text, stem=False):\n",
        "  text = re.sub(text_cleaning_re, ' ', str(text).lower()).strip()     # use re package to removing everything that is not in letter\n",
        "  tokens = []\n",
        "  for token in text.split():\n",
        "    if token not in stop_words:\n",
        "      if stem:\n",
        "        tokens.append(stemmer.stem(token))\n",
        "      else:\n",
        "        tokens.append(token)\n",
        "  return \" \".join(tokens)"
      ]
    },
    {
      "cell_type": "code",
      "execution_count": 25,
      "metadata": {
        "colab": {
          "base_uri": "https://localhost:8080/"
        },
        "id": "0M3I4cR1UG4L",
        "outputId": "8ff7b465-6e5a-4b48-d861-de678d9c5585"
      },
      "outputs": [
        {
          "output_type": "execute_result",
          "data": {
            "text/plain": [
              "0    washington reuters u military said tuesday cou...\n",
              "1    cameras banned white house press briefings cnn...\n",
              "2    border patrol agents found tens thousands mari...\n",
              "3    even need ask white west point cadets posing u...\n",
              "4    welcome picks guide best stuff read watch list...\n",
              "Name: text, dtype: object"
            ]
          },
          "metadata": {},
          "execution_count": 25
        }
      ],
      "source": [
        "# text processing\n",
        "train['text'] = train['text'].apply(lambda x: preprocess(x))\n",
        "train['text'].head()"
      ]
    },
    {
      "cell_type": "code",
      "execution_count": 26,
      "metadata": {
        "id": "GtRErLv_LXKs"
      },
      "outputs": [],
      "source": [
        "X = train.text.values           # independent variable\n",
        "y = train.label.values          # dependent variable"
      ]
    },
    {
      "cell_type": "code",
      "execution_count": 27,
      "metadata": {
        "id": "GYf8hrRm9JqA"
      },
      "outputs": [],
      "source": [
        "# splitting the dataset into train and validation sets\n",
        "from sklearn.model_selection import train_test_split\n",
        "X_train, X_val, y_train, y_val = train_test_split(X, y, test_size = 0.2, stratify = y)"
      ]
    },
    {
      "cell_type": "code",
      "execution_count": 28,
      "metadata": {
        "id": "1NdCYVnHCNVb"
      },
      "outputs": [],
      "source": [
        "# transform our textual X to numerical so that our ML model can understand it and can work with it\n",
        "from sklearn.feature_extraction.text import TfidfVectorizer\n",
        "\n",
        "tfidf_v = TfidfVectorizer(max_features=5000,ngram_range=(1,3),max_df=0.7)\n",
        "\n",
        "tfidf_train = tfidf_v.fit_transform(X_train).toarray()\n",
        "tfidf_val = tfidf_v.transform(X_val).toarray()"
      ]
    },
    {
      "cell_type": "code",
      "execution_count": 29,
      "metadata": {
        "id": "90h2kLRf78g5"
      },
      "outputs": [],
      "source": [
        "def plot_confusion_matrix(cm, classes,\n",
        "                          normalize=False,\n",
        "                          title='Confusion matrix',\n",
        "                          cmap=plt.cm.Blues):\n",
        "    \"\"\"\n",
        "    See full source and example: \n",
        "    http://scikit-learn.org/stable/auto_examples/model_selection/plot_confusion_matrix.html\n",
        "    \n",
        "    This function prints and plots the confusion matrix.\n",
        "    Normalization can be applied by setting `normalize=True`.\n",
        "    \"\"\"\n",
        "    plt.imshow(cm, interpolation='nearest', cmap=cmap)\n",
        "    plt.title(title)\n",
        "    plt.colorbar()\n",
        "    tick_marks = np.arange(len(classes))\n",
        "    plt.xticks(tick_marks, classes, rotation=45)\n",
        "    plt.yticks(tick_marks, classes)\n",
        "\n",
        "    if normalize:\n",
        "        cm = cm.astype('float') / cm.sum(axis=1)[:, np.newaxis]\n",
        "        print(\"Normalized confusion matrix\")\n",
        "    else:\n",
        "        print('Confusion matrix, without normalization')\n",
        "\n",
        "    thresh = cm.max() / 2.\n",
        "    for i, j in itertools.product(range(cm.shape[0]), range(cm.shape[1])):\n",
        "        plt.text(j, i, cm[i, j],\n",
        "                 horizontalalignment=\"center\",\n",
        "                 color=\"white\" if cm[i, j] > thresh else \"black\")\n",
        "\n",
        "    plt.tight_layout()\n",
        "    plt.ylabel('True label')\n",
        "    plt.xlabel('Predicted label')"
      ]
    },
    {
      "cell_type": "markdown",
      "metadata": {
        "id": "hesIqiJ40Zu4"
      },
      "source": [
        "# <b> RandomForest Classifier </b>"
      ]
    },
    {
      "cell_type": "markdown",
      "metadata": {
        "id": "B1G55U5gwYMU"
      },
      "source": [
        "### <b> Hyperparameter tuning </b>"
      ]
    },
    {
      "cell_type": "code",
      "execution_count": 30,
      "metadata": {
        "id": "loZ1Wjr_k9dz"
      },
      "outputs": [],
      "source": [
        "# rf_clf = RandomForestClassifier()\n",
        "\n",
        "# # Hyperparameter Grid\n",
        "# rf_grid = {'n_estimators' : [100,150],\n",
        "#         'max_depth' : [4,6,8],\n",
        "#         'min_samples_split' : [50,80],\n",
        "#         'min_samples_leaf' : [46,60]}\n",
        "\n",
        "# # RandomSearch to find the best parameters\n",
        "# rf_random = RandomizedSearchCV(rf_clf, param_distributions= rf_grid, scoring = 'accuracy', cv=5)\n",
        "# rf_random.fit(tfidf_train,y_train)\n",
        "\n",
        "# rf_random.best_params_"
      ]
    },
    {
      "cell_type": "code",
      "execution_count": 31,
      "metadata": {
        "id": "_CWZzbDD2OOG"
      },
      "outputs": [],
      "source": [
        "rf_clf = RandomForestClassifier(n_estimators=100, max_depth=6, min_samples_split=50, min_samples_leaf=46)\n",
        "rf_clf.fit(tfidf_train,y_train)\n",
        "tr_preds = rf_clf.predict(tfidf_train)  # predicting train\n",
        "preds = rf_clf.predict(tfidf_val)       # predicting validation"
      ]
    },
    {
      "cell_type": "code",
      "execution_count": 32,
      "metadata": {
        "id": "5xQXHTm70r9a",
        "colab": {
          "base_uri": "https://localhost:8080/"
        },
        "outputId": "0a5f784d-d510-4edb-d2dd-b7d043b742af"
      },
      "outputs": [
        {
          "output_type": "stream",
          "name": "stdout",
          "text": [
            "Train accuracy: 0.8609011766956854\n",
            "Validation accuracy: 0.8553525303740553\n"
          ]
        }
      ],
      "source": [
        "print('Train accuracy:',accuracy_score(y_train, tr_preds))\n",
        "print('Validation accuracy:',accuracy_score(y_val, preds))"
      ]
    },
    {
      "cell_type": "code",
      "execution_count": 33,
      "metadata": {
        "id": "jGiqWxneHU5R",
        "colab": {
          "base_uri": "https://localhost:8080/"
        },
        "outputId": "115048f2-1f7d-427b-e1ad-51f5d6e30d07"
      },
      "outputs": [
        {
          "output_type": "stream",
          "name": "stdout",
          "text": [
            "              precision    recall  f1-score   support\n",
            "\n",
            "           0       0.82      0.96      0.88     22533\n",
            "           1       0.94      0.75      0.83     19279\n",
            "\n",
            "    accuracy                           0.86     41812\n",
            "   macro avg       0.88      0.85      0.86     41812\n",
            "weighted avg       0.87      0.86      0.86     41812\n",
            "\n"
          ]
        }
      ],
      "source": [
        "# train classification report for RandomForest\n",
        "print(classification_report(y_train,tr_preds))"
      ]
    },
    {
      "cell_type": "code",
      "execution_count": 34,
      "metadata": {
        "id": "IYMJF8bMLSr0",
        "colab": {
          "base_uri": "https://localhost:8080/"
        },
        "outputId": "75f19015-fe0c-4800-b841-ca8b3ed1b8d1"
      },
      "outputs": [
        {
          "output_type": "stream",
          "name": "stdout",
          "text": [
            "              precision    recall  f1-score   support\n",
            "\n",
            "           0       0.81      0.95      0.88      5633\n",
            "           1       0.93      0.74      0.83      4820\n",
            "\n",
            "    accuracy                           0.86     10453\n",
            "   macro avg       0.87      0.85      0.85     10453\n",
            "weighted avg       0.87      0.86      0.85     10453\n",
            "\n"
          ]
        }
      ],
      "source": [
        "# validation classification report for RandomForest\n",
        "print(classification_report(y_val,preds))"
      ]
    },
    {
      "cell_type": "code",
      "execution_count": 35,
      "metadata": {
        "id": "9ELcMWdzvxtD",
        "colab": {
          "base_uri": "https://localhost:8080/",
          "height": 295
        },
        "outputId": "102d8e21-c071-4cc1-d5fa-dd670f55c7fe"
      },
      "outputs": [
        {
          "output_type": "display_data",
          "data": {
            "text/plain": [
              "<Figure size 432x288 with 1 Axes>"
            ],
            "image/png": "[encoded data removed]"
          },
          "metadata": {
            "needs_background": "light"
          }
        }
      ],
      "source": [
        "# train and validation ROC-AUC curve for RandomForest\n",
        "\n",
        "train_fpr, train_tpr, tr_thresholds = roc_curve(y_train, tr_preds)\n",
        "test_fpr, test_tpr, te_thresholds = roc_curve(y_val, preds)\n",
        "\n",
        "plt.grid()\n",
        "\n",
        "plt.plot(train_fpr, train_tpr, label=\" AUC Train =\"+str(auc(train_fpr, train_tpr).round(4)))\n",
        "plt.plot(test_fpr, test_tpr, label=\" AUC Val =\"+str(auc(test_fpr, test_tpr).round(4)))\n",
        "plt.plot([0,1],[0,1],'g--')\n",
        "plt.legend()\n",
        "plt.xlabel(\"False Positive Rate\")\n",
        "plt.ylabel(\"True Positive Rate\")\n",
        "plt.title(\"AUC(ROC curve)\")\n",
        "plt.grid(color='black', linestyle='-', linewidth=0.5)\n",
        "plt.show()"
      ]
    },
    {
      "cell_type": "code",
      "execution_count": 36,
      "metadata": {
        "id": "SyVaz1HrAXzT",
        "colab": {
          "base_uri": "https://localhost:8080/",
          "height": 328
        },
        "outputId": "2441a8f5-4ccc-4145-a8e5-502b72ebc414"
      },
      "outputs": [
        {
          "output_type": "stream",
          "name": "stdout",
          "text": [
            "Confusion matrix, without normalization\n"
          ]
        },
        {
          "output_type": "display_data",
          "data": {
            "text/plain": [
              "<Figure size 432x288 with 2 Axes>"
            ],
            "image/png": "[encoded data removed]"
          },
          "metadata": {
            "needs_background": "light"
          }
        }
      ],
      "source": [
        "# train confusion matrix for RandomForest\n",
        "cm_train = confusion_matrix(y_train,tr_preds)\n",
        "plot_confusion_matrix(cm_train,classes=['True','Fake'])"
      ]
    },
    {
      "cell_type": "code",
      "execution_count": 37,
      "metadata": {
        "id": "0v8ZftJBAk4Z",
        "colab": {
          "base_uri": "https://localhost:8080/",
          "height": 328
        },
        "outputId": "add73e61-ef68-4b0e-e040-d3db141f3226"
      },
      "outputs": [
        {
          "output_type": "stream",
          "name": "stdout",
          "text": [
            "Confusion matrix, without normalization\n"
          ]
        },
        {
          "output_type": "display_data",
          "data": {
            "text/plain": [
              "<Figure size 432x288 with 2 Axes>"
            ],
            "image/png": "[encoded data removed]"
          },
          "metadata": {
            "needs_background": "light"
          }
        }
      ],
      "source": [
        "# validation confusion matrix for RandomForest\n",
        "cm_test = confusion_matrix(y_val,preds)\n",
        "plot_confusion_matrix(cm_test,classes=['True','Fake'])"
      ]
    },
    {
      "cell_type": "markdown",
      "metadata": {
        "id": "14KlYSki4hsf"
      },
      "source": [
        "# <b> Logistic Regression </b>"
      ]
    },
    {
      "cell_type": "markdown",
      "metadata": {
        "id": "Pgd7TjkowpQM"
      },
      "source": [
        "### <b> Hyperparameter tuning </b>"
      ]
    },
    {
      "cell_type": "code",
      "source": [
        "# lr = LogisticRegression(fit_intercept=True, max_iter=10000)\n",
        "\n",
        "# # Hyperparameter Grid\n",
        "# lr_grid = {'C':[0.1,0.5,0.8,1,2,3,5,8,10,20,50,100]}\n",
        "\n",
        "# # RandomSearch to find the best parameters\n",
        "# lr_random = RandomizedSearchCV(lr, param_distributions= lr_grid, scoring = 'roc_auc', cv=5)\n",
        "# lr_random.fit(tfidf_train,y_train)\n",
        "\n",
        "# lr_random.best_params_"
      ],
      "metadata": {
        "id": "y8CIWJXWczwi"
      },
      "execution_count": 38,
      "outputs": []
    },
    {
      "cell_type": "code",
      "execution_count": 39,
      "metadata": {
        "id": "unlkOn2XzNvq"
      },
      "outputs": [],
      "source": [
        "lr = LogisticRegression(C=2, max_iter=10000)\n",
        "lr.fit(tfidf_train,y_train)\n",
        "tr_preds = lr.predict(tfidf_train)\n",
        "preds = lr.predict(tfidf_val)"
      ]
    },
    {
      "cell_type": "code",
      "execution_count": 40,
      "metadata": {
        "colab": {
          "base_uri": "https://localhost:8080/"
        },
        "id": "stdzDiNu41fw",
        "outputId": "08e6df34-3e59-4e8e-bb2b-bc11e57c9470"
      },
      "outputs": [
        {
          "output_type": "stream",
          "name": "stdout",
          "text": [
            "Train accuracy: 0.9580742370611308\n",
            "Validation accuracy: 0.9408782167798718\n"
          ]
        }
      ],
      "source": [
        "print('Train accuracy:',accuracy_score(y_train, tr_preds))\n",
        "print('Validation accuracy:',accuracy_score(y_val, preds))"
      ]
    },
    {
      "cell_type": "code",
      "execution_count": 41,
      "metadata": {
        "colab": {
          "base_uri": "https://localhost:8080/"
        },
        "id": "vq4jE3bKdon4",
        "outputId": "5699b3d9-646c-4562-b8e8-de11a4ec08c6"
      },
      "outputs": [
        {
          "output_type": "stream",
          "name": "stdout",
          "text": [
            "              precision    recall  f1-score   support\n",
            "\n",
            "           0       0.96      0.96      0.96     22533\n",
            "           1       0.96      0.95      0.95     19279\n",
            "\n",
            "    accuracy                           0.96     41812\n",
            "   macro avg       0.96      0.96      0.96     41812\n",
            "weighted avg       0.96      0.96      0.96     41812\n",
            "\n"
          ]
        }
      ],
      "source": [
        "print(classification_report(y_train, tr_preds))       # train"
      ]
    },
    {
      "cell_type": "code",
      "execution_count": 42,
      "metadata": {
        "colab": {
          "base_uri": "https://localhost:8080/"
        },
        "id": "10ym6xQad072",
        "outputId": "120f6e65-fea0-466e-f2ed-6da00833126c"
      },
      "outputs": [
        {
          "output_type": "stream",
          "name": "stdout",
          "text": [
            "              precision    recall  f1-score   support\n",
            "\n",
            "           0       0.95      0.94      0.94      5633\n",
            "           1       0.93      0.94      0.94      4820\n",
            "\n",
            "    accuracy                           0.94     10453\n",
            "   macro avg       0.94      0.94      0.94     10453\n",
            "weighted avg       0.94      0.94      0.94     10453\n",
            "\n"
          ]
        }
      ],
      "source": [
        "print(classification_report(y_val, preds))     # validation"
      ]
    },
    {
      "cell_type": "code",
      "execution_count": 43,
      "metadata": {
        "colab": {
          "base_uri": "https://localhost:8080/",
          "height": 295
        },
        "id": "ewnHXjkbIjE0",
        "outputId": "e5d590d6-e8f9-4fcd-e2f8-4a5ba2e4a0e6"
      },
      "outputs": [
        {
          "output_type": "display_data",
          "data": {
            "text/plain": [
              "<Figure size 432x288 with 1 Axes>"
            ],
            "image/png": "[encoded data removed]"
          },
          "metadata": {
            "needs_background": "light"
          }
        }
      ],
      "source": [
        "# train and validation ROC-AUC curve for Logistic Regression\n",
        "train_fpr, train_tpr, tr_thresholds = roc_curve(y_train, tr_preds)\n",
        "test_fpr, test_tpr, te_thresholds = roc_curve(y_val, preds)\n",
        "\n",
        "plt.grid()\n",
        "\n",
        "plt.plot(train_fpr, train_tpr, label=\" AUC Train =\"+str(auc(train_fpr, train_tpr).round(4)))\n",
        "plt.plot(test_fpr, test_tpr, label=\" AUC Val =\"+str(auc(test_fpr, test_tpr).round(4)))\n",
        "plt.plot([0,1],[0,1],'g--')\n",
        "plt.legend()\n",
        "plt.xlabel(\"False Positive Rate\")\n",
        "plt.ylabel(\"True Positive Rate\")\n",
        "plt.title(\"AUC(ROC curve)\")\n",
        "plt.grid(color='black', linestyle='-', linewidth=0.5)\n",
        "plt.show()"
      ]
    },
    {
      "cell_type": "code",
      "execution_count": 44,
      "metadata": {
        "colab": {
          "base_uri": "https://localhost:8080/",
          "height": 328
        },
        "id": "6NJGlz1BJByj",
        "outputId": "edb165d0-b65e-43da-d8c8-951c19bbf980"
      },
      "outputs": [
        {
          "output_type": "stream",
          "name": "stdout",
          "text": [
            "Confusion matrix, without normalization\n"
          ]
        },
        {
          "output_type": "display_data",
          "data": {
            "text/plain": [
              "<Figure size 432x288 with 2 Axes>"
            ],
            "image/png": "[encoded data removed]"
          },
          "metadata": {
            "needs_background": "light"
          }
        }
      ],
      "source": [
        "# train confusion matrix for Logistic Regession\n",
        "cm_train = confusion_matrix(y_train,tr_preds)\n",
        "plot_confusion_matrix(cm_train,classes=['True','Fake'])"
      ]
    },
    {
      "cell_type": "code",
      "execution_count": 45,
      "metadata": {
        "colab": {
          "base_uri": "https://localhost:8080/",
          "height": 328
        },
        "id": "AhUQTiQ0CkER",
        "outputId": "4987576c-1eb1-4be8-f615-285cb1baf32b"
      },
      "outputs": [
        {
          "output_type": "stream",
          "name": "stdout",
          "text": [
            "Confusion matrix, without normalization\n"
          ]
        },
        {
          "output_type": "display_data",
          "data": {
            "text/plain": [
              "<Figure size 432x288 with 2 Axes>"
            ],
            "image/png": "[encoded data removed]"
          },
          "metadata": {
            "needs_background": "light"
          }
        }
      ],
      "source": [
        "# validation confusion matrix for Logistic Regession\n",
        "cm_test = confusion_matrix(y_val,preds)\n",
        "plot_confusion_matrix(cm_test,classes=['True','Fake'])"
      ]
    },
    {
      "cell_type": "markdown",
      "metadata": {
        "id": "a_Vlnha9Talg"
      },
      "source": [
        "# <b> Testing on different datasets </b>"
      ]
    },
    {
      "cell_type": "markdown",
      "metadata": {
        "id": "IzY4OM6zkniV"
      },
      "source": [
        "## <b> test1 </b>"
      ]
    },
    {
      "cell_type": "code",
      "execution_count": 46,
      "metadata": {
        "id": "mhattXI96FoE",
        "colab": {
          "base_uri": "https://localhost:8080/",
          "height": 441
        },
        "outputId": "e1e8c5c9-ffc9-4ae3-eac1-f0381dd07ef3"
      },
      "outputs": [
        {
          "output_type": "execute_result",
          "data": {
            "text/plain": [
              "      id                                              title  \\\n",
              "0   5888  China Machado, Breakthrough Model Until the En...   \n",
              "1  16862  How Functional Medicine Can Cure Dementia and ...   \n",
              "2  12009  Comment on After Fighting for Freedom, 76-yo V...   \n",
              "3  16252  New Guideline Will Allow First-Year Doctors to...   \n",
              "4  19362  While Donald Rakes In Donations From Poor Supp...   \n",
              "5   8439  13 Year Old Girl’s Rousing Speech: “If Donald ...   \n",
              "6  16131  Hundreds of rescued refugees arrive at Italian...   \n",
              "7  19405  Trump Rejects Neocon Turncoats - Russia Launch...   \n",
              "8  14544  It’s Going to Change RADICALLY With Silver – H...   \n",
              "9  16563  Justice Dept. Sues Michigan City After Mosque ...   \n",
              "\n",
              "                        author  \\\n",
              "0             Vanessa Friedman   \n",
              "1               Admin - Orissa   \n",
              "2                 Chris Wilson   \n",
              "3  Gina Kolata and Jan Hoffman   \n",
              "4                Ellen Brodsky   \n",
              "5                    Mac Slavo   \n",
              "6                     Pakalert   \n",
              "7                            b   \n",
              "8                      The Doc   \n",
              "9             Christine Hauser   \n",
              "\n",
              "                                                text  label  label_rf  \\\n",
              "0  China Machado, one of the first   to appear in...      0         0   \n",
              "1  by Paul Fassa Health Impact News \\nAn episode ...      1         1   \n",
              "2  Home / Health / Medical Marijuana / After Figh...      1         1   \n",
              "3    doctors in training will now be permitted to...      0         0   \n",
              "4  While Donald Rakes In Donations From Poor Supp...      1         1   \n",
              "5  Who can argue with this young lady’s speech?\\n...      1         0   \n",
              "6  Support Us Hundreds of rescued refugees arrive...      1         1   \n",
              "7  Wikipedia: Eliot A. Cohen ... co-founded the P...      1         1   \n",
              "8  Tweet Home » Silver » Silver News » It’s Going...      1         1   \n",
              "9  The Department of Justice has filed a lawsuit ...      0         0   \n",
              "\n",
              "   label_lr  \n",
              "0         1  \n",
              "1         1  \n",
              "2         1  \n",
              "3         1  \n",
              "4         1  \n",
              "5         1  \n",
              "6         1  \n",
              "7         1  \n",
              "8         1  \n",
              "9         1  "
            ],
            "text/html": [
              "\n",
              "  <div id=\"df-4758dc0b-15e3-4fd6-be43-0b5f306a578a\">\n",
              "    <div class=\"colab-df-container\">\n",
              "      <div>\n",
              "<style scoped>\n",
              "    .dataframe tbody tr th:only-of-type {\n",
              "        vertical-align: middle;\n",
              "    }\n",
              "\n",
              "    .dataframe tbody tr th {\n",
              "        vertical-align: top;\n",
              "    }\n",
              "\n",
              "    .dataframe thead th {\n",
              "        text-align: right;\n",
              "    }\n",
              "</style>\n",
              "<table border=\"1\" class=\"dataframe\">\n",
              "  <thead>\n",
              "    <tr style=\"text-align: right;\">\n",
              "      <th></th>\n",
              "      <th>id</th>\n",
              "      <th>title</th>\n",
              "      <th>author</th>\n",
              "      <th>text</th>\n",
              "      <th>label</th>\n",
              "      <th>label_rf</th>\n",
              "      <th>label_lr</th>\n",
              "    </tr>\n",
              "  </thead>\n",
              "  <tbody>\n",
              "    <tr>\n",
              "      <th>0</th>\n",
              "      <td>5888</td>\n",
              "      <td>China Machado, Breakthrough Model Until the En...</td>\n",
              "      <td>Vanessa Friedman</td>\n",
              "      <td>China Machado, one of the first   to appear in...</td>\n",
              "      <td>0</td>\n",
              "      <td>0</td>\n",
              "      <td>1</td>\n",
              "    </tr>\n",
              "    <tr>\n",
              "      <th>1</th>\n",
              "      <td>16862</td>\n",
              "      <td>How Functional Medicine Can Cure Dementia and ...</td>\n",
              "      <td>Admin - Orissa</td>\n",
              "      <td>by Paul Fassa Health Impact News \\nAn episode ...</td>\n",
              "      <td>1</td>\n",
              "      <td>1</td>\n",
              "      <td>1</td>\n",
              "    </tr>\n",
              "    <tr>\n",
              "      <th>2</th>\n",
              "      <td>12009</td>\n",
              "      <td>Comment on After Fighting for Freedom, 76-yo V...</td>\n",
              "      <td>Chris Wilson</td>\n",
              "      <td>Home / Health / Medical Marijuana / After Figh...</td>\n",
              "      <td>1</td>\n",
              "      <td>1</td>\n",
              "      <td>1</td>\n",
              "    </tr>\n",
              "    <tr>\n",
              "      <th>3</th>\n",
              "      <td>16252</td>\n",
              "      <td>New Guideline Will Allow First-Year Doctors to...</td>\n",
              "      <td>Gina Kolata and Jan Hoffman</td>\n",
              "      <td>doctors in training will now be permitted to...</td>\n",
              "      <td>0</td>\n",
              "      <td>0</td>\n",
              "      <td>1</td>\n",
              "    </tr>\n",
              "    <tr>\n",
              "      <th>4</th>\n",
              "      <td>19362</td>\n",
              "      <td>While Donald Rakes In Donations From Poor Supp...</td>\n",
              "      <td>Ellen Brodsky</td>\n",
              "      <td>While Donald Rakes In Donations From Poor Supp...</td>\n",
              "      <td>1</td>\n",
              "      <td>1</td>\n",
              "      <td>1</td>\n",
              "    </tr>\n",
              "    <tr>\n",
              "      <th>5</th>\n",
              "      <td>8439</td>\n",
              "      <td>13 Year Old Girl’s Rousing Speech: “If Donald ...</td>\n",
              "      <td>Mac Slavo</td>\n",
              "      <td>Who can argue with this young lady’s speech?\\n...</td>\n",
              "      <td>1</td>\n",
              "      <td>0</td>\n",
              "      <td>1</td>\n",
              "    </tr>\n",
              "    <tr>\n",
              "      <th>6</th>\n",
              "      <td>16131</td>\n",
              "      <td>Hundreds of rescued refugees arrive at Italian...</td>\n",
              "      <td>Pakalert</td>\n",
              "      <td>Support Us Hundreds of rescued refugees arrive...</td>\n",
              "      <td>1</td>\n",
              "      <td>1</td>\n",
              "      <td>1</td>\n",
              "    </tr>\n",
              "    <tr>\n",
              "      <th>7</th>\n",
              "      <td>19405</td>\n",
              "      <td>Trump Rejects Neocon Turncoats - Russia Launch...</td>\n",
              "      <td>b</td>\n",
              "      <td>Wikipedia: Eliot A. Cohen ... co-founded the P...</td>\n",
              "      <td>1</td>\n",
              "      <td>1</td>\n",
              "      <td>1</td>\n",
              "    </tr>\n",
              "    <tr>\n",
              "      <th>8</th>\n",
              "      <td>14544</td>\n",
              "      <td>It’s Going to Change RADICALLY With Silver – H...</td>\n",
              "      <td>The Doc</td>\n",
              "      <td>Tweet Home » Silver » Silver News » It’s Going...</td>\n",
              "      <td>1</td>\n",
              "      <td>1</td>\n",
              "      <td>1</td>\n",
              "    </tr>\n",
              "    <tr>\n",
              "      <th>9</th>\n",
              "      <td>16563</td>\n",
              "      <td>Justice Dept. Sues Michigan City After Mosque ...</td>\n",
              "      <td>Christine Hauser</td>\n",
              "      <td>The Department of Justice has filed a lawsuit ...</td>\n",
              "      <td>0</td>\n",
              "      <td>0</td>\n",
              "      <td>1</td>\n",
              "    </tr>\n",
              "  </tbody>\n",
              "</table>\n",
              "</div>\n",
              "      <button class=\"colab-df-convert\" onclick=\"convertToInteractive('df-4758dc0b-15e3-4fd6-be43-0b5f306a578a')\"\n",
              "              title=\"Convert this dataframe to an interactive table.\"\n",
              "              style=\"display:none;\">\n",
              "        \n",
              "  <svg xmlns=\"http://www.w3.org/2000/svg\" height=\"24px\"viewBox=\"0 0 24 24\"\n",
              "       width=\"24px\">\n",
              "    <path d=\"M0 0h24v24H0V0z\" fill=\"none\"/>\n",
              "    <path d=\"M18.56 5.44l.94 2.06.94-2.06 2.06-.94-2.06-.94-.94-2.06-.94 2.06-2.06.94zm-11 1L8.5 8.5l.94-2.06 2.06-.94-2.06-.94L8.5 2.5l-.94 2.06-2.06.94zm10 10l.94 2.06.94-2.06 2.06-.94-2.06-.94-.94-2.06-.94 2.06-2.06.94z\"/><path d=\"M17.41 7.96l-1.37-1.37c-.4-.4-.92-.59-1.43-.59-.52 0-1.04.2-1.43.59L10.3 9.45l-7.72 7.72c-.78.78-.78 2.05 0 2.83L4 21.41c.39.39.9.59 1.41.59.51 0 1.02-.2 1.41-.59l7.78-7.78 2.81-2.81c.8-.78.8-2.07 0-2.86zM5.41 20L4 18.59l7.72-7.72 1.47 1.35L5.41 20z\"/>\n",
              "  </svg>\n",
              "      </button>\n",
              "      \n",
              "  <style>\n",
              "    .colab-df-container {\n",
              "      display:flex;\n",
              "      flex-wrap:wrap;\n",
              "      gap: 12px;\n",
              "    }\n",
              "\n",
              "    .colab-df-convert {\n",
              "      background-color: #E8F0FE;\n",
              "      border: none;\n",
              "      border-radius: 50%;\n",
              "      cursor: pointer;\n",
              "      display: none;\n",
              "      fill: #1967D2;\n",
              "      height: 32px;\n",
              "      padding: 0 0 0 0;\n",
              "      width: 32px;\n",
              "    }\n",
              "\n",
              "    .colab-df-convert:hover {\n",
              "      background-color: #E2EBFA;\n",
              "      box-shadow: 0px 1px 2px rgba(60, 64, 67, 0.3), 0px 1px 3px 1px rgba(60, 64, 67, 0.15);\n",
              "      fill: #174EA6;\n",
              "    }\n",
              "\n",
              "    [theme=dark] .colab-df-convert {\n",
              "      background-color: #3B4455;\n",
              "      fill: #D2E3FC;\n",
              "    }\n",
              "\n",
              "    [theme=dark] .colab-df-convert:hover {\n",
              "      background-color: #434B5C;\n",
              "      box-shadow: 0px 1px 3px 1px rgba(0, 0, 0, 0.15);\n",
              "      filter: drop-shadow(0px 1px 2px rgba(0, 0, 0, 0.3));\n",
              "      fill: #FFFFFF;\n",
              "    }\n",
              "  </style>\n",
              "\n",
              "      <script>\n",
              "        const buttonEl =\n",
              "          document.querySelector('#df-4758dc0b-15e3-4fd6-be43-0b5f306a578a button.colab-df-convert');\n",
              "        buttonEl.style.display =\n",
              "          google.colab.kernel.accessAllowed ? 'block' : 'none';\n",
              "\n",
              "        async function convertToInteractive(key) {\n",
              "          const element = document.querySelector('#df-4758dc0b-15e3-4fd6-be43-0b5f306a578a');\n",
              "          const dataTable =\n",
              "            await google.colab.kernel.invokeFunction('convertToInteractive',\n",
              "                                                     [key], {});\n",
              "          if (!dataTable) return;\n",
              "\n",
              "          const docLinkHtml = 'Like what you see? Visit the ' +\n",
              "            '<a target=\"_blank\" href=https://colab.research.google.com/notebooks/data_table.ipynb>data table notebook</a>'\n",
              "            + ' to learn more about interactive tables.';\n",
              "          element.innerHTML = '';\n",
              "          dataTable['output_type'] = 'display_data';\n",
              "          await google.colab.output.renderOutput(dataTable, element);\n",
              "          const docLink = document.createElement('div');\n",
              "          docLink.innerHTML = docLinkHtml;\n",
              "          element.appendChild(docLink);\n",
              "        }\n",
              "      </script>\n",
              "    </div>\n",
              "  </div>\n",
              "  "
            ]
          },
          "metadata": {},
          "execution_count": 46
        }
      ],
      "source": [
        "test1 = test1.dropna().reset_index(drop=True)\n",
        "X1 = test1.title.values\n",
        "X1_tfidf = tfidf_v.transform(X1).toarray()\n",
        "test1['label_rf'] = rf_clf.predict(X1_tfidf)       # RandomForest model\n",
        "test1['label_lr'] = lr.predict(X1_tfidf)           # Logistic Regression model\n",
        "test1.head(10)"
      ]
    },
    {
      "cell_type": "code",
      "execution_count": 47,
      "metadata": {
        "colab": {
          "base_uri": "https://localhost:8080/"
        },
        "id": "gzoYhJzU7qJP",
        "outputId": "4cb0858b-2327-42fa-bd6e-4824eb057d2f"
      },
      "outputs": [
        {
          "output_type": "execute_result",
          "data": {
            "text/plain": [
              "0.8142701525054467"
            ]
          },
          "metadata": {},
          "execution_count": 47
        }
      ],
      "source": [
        "accuracy_score(test1.label,test1.label_rf)    # RandomForest model"
      ]
    },
    {
      "cell_type": "code",
      "execution_count": 48,
      "metadata": {
        "colab": {
          "base_uri": "https://localhost:8080/"
        },
        "id": "SjJuABvhIQ0R",
        "outputId": "1b0183ed-5342-43c7-a731-fdac8b6bb233"
      },
      "outputs": [
        {
          "output_type": "stream",
          "name": "stdout",
          "text": [
            "              precision    recall  f1-score   support\n",
            "\n",
            "           0       0.90      0.75      0.82      2071\n",
            "           1       0.73      0.90      0.81      1601\n",
            "\n",
            "    accuracy                           0.81      3672\n",
            "   macro avg       0.82      0.82      0.81      3672\n",
            "weighted avg       0.83      0.81      0.81      3672\n",
            "\n"
          ]
        }
      ],
      "source": [
        "print(classification_report(test1.label,test1.label_rf))    # RandomForest model"
      ]
    },
    {
      "cell_type": "code",
      "execution_count": 49,
      "metadata": {
        "colab": {
          "base_uri": "https://localhost:8080/",
          "height": 328
        },
        "id": "BsLB23GRVKns",
        "outputId": "54ebf62d-786b-4878-f8bc-1f6e77e5836b"
      },
      "outputs": [
        {
          "output_type": "stream",
          "name": "stdout",
          "text": [
            "Confusion matrix, without normalization\n"
          ]
        },
        {
          "output_type": "display_data",
          "data": {
            "text/plain": [
              "<Figure size 432x288 with 2 Axes>"
            ],
            "image/png": "[encoded data removed]"
          },
          "metadata": {
            "needs_background": "light"
          }
        }
      ],
      "source": [
        "cm1_rf = confusion_matrix(test1.label,test1.label_rf)       # RandomForest model\n",
        "plot_confusion_matrix(cm1_rf,classes=['True','Fake'])"
      ]
    },
    {
      "cell_type": "code",
      "execution_count": 50,
      "metadata": {
        "colab": {
          "base_uri": "https://localhost:8080/"
        },
        "id": "Q1UPDyou8mnY",
        "outputId": "e655fd4b-8fe4-450d-a7a7-177da1a616fe"
      },
      "outputs": [
        {
          "output_type": "execute_result",
          "data": {
            "text/plain": [
              "0.5964052287581699"
            ]
          },
          "metadata": {},
          "execution_count": 50
        }
      ],
      "source": [
        "accuracy_score(test1.label,test1.label_lr)      # Logistic Regression model"
      ]
    },
    {
      "cell_type": "code",
      "execution_count": 51,
      "metadata": {
        "colab": {
          "base_uri": "https://localhost:8080/"
        },
        "id": "-qAwpRFNIA4u",
        "outputId": "793a182e-cc14-482e-e81d-c052e81f6780"
      },
      "outputs": [
        {
          "output_type": "stream",
          "name": "stdout",
          "text": [
            "              precision    recall  f1-score   support\n",
            "\n",
            "           0       0.96      0.30      0.45      2071\n",
            "           1       0.52      0.98      0.68      1601\n",
            "\n",
            "    accuracy                           0.60      3672\n",
            "   macro avg       0.74      0.64      0.57      3672\n",
            "weighted avg       0.77      0.60      0.55      3672\n",
            "\n"
          ]
        }
      ],
      "source": [
        "print(classification_report(test1.label,test1.label_lr))    # Logistic Regression model"
      ]
    },
    {
      "cell_type": "code",
      "execution_count": 52,
      "metadata": {
        "colab": {
          "base_uri": "https://localhost:8080/",
          "height": 328
        },
        "id": "NrbUziCX9CjQ",
        "outputId": "28f06315-0239-4a24-fa3e-b7cae5ac0c2b"
      },
      "outputs": [
        {
          "output_type": "stream",
          "name": "stdout",
          "text": [
            "Confusion matrix, without normalization\n"
          ]
        },
        {
          "output_type": "display_data",
          "data": {
            "text/plain": [
              "<Figure size 432x288 with 2 Axes>"
            ],
            "image/png": "[encoded data removed]"
          },
          "metadata": {
            "needs_background": "light"
          }
        }
      ],
      "source": [
        "cm1_lr = confusion_matrix(test1.label,test1.label_lr)     # Logistic Regression model\n",
        "plot_confusion_matrix(cm1_lr,classes=['True','Fake'])"
      ]
    },
    {
      "cell_type": "markdown",
      "metadata": {
        "id": "r7hci7Tdkt8p"
      },
      "source": [
        "## <b> test2 </b>"
      ]
    },
    {
      "cell_type": "code",
      "execution_count": 53,
      "metadata": {
        "colab": {
          "base_uri": "https://localhost:8080/",
          "height": 363
        },
        "id": "BZDR8WcDGfZz",
        "outputId": "5c81cb1a-7595-48d8-de1a-8c43d0302b1d"
      },
      "outputs": [
        {
          "output_type": "execute_result",
          "data": {
            "text/plain": [
              "   Unnamed: 0                                              title  \\\n",
              "0         294                   Louie Gohmert For House Speaker?   \n",
              "1       10399     Fighting Ghost Fascists While Aiding Real Ones   \n",
              "2        6014             Hillary Clinton has a deep commitment.   \n",
              "3        1009  Donald Trump’s “days of rage”: As the GOP prim...   \n",
              "4        7985  Federal Election Commission (“FEC”) Is Another...   \n",
              "5        8164  Exposed: Stunning CNN Super Damage Control In ...   \n",
              "6        2445  Obamacare Is Back At The Supreme Court, And Th...   \n",
              "7        5590  Pentagon: No Plan ‘So Far’ For US Troops to En...   \n",
              "8        8911   JUST IN: FBI Reopens Hillary Clinton Email Probe   \n",
              "9        5936  Devastating aftermath of twin quakes in Italy ...   \n",
              "\n",
              "                                                text  label  label_rf  \\\n",
              "0  WASHINGTON -- Rep. Louie Gohmert (R-Texas) lau...      0         0   \n",
              "1  2016 presidential campaign by BAR executive ed...      1         1   \n",
              "2  (7 fans) - Advertisement - \\nHillary Clinton i...      1         1   \n",
              "3  And the results, as everyone who’s been paying...      0         0   \n",
              "4  VA Backlog Means Thousands Of Veterans Owed Mo...      1         0   \n",
              "5  in: Mainstream Media , Multimedia , Propaganda...      1         1   \n",
              "6  bamacare is back before the Supreme Court in a...      0         0   \n",
              "7  Officials Concede Plan Could Change, as Could ...      1         0   \n",
              "8  JUST IN: FBI Reopens Hillary Clinton Email Pro...      1         0   \n",
              "9  Drone footage shows the devastation caused by ...      1         1   \n",
              "\n",
              "   label_lr  \n",
              "0         0  \n",
              "1         1  \n",
              "2         1  \n",
              "3         0  \n",
              "4         0  \n",
              "5         1  \n",
              "6         0  \n",
              "7         1  \n",
              "8         1  \n",
              "9         1  "
            ],
            "text/html": [
              "\n",
              "  <div id=\"df-d9572aef-480c-41cb-8abe-705adf8852e8\">\n",
              "    <div class=\"colab-df-container\">\n",
              "      <div>\n",
              "<style scoped>\n",
              "    .dataframe tbody tr th:only-of-type {\n",
              "        vertical-align: middle;\n",
              "    }\n",
              "\n",
              "    .dataframe tbody tr th {\n",
              "        vertical-align: top;\n",
              "    }\n",
              "\n",
              "    .dataframe thead th {\n",
              "        text-align: right;\n",
              "    }\n",
              "</style>\n",
              "<table border=\"1\" class=\"dataframe\">\n",
              "  <thead>\n",
              "    <tr style=\"text-align: right;\">\n",
              "      <th></th>\n",
              "      <th>Unnamed: 0</th>\n",
              "      <th>title</th>\n",
              "      <th>text</th>\n",
              "      <th>label</th>\n",
              "      <th>label_rf</th>\n",
              "      <th>label_lr</th>\n",
              "    </tr>\n",
              "  </thead>\n",
              "  <tbody>\n",
              "    <tr>\n",
              "      <th>0</th>\n",
              "      <td>294</td>\n",
              "      <td>Louie Gohmert For House Speaker?</td>\n",
              "      <td>WASHINGTON -- Rep. Louie Gohmert (R-Texas) lau...</td>\n",
              "      <td>0</td>\n",
              "      <td>0</td>\n",
              "      <td>0</td>\n",
              "    </tr>\n",
              "    <tr>\n",
              "      <th>1</th>\n",
              "      <td>10399</td>\n",
              "      <td>Fighting Ghost Fascists While Aiding Real Ones</td>\n",
              "      <td>2016 presidential campaign by BAR executive ed...</td>\n",
              "      <td>1</td>\n",
              "      <td>1</td>\n",
              "      <td>1</td>\n",
              "    </tr>\n",
              "    <tr>\n",
              "      <th>2</th>\n",
              "      <td>6014</td>\n",
              "      <td>Hillary Clinton has a deep commitment.</td>\n",
              "      <td>(7 fans) - Advertisement - \\nHillary Clinton i...</td>\n",
              "      <td>1</td>\n",
              "      <td>1</td>\n",
              "      <td>1</td>\n",
              "    </tr>\n",
              "    <tr>\n",
              "      <th>3</th>\n",
              "      <td>1009</td>\n",
              "      <td>Donald Trump’s “days of rage”: As the GOP prim...</td>\n",
              "      <td>And the results, as everyone who’s been paying...</td>\n",
              "      <td>0</td>\n",
              "      <td>0</td>\n",
              "      <td>0</td>\n",
              "    </tr>\n",
              "    <tr>\n",
              "      <th>4</th>\n",
              "      <td>7985</td>\n",
              "      <td>Federal Election Commission (“FEC”) Is Another...</td>\n",
              "      <td>VA Backlog Means Thousands Of Veterans Owed Mo...</td>\n",
              "      <td>1</td>\n",
              "      <td>0</td>\n",
              "      <td>0</td>\n",
              "    </tr>\n",
              "    <tr>\n",
              "      <th>5</th>\n",
              "      <td>8164</td>\n",
              "      <td>Exposed: Stunning CNN Super Damage Control In ...</td>\n",
              "      <td>in: Mainstream Media , Multimedia , Propaganda...</td>\n",
              "      <td>1</td>\n",
              "      <td>1</td>\n",
              "      <td>1</td>\n",
              "    </tr>\n",
              "    <tr>\n",
              "      <th>6</th>\n",
              "      <td>2445</td>\n",
              "      <td>Obamacare Is Back At The Supreme Court, And Th...</td>\n",
              "      <td>bamacare is back before the Supreme Court in a...</td>\n",
              "      <td>0</td>\n",
              "      <td>0</td>\n",
              "      <td>0</td>\n",
              "    </tr>\n",
              "    <tr>\n",
              "      <th>7</th>\n",
              "      <td>5590</td>\n",
              "      <td>Pentagon: No Plan ‘So Far’ For US Troops to En...</td>\n",
              "      <td>Officials Concede Plan Could Change, as Could ...</td>\n",
              "      <td>1</td>\n",
              "      <td>0</td>\n",
              "      <td>1</td>\n",
              "    </tr>\n",
              "    <tr>\n",
              "      <th>8</th>\n",
              "      <td>8911</td>\n",
              "      <td>JUST IN: FBI Reopens Hillary Clinton Email Probe</td>\n",
              "      <td>JUST IN: FBI Reopens Hillary Clinton Email Pro...</td>\n",
              "      <td>1</td>\n",
              "      <td>0</td>\n",
              "      <td>1</td>\n",
              "    </tr>\n",
              "    <tr>\n",
              "      <th>9</th>\n",
              "      <td>5936</td>\n",
              "      <td>Devastating aftermath of twin quakes in Italy ...</td>\n",
              "      <td>Drone footage shows the devastation caused by ...</td>\n",
              "      <td>1</td>\n",
              "      <td>1</td>\n",
              "      <td>1</td>\n",
              "    </tr>\n",
              "  </tbody>\n",
              "</table>\n",
              "</div>\n",
              "      <button class=\"colab-df-convert\" onclick=\"convertToInteractive('df-d9572aef-480c-41cb-8abe-705adf8852e8')\"\n",
              "              title=\"Convert this dataframe to an interactive table.\"\n",
              "              style=\"display:none;\">\n",
              "        \n",
              "  <svg xmlns=\"http://www.w3.org/2000/svg\" height=\"24px\"viewBox=\"0 0 24 24\"\n",
              "       width=\"24px\">\n",
              "    <path d=\"M0 0h24v24H0V0z\" fill=\"none\"/>\n",
              "    <path d=\"M18.56 5.44l.94 2.06.94-2.06 2.06-.94-2.06-.94-.94-2.06-.94 2.06-2.06.94zm-11 1L8.5 8.5l.94-2.06 2.06-.94-2.06-.94L8.5 2.5l-.94 2.06-2.06.94zm10 10l.94 2.06.94-2.06 2.06-.94-2.06-.94-.94-2.06-.94 2.06-2.06.94z\"/><path d=\"M17.41 7.96l-1.37-1.37c-.4-.4-.92-.59-1.43-.59-.52 0-1.04.2-1.43.59L10.3 9.45l-7.72 7.72c-.78.78-.78 2.05 0 2.83L4 21.41c.39.39.9.59 1.41.59.51 0 1.02-.2 1.41-.59l7.78-7.78 2.81-2.81c.8-.78.8-2.07 0-2.86zM5.41 20L4 18.59l7.72-7.72 1.47 1.35L5.41 20z\"/>\n",
              "  </svg>\n",
              "      </button>\n",
              "      \n",
              "  <style>\n",
              "    .colab-df-container {\n",
              "      display:flex;\n",
              "      flex-wrap:wrap;\n",
              "      gap: 12px;\n",
              "    }\n",
              "\n",
              "    .colab-df-convert {\n",
              "      background-color: #E8F0FE;\n",
              "      border: none;\n",
              "      border-radius: 50%;\n",
              "      cursor: pointer;\n",
              "      display: none;\n",
              "      fill: #1967D2;\n",
              "      height: 32px;\n",
              "      padding: 0 0 0 0;\n",
              "      width: 32px;\n",
              "    }\n",
              "\n",
              "    .colab-df-convert:hover {\n",
              "      background-color: #E2EBFA;\n",
              "      box-shadow: 0px 1px 2px rgba(60, 64, 67, 0.3), 0px 1px 3px 1px rgba(60, 64, 67, 0.15);\n",
              "      fill: #174EA6;\n",
              "    }\n",
              "\n",
              "    [theme=dark] .colab-df-convert {\n",
              "      background-color: #3B4455;\n",
              "      fill: #D2E3FC;\n",
              "    }\n",
              "\n",
              "    [theme=dark] .colab-df-convert:hover {\n",
              "      background-color: #434B5C;\n",
              "      box-shadow: 0px 1px 3px 1px rgba(0, 0, 0, 0.15);\n",
              "      filter: drop-shadow(0px 1px 2px rgba(0, 0, 0, 0.3));\n",
              "      fill: #FFFFFF;\n",
              "    }\n",
              "  </style>\n",
              "\n",
              "      <script>\n",
              "        const buttonEl =\n",
              "          document.querySelector('#df-d9572aef-480c-41cb-8abe-705adf8852e8 button.colab-df-convert');\n",
              "        buttonEl.style.display =\n",
              "          google.colab.kernel.accessAllowed ? 'block' : 'none';\n",
              "\n",
              "        async function convertToInteractive(key) {\n",
              "          const element = document.querySelector('#df-d9572aef-480c-41cb-8abe-705adf8852e8');\n",
              "          const dataTable =\n",
              "            await google.colab.kernel.invokeFunction('convertToInteractive',\n",
              "                                                     [key], {});\n",
              "          if (!dataTable) return;\n",
              "\n",
              "          const docLinkHtml = 'Like what you see? Visit the ' +\n",
              "            '<a target=\"_blank\" href=https://colab.research.google.com/notebooks/data_table.ipynb>data table notebook</a>'\n",
              "            + ' to learn more about interactive tables.';\n",
              "          element.innerHTML = '';\n",
              "          dataTable['output_type'] = 'display_data';\n",
              "          await google.colab.output.renderOutput(dataTable, element);\n",
              "          const docLink = document.createElement('div');\n",
              "          docLink.innerHTML = docLinkHtml;\n",
              "          element.appendChild(docLink);\n",
              "        }\n",
              "      </script>\n",
              "    </div>\n",
              "  </div>\n",
              "  "
            ]
          },
          "metadata": {},
          "execution_count": 53
        }
      ],
      "source": [
        "test2 = test2.dropna().reset_index(drop=True)\n",
        "X2 = test2.text.values\n",
        "X2_tfidf = tfidf_v.transform(X2).toarray()\n",
        "test2['label_rf'] = rf_clf.predict(X2_tfidf)      # RandomForest model\n",
        "test2['label_lr'] = lr.predict(X2_tfidf)          # Logistic Regression model\n",
        "test2.head(10)"
      ]
    },
    {
      "cell_type": "code",
      "execution_count": 54,
      "metadata": {
        "colab": {
          "base_uri": "https://localhost:8080/"
        },
        "id": "oRx1nu6TG6N0",
        "outputId": "1f54e3a7-764e-4cca-e001-275b0b5be034"
      },
      "outputs": [
        {
          "output_type": "execute_result",
          "data": {
            "text/plain": [
              "0.734017363851618"
            ]
          },
          "metadata": {},
          "execution_count": 54
        }
      ],
      "source": [
        "accuracy_score(test2.label,test2.label_rf)      # RandomForest model"
      ]
    },
    {
      "cell_type": "code",
      "execution_count": 55,
      "metadata": {
        "colab": {
          "base_uri": "https://localhost:8080/"
        },
        "id": "xmfGFffJUdmH",
        "outputId": "b2ce5f68-ba37-4432-e3f8-41aadf92d5c1"
      },
      "outputs": [
        {
          "output_type": "stream",
          "name": "stdout",
          "text": [
            "              precision    recall  f1-score   support\n",
            "\n",
            "           0       0.69      0.86      0.76       634\n",
            "           1       0.81      0.61      0.70       633\n",
            "\n",
            "    accuracy                           0.73      1267\n",
            "   macro avg       0.75      0.73      0.73      1267\n",
            "weighted avg       0.75      0.73      0.73      1267\n",
            "\n"
          ]
        }
      ],
      "source": [
        "print(classification_report(test2.label,test2.label_rf))      # RandomForest model"
      ]
    },
    {
      "cell_type": "code",
      "execution_count": 56,
      "metadata": {
        "colab": {
          "base_uri": "https://localhost:8080/",
          "height": 328
        },
        "id": "Zv-cgCKBkRiN",
        "outputId": "83041265-449e-45e7-ebfd-93991c0c2709"
      },
      "outputs": [
        {
          "output_type": "stream",
          "name": "stdout",
          "text": [
            "Confusion matrix, without normalization\n"
          ]
        },
        {
          "output_type": "display_data",
          "data": {
            "text/plain": [
              "<Figure size 432x288 with 2 Axes>"
            ],
            "image/png": "[encoded data removed]"
          },
          "metadata": {
            "needs_background": "light"
          }
        }
      ],
      "source": [
        "cm2_rf = confusion_matrix(test2.label,test2.label_rf)       # RandomForest model\n",
        "plot_confusion_matrix(cm2_rf,classes=['True','Fake'])"
      ]
    },
    {
      "cell_type": "code",
      "execution_count": 57,
      "metadata": {
        "colab": {
          "base_uri": "https://localhost:8080/"
        },
        "id": "meWibnNFHr0K",
        "outputId": "5dbbe148-52c6-461a-c522-d75f65e0eb4e"
      },
      "outputs": [
        {
          "output_type": "execute_result",
          "data": {
            "text/plain": [
              "0.8571428571428571"
            ]
          },
          "metadata": {},
          "execution_count": 57
        }
      ],
      "source": [
        "accuracy_score(test2.label,test2.label_lr)      # Logistic Regression model"
      ]
    },
    {
      "cell_type": "code",
      "execution_count": 58,
      "metadata": {
        "colab": {
          "base_uri": "https://localhost:8080/"
        },
        "id": "4qTi4Bm-Icgp",
        "outputId": "77b87119-dbb8-4b28-e7be-ca0d1fc23b11"
      },
      "outputs": [
        {
          "output_type": "stream",
          "name": "stdout",
          "text": [
            "              precision    recall  f1-score   support\n",
            "\n",
            "           0       0.93      0.78      0.84       634\n",
            "           1       0.81      0.94      0.87       633\n",
            "\n",
            "    accuracy                           0.86      1267\n",
            "   macro avg       0.87      0.86      0.86      1267\n",
            "weighted avg       0.87      0.86      0.86      1267\n",
            "\n"
          ]
        }
      ],
      "source": [
        "print(classification_report(test2.label,test2.label_lr))      # Logistic Regression model"
      ]
    },
    {
      "cell_type": "code",
      "execution_count": 59,
      "metadata": {
        "colab": {
          "base_uri": "https://localhost:8080/",
          "height": 328
        },
        "id": "eTzWUx9okeQh",
        "outputId": "9793cc74-d00d-4722-b723-e0366b968248"
      },
      "outputs": [
        {
          "output_type": "stream",
          "name": "stdout",
          "text": [
            "Confusion matrix, without normalization\n"
          ]
        },
        {
          "output_type": "display_data",
          "data": {
            "text/plain": [
              "<Figure size 432x288 with 2 Axes>"
            ],
            "image/png": "[encoded data removed]"
          },
          "metadata": {
            "needs_background": "light"
          }
        }
      ],
      "source": [
        "cm2_lr = confusion_matrix(test2.label,test2.label_lr)     # Logistic Regression model\n",
        "plot_confusion_matrix(cm2_lr,classes=['True','Fake'])"
      ]
    },
    {
      "cell_type": "markdown",
      "metadata": {
        "id": "3uH45H8fk0uG"
      },
      "source": [
        "## <b> test3 </b>"
      ]
    },
    {
      "cell_type": "code",
      "execution_count": 60,
      "metadata": {
        "colab": {
          "base_uri": "https://localhost:8080/",
          "height": 580
        },
        "id": "U4TCu_9ugHW7",
        "outputId": "254abba0-637d-4182-c903-bc1059bdd063"
      },
      "outputs": [
        {
          "output_type": "execute_result",
          "data": {
            "text/plain": [
              "      unit_id                                              title  \\\n",
              "0  1965511144  Syrian Army Ambushes Kills 140 ISIL Terrorists...   \n",
              "1  1924058103    Suicide bomber targets Syrian wedding 20 killed   \n",
              "2  1923848183  12 civilians dead in Syrian raid on IS-held vi...   \n",
              "3  1924058150  6 civilians killed 35 injured in Assad regime ...   \n",
              "4  1923848174  Coalition air strikes Turkish army kill 8 IS g...   \n",
              "5  1924058078  At least 100 killed after bomb hits bus convoy...   \n",
              "6  1918150030  58 Killed in Suspected Gas Attack in Syrias Idlib   \n",
              "7  1965511142  Syrian Army Kills 15 Terrorists in Qalamoun Ad...   \n",
              "8  1926479296   ISIS attacks Kurdish-held town on Turkish border   \n",
              "9  1965495378  US Coalition Strike Accidentally Kills 18 Kurd...   \n",
              "\n",
              "                                                text         source  \\\n",
              "0  21-08-2014 Syrian Army Ambushes Kills 140 ISIL...          manar   \n",
              "1  3 Oct 2016 At least 20 people were killed and ...            trt   \n",
              "2  12 civilians dead in Syrian raid on IS-held vi...          ahram   \n",
              "3  Published April 26 2017 At least 6 civilians w...     dailysabah   \n",
              "4  Coalition air strikes Turkish army kill 8 IS g...          ahram   \n",
              "5  15 Apr 2017 The attack took place as thousands...            trt   \n",
              "6  Posted on April 4 2017 by Asharq Al-Awsat Engl...  asharqalawsat   \n",
              "7  29-08-2014 Syrian Army Kills 15 Terrorists in ...          manar   \n",
              "8  Saturday 27 February 2016 ISIS attacks Kurdish...        arabiya   \n",
              "9  13.04.2017) Get short URL Topic Operation to L...        sputnik   \n",
              "\n",
              "        date  location  label  label_rf  label_lr  \n",
              "0  8/21/2014     raqqa      0         0         0  \n",
              "1  10/3/2016   hasakeh      1         0         1  \n",
              "2  7/22/2015    aleppo      0         0         0  \n",
              "3  4/13/2017     idlib      1         0         1  \n",
              "4  7/10/2016  quneitra      0         0         0  \n",
              "5   4/2/2017    aleppo      1         0         1  \n",
              "6   4/4/2017     idlib      0         0         0  \n",
              "7  8/29/2014  damascus      0         0         1  \n",
              "8  2/27/2016     raqqa      1         0         0  \n",
              "9  4/13/2017     raqqa      0         1         1  "
            ],
            "text/html": [
              "\n",
              "  <div id=\"df-e1fa61d8-99f1-485b-82c9-bc82f7c86948\">\n",
              "    <div class=\"colab-df-container\">\n",
              "      <div>\n",
              "<style scoped>\n",
              "    .dataframe tbody tr th:only-of-type {\n",
              "        vertical-align: middle;\n",
              "    }\n",
              "\n",
              "    .dataframe tbody tr th {\n",
              "        vertical-align: top;\n",
              "    }\n",
              "\n",
              "    .dataframe thead th {\n",
              "        text-align: right;\n",
              "    }\n",
              "</style>\n",
              "<table border=\"1\" class=\"dataframe\">\n",
              "  <thead>\n",
              "    <tr style=\"text-align: right;\">\n",
              "      <th></th>\n",
              "      <th>unit_id</th>\n",
              "      <th>title</th>\n",
              "      <th>text</th>\n",
              "      <th>source</th>\n",
              "      <th>date</th>\n",
              "      <th>location</th>\n",
              "      <th>label</th>\n",
              "      <th>label_rf</th>\n",
              "      <th>label_lr</th>\n",
              "    </tr>\n",
              "  </thead>\n",
              "  <tbody>\n",
              "    <tr>\n",
              "      <th>0</th>\n",
              "      <td>1965511144</td>\n",
              "      <td>Syrian Army Ambushes Kills 140 ISIL Terrorists...</td>\n",
              "      <td>21-08-2014 Syrian Army Ambushes Kills 140 ISIL...</td>\n",
              "      <td>manar</td>\n",
              "      <td>8/21/2014</td>\n",
              "      <td>raqqa</td>\n",
              "      <td>0</td>\n",
              "      <td>0</td>\n",
              "      <td>0</td>\n",
              "    </tr>\n",
              "    <tr>\n",
              "      <th>1</th>\n",
              "      <td>1924058103</td>\n",
              "      <td>Suicide bomber targets Syrian wedding 20 killed</td>\n",
              "      <td>3 Oct 2016 At least 20 people were killed and ...</td>\n",
              "      <td>trt</td>\n",
              "      <td>10/3/2016</td>\n",
              "      <td>hasakeh</td>\n",
              "      <td>1</td>\n",
              "      <td>0</td>\n",
              "      <td>1</td>\n",
              "    </tr>\n",
              "    <tr>\n",
              "      <th>2</th>\n",
              "      <td>1923848183</td>\n",
              "      <td>12 civilians dead in Syrian raid on IS-held vi...</td>\n",
              "      <td>12 civilians dead in Syrian raid on IS-held vi...</td>\n",
              "      <td>ahram</td>\n",
              "      <td>7/22/2015</td>\n",
              "      <td>aleppo</td>\n",
              "      <td>0</td>\n",
              "      <td>0</td>\n",
              "      <td>0</td>\n",
              "    </tr>\n",
              "    <tr>\n",
              "      <th>3</th>\n",
              "      <td>1924058150</td>\n",
              "      <td>6 civilians killed 35 injured in Assad regime ...</td>\n",
              "      <td>Published April 26 2017 At least 6 civilians w...</td>\n",
              "      <td>dailysabah</td>\n",
              "      <td>4/13/2017</td>\n",
              "      <td>idlib</td>\n",
              "      <td>1</td>\n",
              "      <td>0</td>\n",
              "      <td>1</td>\n",
              "    </tr>\n",
              "    <tr>\n",
              "      <th>4</th>\n",
              "      <td>1923848174</td>\n",
              "      <td>Coalition air strikes Turkish army kill 8 IS g...</td>\n",
              "      <td>Coalition air strikes Turkish army kill 8 IS g...</td>\n",
              "      <td>ahram</td>\n",
              "      <td>7/10/2016</td>\n",
              "      <td>quneitra</td>\n",
              "      <td>0</td>\n",
              "      <td>0</td>\n",
              "      <td>0</td>\n",
              "    </tr>\n",
              "    <tr>\n",
              "      <th>5</th>\n",
              "      <td>1924058078</td>\n",
              "      <td>At least 100 killed after bomb hits bus convoy...</td>\n",
              "      <td>15 Apr 2017 The attack took place as thousands...</td>\n",
              "      <td>trt</td>\n",
              "      <td>4/2/2017</td>\n",
              "      <td>aleppo</td>\n",
              "      <td>1</td>\n",
              "      <td>0</td>\n",
              "      <td>1</td>\n",
              "    </tr>\n",
              "    <tr>\n",
              "      <th>6</th>\n",
              "      <td>1918150030</td>\n",
              "      <td>58 Killed in Suspected Gas Attack in Syrias Idlib</td>\n",
              "      <td>Posted on April 4 2017 by Asharq Al-Awsat Engl...</td>\n",
              "      <td>asharqalawsat</td>\n",
              "      <td>4/4/2017</td>\n",
              "      <td>idlib</td>\n",
              "      <td>0</td>\n",
              "      <td>0</td>\n",
              "      <td>0</td>\n",
              "    </tr>\n",
              "    <tr>\n",
              "      <th>7</th>\n",
              "      <td>1965511142</td>\n",
              "      <td>Syrian Army Kills 15 Terrorists in Qalamoun Ad...</td>\n",
              "      <td>29-08-2014 Syrian Army Kills 15 Terrorists in ...</td>\n",
              "      <td>manar</td>\n",
              "      <td>8/29/2014</td>\n",
              "      <td>damascus</td>\n",
              "      <td>0</td>\n",
              "      <td>0</td>\n",
              "      <td>1</td>\n",
              "    </tr>\n",
              "    <tr>\n",
              "      <th>8</th>\n",
              "      <td>1926479296</td>\n",
              "      <td>ISIS attacks Kurdish-held town on Turkish border</td>\n",
              "      <td>Saturday 27 February 2016 ISIS attacks Kurdish...</td>\n",
              "      <td>arabiya</td>\n",
              "      <td>2/27/2016</td>\n",
              "      <td>raqqa</td>\n",
              "      <td>1</td>\n",
              "      <td>0</td>\n",
              "      <td>0</td>\n",
              "    </tr>\n",
              "    <tr>\n",
              "      <th>9</th>\n",
              "      <td>1965495378</td>\n",
              "      <td>US Coalition Strike Accidentally Kills 18 Kurd...</td>\n",
              "      <td>13.04.2017) Get short URL Topic Operation to L...</td>\n",
              "      <td>sputnik</td>\n",
              "      <td>4/13/2017</td>\n",
              "      <td>raqqa</td>\n",
              "      <td>0</td>\n",
              "      <td>1</td>\n",
              "      <td>1</td>\n",
              "    </tr>\n",
              "  </tbody>\n",
              "</table>\n",
              "</div>\n",
              "      <button class=\"colab-df-convert\" onclick=\"convertToInteractive('df-e1fa61d8-99f1-485b-82c9-bc82f7c86948')\"\n",
              "              title=\"Convert this dataframe to an interactive table.\"\n",
              "              style=\"display:none;\">\n",
              "        \n",
              "  <svg xmlns=\"http://www.w3.org/2000/svg\" height=\"24px\"viewBox=\"0 0 24 24\"\n",
              "       width=\"24px\">\n",
              "    <path d=\"M0 0h24v24H0V0z\" fill=\"none\"/>\n",
              "    <path d=\"M18.56 5.44l.94 2.06.94-2.06 2.06-.94-2.06-.94-.94-2.06-.94 2.06-2.06.94zm-11 1L8.5 8.5l.94-2.06 2.06-.94-2.06-.94L8.5 2.5l-.94 2.06-2.06.94zm10 10l.94 2.06.94-2.06 2.06-.94-2.06-.94-.94-2.06-.94 2.06-2.06.94z\"/><path d=\"M17.41 7.96l-1.37-1.37c-.4-.4-.92-.59-1.43-.59-.52 0-1.04.2-1.43.59L10.3 9.45l-7.72 7.72c-.78.78-.78 2.05 0 2.83L4 21.41c.39.39.9.59 1.41.59.51 0 1.02-.2 1.41-.59l7.78-7.78 2.81-2.81c.8-.78.8-2.07 0-2.86zM5.41 20L4 18.59l7.72-7.72 1.47 1.35L5.41 20z\"/>\n",
              "  </svg>\n",
              "      </button>\n",
              "      \n",
              "  <style>\n",
              "    .colab-df-container {\n",
              "      display:flex;\n",
              "      flex-wrap:wrap;\n",
              "      gap: 12px;\n",
              "    }\n",
              "\n",
              "    .colab-df-convert {\n",
              "      background-color: #E8F0FE;\n",
              "      border: none;\n",
              "      border-radius: 50%;\n",
              "      cursor: pointer;\n",
              "      display: none;\n",
              "      fill: #1967D2;\n",
              "      height: 32px;\n",
              "      padding: 0 0 0 0;\n",
              "      width: 32px;\n",
              "    }\n",
              "\n",
              "    .colab-df-convert:hover {\n",
              "      background-color: #E2EBFA;\n",
              "      box-shadow: 0px 1px 2px rgba(60, 64, 67, 0.3), 0px 1px 3px 1px rgba(60, 64, 67, 0.15);\n",
              "      fill: #174EA6;\n",
              "    }\n",
              "\n",
              "    [theme=dark] .colab-df-convert {\n",
              "      background-color: #3B4455;\n",
              "      fill: #D2E3FC;\n",
              "    }\n",
              "\n",
              "    [theme=dark] .colab-df-convert:hover {\n",
              "      background-color: #434B5C;\n",
              "      box-shadow: 0px 1px 3px 1px rgba(0, 0, 0, 0.15);\n",
              "      filter: drop-shadow(0px 1px 2px rgba(0, 0, 0, 0.3));\n",
              "      fill: #FFFFFF;\n",
              "    }\n",
              "  </style>\n",
              "\n",
              "      <script>\n",
              "        const buttonEl =\n",
              "          document.querySelector('#df-e1fa61d8-99f1-485b-82c9-bc82f7c86948 button.colab-df-convert');\n",
              "        buttonEl.style.display =\n",
              "          google.colab.kernel.accessAllowed ? 'block' : 'none';\n",
              "\n",
              "        async function convertToInteractive(key) {\n",
              "          const element = document.querySelector('#df-e1fa61d8-99f1-485b-82c9-bc82f7c86948');\n",
              "          const dataTable =\n",
              "            await google.colab.kernel.invokeFunction('convertToInteractive',\n",
              "                                                     [key], {});\n",
              "          if (!dataTable) return;\n",
              "\n",
              "          const docLinkHtml = 'Like what you see? Visit the ' +\n",
              "            '<a target=\"_blank\" href=https://colab.research.google.com/notebooks/data_table.ipynb>data table notebook</a>'\n",
              "            + ' to learn more about interactive tables.';\n",
              "          element.innerHTML = '';\n",
              "          dataTable['output_type'] = 'display_data';\n",
              "          await google.colab.output.renderOutput(dataTable, element);\n",
              "          const docLink = document.createElement('div');\n",
              "          docLink.innerHTML = docLinkHtml;\n",
              "          element.appendChild(docLink);\n",
              "        }\n",
              "      </script>\n",
              "    </div>\n",
              "  </div>\n",
              "  "
            ]
          },
          "metadata": {},
          "execution_count": 60
        }
      ],
      "source": [
        "test3 = test3.dropna().reset_index(drop=True)\n",
        "test3.drop('labels', axis=1, inplace=True)\n",
        "X3 = test3.text.values\n",
        "X3_tfidf = tfidf_v.transform(X3).toarray()\n",
        "test3['label_rf'] = rf_clf.predict(X3_tfidf)      # RandomForest model\n",
        "test3['label_lr'] = lr.predict(X3_tfidf)          # Logistic Regression model\n",
        "test3.head(10)"
      ]
    },
    {
      "cell_type": "code",
      "execution_count": 61,
      "metadata": {
        "colab": {
          "base_uri": "https://localhost:8080/"
        },
        "id": "XPdngZHBmHGe",
        "outputId": "c56c6b40-734a-4a84-a20c-35e332602456"
      },
      "outputs": [
        {
          "output_type": "execute_result",
          "data": {
            "text/plain": [
              "0.5031055900621118"
            ]
          },
          "metadata": {},
          "execution_count": 61
        }
      ],
      "source": [
        "accuracy_score(test3.label,test3.label_rf)      # RandomForest model"
      ]
    },
    {
      "cell_type": "code",
      "execution_count": 62,
      "metadata": {
        "colab": {
          "base_uri": "https://localhost:8080/"
        },
        "id": "L1jCPQzenbwh",
        "outputId": "4d47e657-bdea-4b68-adb9-2bc902bdde06"
      },
      "outputs": [
        {
          "output_type": "stream",
          "name": "stdout",
          "text": [
            "              precision    recall  f1-score   support\n",
            "\n",
            "           0       0.52      0.93      0.66        85\n",
            "           1       0.25      0.03      0.05        76\n",
            "\n",
            "    accuracy                           0.50       161\n",
            "   macro avg       0.38      0.48      0.36       161\n",
            "weighted avg       0.39      0.50      0.37       161\n",
            "\n"
          ]
        }
      ],
      "source": [
        "print(classification_report(test3.label,test3.label_rf))      # RandomForest model"
      ]
    },
    {
      "cell_type": "code",
      "execution_count": 63,
      "metadata": {
        "colab": {
          "base_uri": "https://localhost:8080/",
          "height": 328
        },
        "id": "oL1bfuiinjmt",
        "outputId": "a42fe3ce-d3f4-4863-a2ea-e97b3a5c2c22"
      },
      "outputs": [
        {
          "output_type": "stream",
          "name": "stdout",
          "text": [
            "Confusion matrix, without normalization\n"
          ]
        },
        {
          "output_type": "display_data",
          "data": {
            "text/plain": [
              "<Figure size 432x288 with 2 Axes>"
            ],
            "image/png": "[encoded data removed]"
          },
          "metadata": {
            "needs_background": "light"
          }
        }
      ],
      "source": [
        "cm3_rf = confusion_matrix(test3.label,test3.label_rf)       # RandomForest model\n",
        "plot_confusion_matrix(cm3_rf,classes=['True','Fake'])"
      ]
    },
    {
      "cell_type": "code",
      "execution_count": 64,
      "metadata": {
        "id": "8JWcTOgLm9F4",
        "colab": {
          "base_uri": "https://localhost:8080/"
        },
        "outputId": "235ad250-c245-4f2b-b2cd-215d4d08d8bb"
      },
      "outputs": [
        {
          "output_type": "execute_result",
          "data": {
            "text/plain": [
              "0.5341614906832298"
            ]
          },
          "metadata": {},
          "execution_count": 64
        }
      ],
      "source": [
        "accuracy_score(test3.label,test3.label_lr)      # Logistic Regression model"
      ]
    },
    {
      "cell_type": "code",
      "execution_count": 65,
      "metadata": {
        "id": "AP6qR5OwnAO6",
        "colab": {
          "base_uri": "https://localhost:8080/"
        },
        "outputId": "c5229f3c-43df-4178-a4cc-e46dfc45b45b"
      },
      "outputs": [
        {
          "output_type": "stream",
          "name": "stdout",
          "text": [
            "              precision    recall  f1-score   support\n",
            "\n",
            "           0       0.55      0.61      0.58        85\n",
            "           1       0.51      0.45      0.48        76\n",
            "\n",
            "    accuracy                           0.53       161\n",
            "   macro avg       0.53      0.53      0.53       161\n",
            "weighted avg       0.53      0.53      0.53       161\n",
            "\n"
          ]
        }
      ],
      "source": [
        "print(classification_report(test3.label,test3.label_lr))      # Logistic Regression model"
      ]
    },
    {
      "cell_type": "code",
      "execution_count": 66,
      "metadata": {
        "id": "GTwlRsSLnYo7",
        "colab": {
          "base_uri": "https://localhost:8080/",
          "height": 328
        },
        "outputId": "a409b383-6a48-4209-cb84-2253bfe84bcc"
      },
      "outputs": [
        {
          "output_type": "stream",
          "name": "stdout",
          "text": [
            "Confusion matrix, without normalization\n"
          ]
        },
        {
          "output_type": "display_data",
          "data": {
            "text/plain": [
              "<Figure size 432x288 with 2 Axes>"
            ],
            "image/png": "[encoded data removed]"
          },
          "metadata": {
            "needs_background": "light"
          }
        }
      ],
      "source": [
        "cm3_lr = confusion_matrix(test3.label,test3.label_lr)       # Logistic Regression model\n",
        "plot_confusion_matrix(cm3_lr,classes=['True','Fake'])"
      ]
    },
    {
      "cell_type": "markdown",
      "metadata": {
        "id": "-SuS_PC5k4hw"
      },
      "source": [
        "## <b> test4 </b>"
      ]
    },
    {
      "cell_type": "code",
      "execution_count": 67,
      "metadata": {
        "id": "YXiXKXm_gnfI",
        "colab": {
          "base_uri": "https://localhost:8080/",
          "height": 493
        },
        "outputId": "76023849-63ec-4f14-9625-14ab5af47a7e"
      },
      "outputs": [
        {
          "output_type": "execute_result",
          "data": {
            "text/plain": [
              "                                               title  \\\n",
              "0  Republican Kasich suspends presidential campai...   \n",
              "1  Pope says his defense of Rohingya got through ...   \n",
              "2   Beatles Drummer Ringo Starr Will Not Perform ...   \n",
              "3   THIS Is Trump’s Definition Of ‘Fair’ Media Co...   \n",
              "4  FIND OUT IF YOUR SENATOR VOTED TO HELP OBAMA W...   \n",
              "5  Federal judges question intent behind North Ca...   \n",
              "6  Deadly U.S. raid may bolster Yemen's al Qaeda ...   \n",
              "7  UNHOLY ALLIANCE: Hillary Clinton’s Saudi Spons...   \n",
              "8  BREAKING FL VOTER FRAUD ALERT: “Tens Of Thousa...   \n",
              "9   Thin-Skinned Trump Whines About Election Resu...   \n",
              "\n",
              "                                                text          subject  \\\n",
              "0  WASHINGTON (Reuters) - Republican John Kasich ...     politicsNews   \n",
              "1  ABOARD THE PAPAL PLANE (Reuters) - Pope Franci...        worldnews   \n",
              "2  North Carolina Republicans who are fans of The...             News   \n",
              "3  Trump hates the media with a passion. He often...             News   \n",
              "4  Remember Joni Ernst? Conservatives were so exc...  Government News   \n",
              "5  WASHINGTON (Reuters) - Federal appeals court j...     politicsNews   \n",
              "6  DUBAI (Reuters) - A commando raid approved by ...     politicsNews   \n",
              "7   21st Century Wire says Amid the tossing and t...      Middle-east   \n",
              "8  https://twitter.com/TEN_GOP/status/79389017105...         politics   \n",
              "9  It s been two months since the 2016 Election t...             News   \n",
              "\n",
              "                date  label  label_rf  label_lr  \n",
              "0       May 4, 2016       0         0         0  \n",
              "1  December 2, 2017       0         0         0  \n",
              "2     April 14, 2016      1         1         1  \n",
              "3    August 17, 2016      1         1         1  \n",
              "4       Jun 23, 2015      1         0         1  \n",
              "5     June 21, 2016       0         0         0  \n",
              "6  February 2, 2017       0         0         0  \n",
              "7    August 26, 2016      1         1         1  \n",
              "8        Nov 2, 2016      1         1         1  \n",
              "9    January 2, 2017      1         1         1  "
            ],
            "text/html": [
              "\n",
              "  <div id=\"df-4dd8bbb5-b6de-4c24-8c4f-46f19d7751b9\">\n",
              "    <div class=\"colab-df-container\">\n",
              "      <div>\n",
              "<style scoped>\n",
              "    .dataframe tbody tr th:only-of-type {\n",
              "        vertical-align: middle;\n",
              "    }\n",
              "\n",
              "    .dataframe tbody tr th {\n",
              "        vertical-align: top;\n",
              "    }\n",
              "\n",
              "    .dataframe thead th {\n",
              "        text-align: right;\n",
              "    }\n",
              "</style>\n",
              "<table border=\"1\" class=\"dataframe\">\n",
              "  <thead>\n",
              "    <tr style=\"text-align: right;\">\n",
              "      <th></th>\n",
              "      <th>title</th>\n",
              "      <th>text</th>\n",
              "      <th>subject</th>\n",
              "      <th>date</th>\n",
              "      <th>label</th>\n",
              "      <th>label_rf</th>\n",
              "      <th>label_lr</th>\n",
              "    </tr>\n",
              "  </thead>\n",
              "  <tbody>\n",
              "    <tr>\n",
              "      <th>0</th>\n",
              "      <td>Republican Kasich suspends presidential campai...</td>\n",
              "      <td>WASHINGTON (Reuters) - Republican John Kasich ...</td>\n",
              "      <td>politicsNews</td>\n",
              "      <td>May 4, 2016</td>\n",
              "      <td>0</td>\n",
              "      <td>0</td>\n",
              "      <td>0</td>\n",
              "    </tr>\n",
              "    <tr>\n",
              "      <th>1</th>\n",
              "      <td>Pope says his defense of Rohingya got through ...</td>\n",
              "      <td>ABOARD THE PAPAL PLANE (Reuters) - Pope Franci...</td>\n",
              "      <td>worldnews</td>\n",
              "      <td>December 2, 2017</td>\n",
              "      <td>0</td>\n",
              "      <td>0</td>\n",
              "      <td>0</td>\n",
              "    </tr>\n",
              "    <tr>\n",
              "      <th>2</th>\n",
              "      <td>Beatles Drummer Ringo Starr Will Not Perform ...</td>\n",
              "      <td>North Carolina Republicans who are fans of The...</td>\n",
              "      <td>News</td>\n",
              "      <td>April 14, 2016</td>\n",
              "      <td>1</td>\n",
              "      <td>1</td>\n",
              "      <td>1</td>\n",
              "    </tr>\n",
              "    <tr>\n",
              "      <th>3</th>\n",
              "      <td>THIS Is Trump’s Definition Of ‘Fair’ Media Co...</td>\n",
              "      <td>Trump hates the media with a passion. He often...</td>\n",
              "      <td>News</td>\n",
              "      <td>August 17, 2016</td>\n",
              "      <td>1</td>\n",
              "      <td>1</td>\n",
              "      <td>1</td>\n",
              "    </tr>\n",
              "    <tr>\n",
              "      <th>4</th>\n",
              "      <td>FIND OUT IF YOUR SENATOR VOTED TO HELP OBAMA W...</td>\n",
              "      <td>Remember Joni Ernst? Conservatives were so exc...</td>\n",
              "      <td>Government News</td>\n",
              "      <td>Jun 23, 2015</td>\n",
              "      <td>1</td>\n",
              "      <td>0</td>\n",
              "      <td>1</td>\n",
              "    </tr>\n",
              "    <tr>\n",
              "      <th>5</th>\n",
              "      <td>Federal judges question intent behind North Ca...</td>\n",
              "      <td>WASHINGTON (Reuters) - Federal appeals court j...</td>\n",
              "      <td>politicsNews</td>\n",
              "      <td>June 21, 2016</td>\n",
              "      <td>0</td>\n",
              "      <td>0</td>\n",
              "      <td>0</td>\n",
              "    </tr>\n",
              "    <tr>\n",
              "      <th>6</th>\n",
              "      <td>Deadly U.S. raid may bolster Yemen's al Qaeda ...</td>\n",
              "      <td>DUBAI (Reuters) - A commando raid approved by ...</td>\n",
              "      <td>politicsNews</td>\n",
              "      <td>February 2, 2017</td>\n",
              "      <td>0</td>\n",
              "      <td>0</td>\n",
              "      <td>0</td>\n",
              "    </tr>\n",
              "    <tr>\n",
              "      <th>7</th>\n",
              "      <td>UNHOLY ALLIANCE: Hillary Clinton’s Saudi Spons...</td>\n",
              "      <td>21st Century Wire says Amid the tossing and t...</td>\n",
              "      <td>Middle-east</td>\n",
              "      <td>August 26, 2016</td>\n",
              "      <td>1</td>\n",
              "      <td>1</td>\n",
              "      <td>1</td>\n",
              "    </tr>\n",
              "    <tr>\n",
              "      <th>8</th>\n",
              "      <td>BREAKING FL VOTER FRAUD ALERT: “Tens Of Thousa...</td>\n",
              "      <td>https://twitter.com/TEN_GOP/status/79389017105...</td>\n",
              "      <td>politics</td>\n",
              "      <td>Nov 2, 2016</td>\n",
              "      <td>1</td>\n",
              "      <td>1</td>\n",
              "      <td>1</td>\n",
              "    </tr>\n",
              "    <tr>\n",
              "      <th>9</th>\n",
              "      <td>Thin-Skinned Trump Whines About Election Resu...</td>\n",
              "      <td>It s been two months since the 2016 Election t...</td>\n",
              "      <td>News</td>\n",
              "      <td>January 2, 2017</td>\n",
              "      <td>1</td>\n",
              "      <td>1</td>\n",
              "      <td>1</td>\n",
              "    </tr>\n",
              "  </tbody>\n",
              "</table>\n",
              "</div>\n",
              "      <button class=\"colab-df-convert\" onclick=\"convertToInteractive('df-4dd8bbb5-b6de-4c24-8c4f-46f19d7751b9')\"\n",
              "              title=\"Convert this dataframe to an interactive table.\"\n",
              "              style=\"display:none;\">\n",
              "        \n",
              "  <svg xmlns=\"http://www.w3.org/2000/svg\" height=\"24px\"viewBox=\"0 0 24 24\"\n",
              "       width=\"24px\">\n",
              "    <path d=\"M0 0h24v24H0V0z\" fill=\"none\"/>\n",
              "    <path d=\"M18.56 5.44l.94 2.06.94-2.06 2.06-.94-2.06-.94-.94-2.06-.94 2.06-2.06.94zm-11 1L8.5 8.5l.94-2.06 2.06-.94-2.06-.94L8.5 2.5l-.94 2.06-2.06.94zm10 10l.94 2.06.94-2.06 2.06-.94-2.06-.94-.94-2.06-.94 2.06-2.06.94z\"/><path d=\"M17.41 7.96l-1.37-1.37c-.4-.4-.92-.59-1.43-.59-.52 0-1.04.2-1.43.59L10.3 9.45l-7.72 7.72c-.78.78-.78 2.05 0 2.83L4 21.41c.39.39.9.59 1.41.59.51 0 1.02-.2 1.41-.59l7.78-7.78 2.81-2.81c.8-.78.8-2.07 0-2.86zM5.41 20L4 18.59l7.72-7.72 1.47 1.35L5.41 20z\"/>\n",
              "  </svg>\n",
              "      </button>\n",
              "      \n",
              "  <style>\n",
              "    .colab-df-container {\n",
              "      display:flex;\n",
              "      flex-wrap:wrap;\n",
              "      gap: 12px;\n",
              "    }\n",
              "\n",
              "    .colab-df-convert {\n",
              "      background-color: #E8F0FE;\n",
              "      border: none;\n",
              "      border-radius: 50%;\n",
              "      cursor: pointer;\n",
              "      display: none;\n",
              "      fill: #1967D2;\n",
              "      height: 32px;\n",
              "      padding: 0 0 0 0;\n",
              "      width: 32px;\n",
              "    }\n",
              "\n",
              "    .colab-df-convert:hover {\n",
              "      background-color: #E2EBFA;\n",
              "      box-shadow: 0px 1px 2px rgba(60, 64, 67, 0.3), 0px 1px 3px 1px rgba(60, 64, 67, 0.15);\n",
              "      fill: #174EA6;\n",
              "    }\n",
              "\n",
              "    [theme=dark] .colab-df-convert {\n",
              "      background-color: #3B4455;\n",
              "      fill: #D2E3FC;\n",
              "    }\n",
              "\n",
              "    [theme=dark] .colab-df-convert:hover {\n",
              "      background-color: #434B5C;\n",
              "      box-shadow: 0px 1px 3px 1px rgba(0, 0, 0, 0.15);\n",
              "      filter: drop-shadow(0px 1px 2px rgba(0, 0, 0, 0.3));\n",
              "      fill: #FFFFFF;\n",
              "    }\n",
              "  </style>\n",
              "\n",
              "      <script>\n",
              "        const buttonEl =\n",
              "          document.querySelector('#df-4dd8bbb5-b6de-4c24-8c4f-46f19d7751b9 button.colab-df-convert');\n",
              "        buttonEl.style.display =\n",
              "          google.colab.kernel.accessAllowed ? 'block' : 'none';\n",
              "\n",
              "        async function convertToInteractive(key) {\n",
              "          const element = document.querySelector('#df-4dd8bbb5-b6de-4c24-8c4f-46f19d7751b9');\n",
              "          const dataTable =\n",
              "            await google.colab.kernel.invokeFunction('convertToInteractive',\n",
              "                                                     [key], {});\n",
              "          if (!dataTable) return;\n",
              "\n",
              "          const docLinkHtml = 'Like what you see? Visit the ' +\n",
              "            '<a target=\"_blank\" href=https://colab.research.google.com/notebooks/data_table.ipynb>data table notebook</a>'\n",
              "            + ' to learn more about interactive tables.';\n",
              "          element.innerHTML = '';\n",
              "          dataTable['output_type'] = 'display_data';\n",
              "          await google.colab.output.renderOutput(dataTable, element);\n",
              "          const docLink = document.createElement('div');\n",
              "          docLink.innerHTML = docLinkHtml;\n",
              "          element.appendChild(docLink);\n",
              "        }\n",
              "      </script>\n",
              "    </div>\n",
              "  </div>\n",
              "  "
            ]
          },
          "metadata": {},
          "execution_count": 67
        }
      ],
      "source": [
        "test4 = test4.dropna().reset_index(drop=True)\n",
        "X4 = test4.text.values\n",
        "X4_tfidf = tfidf_v.transform(X4).toarray()\n",
        "test4['label_rf'] = rf_clf.predict(X4_tfidf)      # RandomForest model\n",
        "test4['label_lr'] = lr.predict(X4_tfidf)          # Logistic Regression model\n",
        "test4.head(10)"
      ]
    },
    {
      "cell_type": "code",
      "execution_count": 68,
      "metadata": {
        "id": "6zM1hxBNhPYB",
        "colab": {
          "base_uri": "https://localhost:8080/"
        },
        "outputId": "670e0a43-a6aa-4dd9-e2c3-0724766b4f4c"
      },
      "outputs": [
        {
          "output_type": "execute_result",
          "data": {
            "text/plain": [
              "0.8989977728285078"
            ]
          },
          "metadata": {},
          "execution_count": 68
        }
      ],
      "source": [
        "accuracy_score(test4.label,test4.label_rf)      # RandomForest model"
      ]
    },
    {
      "cell_type": "code",
      "execution_count": 69,
      "metadata": {
        "id": "fDENSe82hbIi",
        "colab": {
          "base_uri": "https://localhost:8080/"
        },
        "outputId": "90c39971-e2a2-4bd4-b667-029a992b43a5"
      },
      "outputs": [
        {
          "output_type": "stream",
          "name": "stdout",
          "text": [
            "              precision    recall  f1-score   support\n",
            "\n",
            "           0       0.83      1.00      0.90      4284\n",
            "           1       1.00      0.81      0.89      4696\n",
            "\n",
            "    accuracy                           0.90      8980\n",
            "   macro avg       0.91      0.90      0.90      8980\n",
            "weighted avg       0.92      0.90      0.90      8980\n",
            "\n"
          ]
        }
      ],
      "source": [
        "print(classification_report(test4.label,test4.label_rf))      # RandomForest model"
      ]
    },
    {
      "cell_type": "code",
      "execution_count": 70,
      "metadata": {
        "id": "YsNsLGXphiS2",
        "colab": {
          "base_uri": "https://localhost:8080/",
          "height": 328
        },
        "outputId": "3a023e21-6db6-440b-8b5b-bb37f95b231e"
      },
      "outputs": [
        {
          "output_type": "stream",
          "name": "stdout",
          "text": [
            "Confusion matrix, without normalization\n"
          ]
        },
        {
          "output_type": "display_data",
          "data": {
            "text/plain": [
              "<Figure size 432x288 with 2 Axes>"
            ],
            "image/png": "[encoded data removed]"
          },
          "metadata": {
            "needs_background": "light"
          }
        }
      ],
      "source": [
        "cm4_rf = confusion_matrix(test4.label,test4.label_rf)       # RandomForest model\n",
        "plot_confusion_matrix(cm4_rf,classes=['True','Fake'])"
      ]
    },
    {
      "cell_type": "code",
      "execution_count": 71,
      "metadata": {
        "id": "Fz-2uoopi3WM",
        "colab": {
          "base_uri": "https://localhost:8080/"
        },
        "outputId": "d0752475-3e58-47ad-d215-8257b0d14261"
      },
      "outputs": [
        {
          "output_type": "execute_result",
          "data": {
            "text/plain": [
              "0.9697104677060133"
            ]
          },
          "metadata": {},
          "execution_count": 71
        }
      ],
      "source": [
        "accuracy_score(test4.label,test4.label_lr)      # Logistic Regression model"
      ]
    },
    {
      "cell_type": "code",
      "execution_count": 72,
      "metadata": {
        "id": "7zkTT4Ahi9KT",
        "colab": {
          "base_uri": "https://localhost:8080/"
        },
        "outputId": "0a945968-b124-464f-ecfc-c333979a8907"
      },
      "outputs": [
        {
          "output_type": "stream",
          "name": "stdout",
          "text": [
            "              precision    recall  f1-score   support\n",
            "\n",
            "           0       0.95      0.99      0.97      4284\n",
            "           1       0.99      0.95      0.97      4696\n",
            "\n",
            "    accuracy                           0.97      8980\n",
            "   macro avg       0.97      0.97      0.97      8980\n",
            "weighted avg       0.97      0.97      0.97      8980\n",
            "\n"
          ]
        }
      ],
      "source": [
        "print(classification_report(test4.label,test4.label_lr))      # Logistic Regression model"
      ]
    },
    {
      "cell_type": "code",
      "execution_count": 73,
      "metadata": {
        "id": "FsRXx9h1jDCj",
        "colab": {
          "base_uri": "https://localhost:8080/",
          "height": 328
        },
        "outputId": "e24c81b8-0e33-4c4c-9cb7-84ddf49b3a80"
      },
      "outputs": [
        {
          "output_type": "stream",
          "name": "stdout",
          "text": [
            "Confusion matrix, without normalization\n"
          ]
        },
        {
          "output_type": "display_data",
          "data": {
            "text/plain": [
              "<Figure size 432x288 with 2 Axes>"
            ],
            "image/png": "[encoded data removed]"
          },
          "metadata": {
            "needs_background": "light"
          }
        }
      ],
      "source": [
        "cm4_lr = confusion_matrix(test4.label,test4.label_lr)       # Logistic Regression model\n",
        "plot_confusion_matrix(cm4_lr,classes=['True','Fake'])"
      ]
    },
    {
      "cell_type": "markdown",
      "source": [
        "# <b> Conclusion </b>\n",
        "* ### <b> Logistic Regression model </b> is performing very well as compared to <b> Random Forest model </b>.\n",
        "* ### Whether it is accuracy, recall, precision or the f1-score, <b> Logistic Regression model </b> yields the best results."
      ],
      "metadata": {
        "id": "5fPwn-WCVU9n"
      }
    },
    {
      "cell_type": "markdown",
      "source": [
        "# <b> Use Cases </b>\n",
        "* ### The model can be deployed on fact checking websites and apps.\n",
        "* ### The model can also be implemented in chat-apps in the form of Bot accounts. "
      ],
      "metadata": {
        "id": "PyOOHTdJWLve"
      }
    }
  ],
  "metadata": {
    "colab": {
      "provenance": [],
      "authorship_tag": "ABX9TyO6O4Avpx1ftBMDiBlewu6x",
      "include_colab_link": true
    },
    "kernelspec": {
      "display_name": "Python 3",
      "name": "python3"
    },
    "language_info": {
      "name": "python"
    }
  },
  "nbformat": 4,
  "nbformat_minor": 0
}